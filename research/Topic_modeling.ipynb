{
 "cells": [
  {
   "cell_type": "code",
   "execution_count": 3,
   "id": "e4ad85d2",
   "metadata": {},
   "outputs": [
    {
     "name": "stderr",
     "output_type": "stream",
     "text": [
      "C:\\Users\\Danila\\anaconda3\\envs\\vkr\\lib\\site-packages\\ipykernel\\ipkernel.py:287: DeprecationWarning: `should_run_async` will not call `transform_cell` automatically in the future. Please pass the result to `transformed_cell` argument and any exception that happen during thetransform in `preprocessing_exc_tuple` in IPython 7.17 and above.\n",
      "  and should_run_async(code)\n"
     ]
    }
   ],
   "source": [
    "import collections\n",
    "import math\n",
    "import datetime\n",
    "from tqdm.notebook import trange, tqdm\n",
    "from sklearn.neighbors import NearestNeighbors\n",
    "from sklearn.feature_extraction.text import TfidfTransformer\n",
    "from sklearn.feature_extraction.text import CountVectorizer\n",
    "from sklearn.pipeline import Pipeline\n",
    "\n",
    "from numpy import dot\n",
    "from numpy.linalg import norm\n",
    "\n",
    "import collections\n",
    "\n",
    "import re\n",
    "import numpy as np\n",
    "import pandas as pd\n",
    "from pprint import pprint\n",
    "\n",
    "\n",
    "from pymorphy2 import MorphAnalyzer\n",
    "from nltk.corpus import stopwords\n",
    "# Gensim\n",
    "import gensim\n",
    "import gensim.corpora as corpora\n",
    "from gensim.utils import simple_preprocess\n",
    "from gensim.models import CoherenceModel\n",
    "import ml_metrics as metrics\n",
    "# spacy for lemmatization\n",
    "import spacy\n",
    "# Plotting tools\n",
    "import pyLDAvis\n",
    "import pyLDAvis.gensim_models as gensimvis # don't skip this\n",
    "import matplotlib.pyplot as plt\n",
    "%matplotlib inline"
   ]
  },
  {
   "cell_type": "code",
   "execution_count": 4,
   "id": "d8dde1ff",
   "metadata": {},
   "outputs": [
    {
     "name": "stderr",
     "output_type": "stream",
     "text": [
      "C:\\Users\\Danila\\anaconda3\\envs\\vkr\\lib\\site-packages\\ipykernel\\ipkernel.py:287: DeprecationWarning: `should_run_async` will not call `transform_cell` automatically in the future. Please pass the result to `transformed_cell` argument and any exception that happen during thetransform in `preprocessing_exc_tuple` in IPython 7.17 and above.\n",
      "  and should_run_async(code)\n"
     ]
    }
   ],
   "source": [
    "def create_category_vector(category_map, category_ids_str):\n",
    "    result = []\n",
    "    \n",
    "    category_ids = category_ids_str.split(':')\n",
    "    \n",
    "    for category in category_map:\n",
    "        if str(category) in category_ids:\n",
    "            result.append(1)\n",
    "        else:\n",
    "            result.append(0)\n",
    "            \n",
    "    return result"
   ]
  },
  {
   "cell_type": "code",
   "execution_count": 5,
   "id": "abfc4b59",
   "metadata": {},
   "outputs": [
    {
     "name": "stderr",
     "output_type": "stream",
     "text": [
      "C:\\Users\\Danila\\anaconda3\\envs\\vkr\\lib\\site-packages\\ipykernel\\ipkernel.py:287: DeprecationWarning: `should_run_async` will not call `transform_cell` automatically in the future. Please pass the result to `transformed_cell` argument and any exception that happen during thetransform in `preprocessing_exc_tuple` in IPython 7.17 and above.\n",
      "  and should_run_async(code)\n"
     ]
    }
   ],
   "source": [
    "cold_start_df = pd.read_csv('2021-04-17_09 15 39_cold_start_data.csv',encoding='cp1251')\n",
    "cold_start_df.columns = ['user_id', 'event_id', 'is_favorite', 'survey_time']\n",
    "\n",
    "events_df = pd.read_csv('2021-04-17_11 59 03_cold_start_events.csv', sep=';', encoding='cp1251')\n",
    "events_df.columns = ['id', 'short_title', 'start_date', 'description', 'is_free', 'place_id', 'place_short_title', 'category_ids', \n",
    "                    'category_names', 'category_slags']\n",
    "\n",
    "actual_events_df = events_df[events_df['id'].isin(cold_start_df['event_id'].unique())]\n",
    "\n",
    "event_id_name_dict = {k: v for k, v in actual_events_df[['id', 'short_title']].values}\n",
    "\n",
    "cold_start_df['event_name'] = [event_id_name_dict[event_id] for event_id in cold_start_df['event_id']]"
   ]
  },
  {
   "cell_type": "code",
   "execution_count": 6,
   "id": "9b605ab0",
   "metadata": {},
   "outputs": [
    {
     "name": "stderr",
     "output_type": "stream",
     "text": [
      "C:\\Users\\Danila\\anaconda3\\envs\\vkr\\lib\\site-packages\\ipykernel\\ipkernel.py:287: DeprecationWarning: `should_run_async` will not call `transform_cell` automatically in the future. Please pass the result to `transformed_cell` argument and any exception that happen during thetransform in `preprocessing_exc_tuple` in IPython 7.17 and above.\n",
      "  and should_run_async(code)\n",
      "<ipython-input-6-a3d7e253e67c>:12: SettingWithCopyWarning: \n",
      "A value is trying to be set on a copy of a slice from a DataFrame.\n",
      "Try using .loc[row_indexer,col_indexer] = value instead\n",
      "\n",
      "See the caveats in the documentation: https://pandas.pydata.org/pandas-docs/stable/user_guide/indexing.html#returning-a-view-versus-a-copy\n",
      "  actual_events_df['id'] = new_ids\n",
      "<ipython-input-6-a3d7e253e67c>:13: SettingWithCopyWarning: \n",
      "A value is trying to be set on a copy of a slice from a DataFrame.\n",
      "Try using .loc[row_indexer,col_indexer] = value instead\n",
      "\n",
      "See the caveats in the documentation: https://pandas.pydata.org/pandas-docs/stable/user_guide/indexing.html#returning-a-view-versus-a-copy\n",
      "  actual_events_df['start_date'] = new_dates\n"
     ]
    }
   ],
   "source": [
    "uniqual_events_and_dates_df = actual_events_df.groupby(['short_title'])['start_date'].max().reset_index(name='date')\n",
    "uniqual_events_and_dates_map = {name: (idx, date) for idx, (name, date) in enumerate(uniqual_events_and_dates_df[['short_title', 'date']].values)}\n",
    "\n",
    "new_ids = []\n",
    "new_dates = []\n",
    "\n",
    "for short_title in actual_events_df['short_title'].values:\n",
    "    new_id, new_date = uniqual_events_and_dates_map[short_title]\n",
    "    new_ids.append(new_id)\n",
    "    new_dates.append(new_date)\n",
    "    \n",
    "actual_events_df['id'] = new_ids\n",
    "actual_events_df['start_date'] = new_dates\n",
    "\n",
    "actual_events_df = actual_events_df.drop_duplicates(subset=['id', 'short_title', 'start_date'], keep='last')\n",
    "\n",
    "new_ids = []\n",
    "for event_name in cold_start_df['event_name'].values:\n",
    "    new_id, new_date = uniqual_events_and_dates_map[event_name]\n",
    "    new_ids.append(new_id)\n",
    "    \n",
    "cold_start_df['event_id'] = new_ids"
   ]
  },
  {
   "cell_type": "code",
   "execution_count": 7,
   "id": "dd79bd72",
   "metadata": {},
   "outputs": [
    {
     "name": "stderr",
     "output_type": "stream",
     "text": [
      "C:\\Users\\Danila\\anaconda3\\envs\\vkr\\lib\\site-packages\\ipykernel\\ipkernel.py:287: DeprecationWarning: `should_run_async` will not call `transform_cell` automatically in the future. Please pass the result to `transformed_cell` argument and any exception that happen during thetransform in `preprocessing_exc_tuple` in IPython 7.17 and above.\n",
      "  and should_run_async(code)\n"
     ]
    }
   ],
   "source": [
    "category_map = {}\n",
    "\n",
    "for category_ids_str, category_slags_str in actual_events_df.loc[:, ['category_ids', 'category_slags']].values:\n",
    "    \n",
    "    category_ids = category_ids_str.split(':')\n",
    "    category_slags = category_slags_str.split(':')\n",
    "    \n",
    "    for category_id, category_slag in zip(category_ids, category_slags):\n",
    "        category_map[int(category_id)] = category_slag \n",
    "        \n",
    "category_map = {k: v for k, v in sorted(category_map.items())}"
   ]
  },
  {
   "cell_type": "code",
   "execution_count": 8,
   "id": "c21391b7",
   "metadata": {},
   "outputs": [
    {
     "name": "stderr",
     "output_type": "stream",
     "text": [
      "C:\\Users\\Danila\\anaconda3\\envs\\vkr\\lib\\site-packages\\ipykernel\\ipkernel.py:287: DeprecationWarning: `should_run_async` will not call `transform_cell` automatically in the future. Please pass the result to `transformed_cell` argument and any exception that happen during thetransform in `preprocessing_exc_tuple` in IPython 7.17 and above.\n",
      "  and should_run_async(code)\n"
     ]
    }
   ],
   "source": [
    "category_vectors = []\n",
    "\n",
    "for category_ids_str in actual_events_df.loc[:, ['category_ids']].values:\n",
    "    category_vectors.append(create_category_vector(category_map, category_ids_str[0]))\n",
    "\n",
    "category_vectors_columns = [f'category_{v}' for v in category_map.values()]\n",
    "\n",
    "category_feactures_dict = collections.defaultdict(list)\n",
    "for idx, v in enumerate(category_map.values()):\n",
    "    category_feactures_dict[f'category_{v}'] = [cat_vector[idx] for cat_vector in category_vectors]"
   ]
  },
  {
   "cell_type": "code",
   "execution_count": 9,
   "id": "aff678f9",
   "metadata": {},
   "outputs": [
    {
     "name": "stderr",
     "output_type": "stream",
     "text": [
      "C:\\Users\\Danila\\anaconda3\\envs\\vkr\\lib\\site-packages\\ipykernel\\ipkernel.py:287: DeprecationWarning: `should_run_async` will not call `transform_cell` automatically in the future. Please pass the result to `transformed_cell` argument and any exception that happen during thetransform in `preprocessing_exc_tuple` in IPython 7.17 and above.\n",
      "  and should_run_async(code)\n"
     ]
    }
   ],
   "source": [
    "event_features_df = pd.DataFrame()\n",
    "\n",
    "event_features_df['id'] = actual_events_df['id']\n",
    "event_features_df['description'] = actual_events_df['description']\n",
    "\n",
    "for category, values in category_feactures_dict.items():\n",
    "    event_features_df[category] = values\n",
    "    \n",
    "event_features_df['is_free'] = [1 if is_free else 0 for is_free in actual_events_df['is_free']]\n",
    "\n",
    "event_features_df['weekday'] = [datetime.datetime.strptime(weekday, \"%Y-%m-%d\").date().weekday() + 1 for weekday in actual_events_df['start_date']]"
   ]
  },
  {
   "cell_type": "code",
   "execution_count": 10,
   "id": "541416bd",
   "metadata": {},
   "outputs": [
    {
     "name": "stderr",
     "output_type": "stream",
     "text": [
      "C:\\Users\\Danila\\anaconda3\\envs\\vkr\\lib\\site-packages\\ipykernel\\ipkernel.py:287: DeprecationWarning: `should_run_async` will not call `transform_cell` automatically in the future. Please pass the result to `transformed_cell` argument and any exception that happen during thetransform in `preprocessing_exc_tuple` in IPython 7.17 and above.\n",
      "  and should_run_async(code)\n"
     ]
    }
   ],
   "source": [
    "with open(\"all_desc.txt\", encoding='utf-8') as file:\n",
    "    all_description = file.read()\n",
    "\n",
    "event_features_df['all_description'] = all_description.replace('\\n', '').split(':::')"
   ]
  },
  {
   "cell_type": "markdown",
   "id": "0a4fc7a2",
   "metadata": {},
   "source": [
    "## Обработка данных"
   ]
  },
  {
   "cell_type": "code",
   "execution_count": 11,
   "id": "e67d3739",
   "metadata": {},
   "outputs": [
    {
     "name": "stderr",
     "output_type": "stream",
     "text": [
      "C:\\Users\\Danila\\anaconda3\\envs\\vkr\\lib\\site-packages\\ipykernel\\ipkernel.py:287: DeprecationWarning: `should_run_async` will not call `transform_cell` automatically in the future. Please pass the result to `transformed_cell` argument and any exception that happen during thetransform in `preprocessing_exc_tuple` in IPython 7.17 and above.\n",
      "  and should_run_async(code)\n"
     ]
    }
   ],
   "source": [
    "stop_words = stopwords.words(\"russian\")\n",
    "stop_words.extend(['сам', 'никто', 'никто', 'свой', 'имя', 'который', 'которой', 'около', 'петербург', 'это'])"
   ]
  },
  {
   "cell_type": "code",
   "execution_count": 12,
   "id": "6fad8ebb",
   "metadata": {},
   "outputs": [
    {
     "name": "stderr",
     "output_type": "stream",
     "text": [
      "C:\\Users\\Danila\\anaconda3\\envs\\vkr\\lib\\site-packages\\ipykernel\\ipkernel.py:287: DeprecationWarning: `should_run_async` will not call `transform_cell` automatically in the future. Please pass the result to `transformed_cell` argument and any exception that happen during thetransform in `preprocessing_exc_tuple` in IPython 7.17 and above.\n",
      "  and should_run_async(code)\n"
     ]
    }
   ],
   "source": [
    "def sent_to_words(sentences):\n",
    "    for sentence in sentences:\n",
    "        yield(gensim.utils.simple_preprocess(str(sentence), deacc=True))  # deacc=True removes\n",
    "        \n",
    "# Define functions for stopwords, bigrams, trigrams and lemmatization\n",
    "def remove_stopwords(texts):\n",
    "    return [[word for word in simple_preprocess(str(doc)) if word not in stop_words] for doc in texts]\n",
    "\n",
    "def make_bigrams(texts):\n",
    "    return [bigram_mod[doc] for doc in texts]\n",
    "\n",
    "def make_trigrams(texts):\n",
    "    return [trigram_mod[bigram_mod[doc]] for doc in texts]\n",
    "\n",
    "def lemmatization(texts):\n",
    "    texts_out = []\n",
    "    \n",
    "    for sent in texts: \n",
    "        texts_out.append([morph.normal_forms(word)[0] for word in sent if morph.normal_forms(word)[0] not in stop_words])\n",
    "        \n",
    "    return texts_out"
   ]
  },
  {
   "cell_type": "code",
   "execution_count": 17,
   "id": "dab41d19",
   "metadata": {},
   "outputs": [
    {
     "name": "stderr",
     "output_type": "stream",
     "text": [
      "C:\\Users\\Danila\\anaconda3\\envs\\vkr\\lib\\site-packages\\ipykernel\\ipkernel.py:287: DeprecationWarning: `should_run_async` will not call `transform_cell` automatically in the future. Please pass the result to `transformed_cell` argument and any exception that happen during thetransform in `preprocessing_exc_tuple` in IPython 7.17 and above.\n",
      "  and should_run_async(code)\n",
      "C:\\Users\\Danila\\anaconda3\\envs\\vkr\\lib\\site-packages\\pymorphy2\\units\\base.py:70: DeprecationWarning: inspect.getargspec() is deprecated since Python 3.0, use inspect.signature() or inspect.getfullargspec()\n",
      "  args, varargs, kw, default = inspect.getargspec(cls.__init__)\n",
      "C:\\Users\\Danila\\anaconda3\\envs\\vkr\\lib\\site-packages\\pymorphy2\\units\\base.py:70: DeprecationWarning: inspect.getargspec() is deprecated since Python 3.0, use inspect.signature() or inspect.getfullargspec()\n",
      "  args, varargs, kw, default = inspect.getargspec(cls.__init__)\n",
      "C:\\Users\\Danila\\anaconda3\\envs\\vkr\\lib\\site-packages\\pymorphy2\\units\\base.py:70: DeprecationWarning: inspect.getargspec() is deprecated since Python 3.0, use inspect.signature() or inspect.getfullargspec()\n",
      "  args, varargs, kw, default = inspect.getargspec(cls.__init__)\n",
      "C:\\Users\\Danila\\anaconda3\\envs\\vkr\\lib\\site-packages\\pymorphy2\\units\\base.py:70: DeprecationWarning: inspect.getargspec() is deprecated since Python 3.0, use inspect.signature() or inspect.getfullargspec()\n",
      "  args, varargs, kw, default = inspect.getargspec(cls.__init__)\n",
      "C:\\Users\\Danila\\anaconda3\\envs\\vkr\\lib\\site-packages\\pymorphy2\\units\\base.py:70: DeprecationWarning: inspect.getargspec() is deprecated since Python 3.0, use inspect.signature() or inspect.getfullargspec()\n",
      "  args, varargs, kw, default = inspect.getargspec(cls.__init__)\n",
      "C:\\Users\\Danila\\anaconda3\\envs\\vkr\\lib\\site-packages\\pymorphy2\\units\\base.py:70: DeprecationWarning: inspect.getargspec() is deprecated since Python 3.0, use inspect.signature() or inspect.getfullargspec()\n",
      "  args, varargs, kw, default = inspect.getargspec(cls.__init__)\n",
      "C:\\Users\\Danila\\anaconda3\\envs\\vkr\\lib\\site-packages\\pymorphy2\\units\\base.py:70: DeprecationWarning: inspect.getargspec() is deprecated since Python 3.0, use inspect.signature() or inspect.getfullargspec()\n",
      "  args, varargs, kw, default = inspect.getargspec(cls.__init__)\n",
      "C:\\Users\\Danila\\anaconda3\\envs\\vkr\\lib\\site-packages\\pymorphy2\\units\\base.py:70: DeprecationWarning: inspect.getargspec() is deprecated since Python 3.0, use inspect.signature() or inspect.getfullargspec()\n",
      "  args, varargs, kw, default = inspect.getargspec(cls.__init__)\n",
      "C:\\Users\\Danila\\anaconda3\\envs\\vkr\\lib\\site-packages\\pymorphy2\\units\\base.py:70: DeprecationWarning: inspect.getargspec() is deprecated since Python 3.0, use inspect.signature() or inspect.getfullargspec()\n",
      "  args, varargs, kw, default = inspect.getargspec(cls.__init__)\n",
      "C:\\Users\\Danila\\anaconda3\\envs\\vkr\\lib\\site-packages\\pymorphy2\\units\\base.py:70: DeprecationWarning: inspect.getargspec() is deprecated since Python 3.0, use inspect.signature() or inspect.getfullargspec()\n",
      "  args, varargs, kw, default = inspect.getargspec(cls.__init__)\n",
      "C:\\Users\\Danila\\anaconda3\\envs\\vkr\\lib\\site-packages\\pymorphy2\\units\\base.py:70: DeprecationWarning: inspect.getargspec() is deprecated since Python 3.0, use inspect.signature() or inspect.getfullargspec()\n",
      "  args, varargs, kw, default = inspect.getargspec(cls.__init__)\n",
      "C:\\Users\\Danila\\anaconda3\\envs\\vkr\\lib\\site-packages\\pymorphy2\\units\\base.py:70: DeprecationWarning: inspect.getargspec() is deprecated since Python 3.0, use inspect.signature() or inspect.getfullargspec()\n",
      "  args, varargs, kw, default = inspect.getargspec(cls.__init__)\n"
     ]
    }
   ],
   "source": [
    "descriptions = event_features_df['all_description'].values\n",
    "description_without_urls = [re.sub(r'https?:\\/\\/.*[\\r\\n]*', '', text, flags=re.MULTILINE) for text in descriptions]\n",
    "\n",
    "replaced_descriptions = [text.replace('Санкт-Петербург', 'Петербург') for text in description_without_urls]\n",
    "\n",
    "# Токенизация описаний и очистка текста\n",
    "description_words  = list(sent_to_words(replaced_descriptions))\n",
    "\n",
    "# Build the bigram and trigram models\n",
    "bigram = gensim.models.Phrases(description_words, min_count=5, threshold=100) # higher threshold fewer phrases.\n",
    "trigram = gensim.models.Phrases(bigram[description_words], threshold=100) \n",
    "\n",
    "bigram_mod = gensim.models.phrases.Phraser(bigram)\n",
    "trigram_mod = gensim.models.phrases.Phraser(trigram)\n",
    "\n",
    "# Form Bigrams\n",
    "description_words_bigrams = make_bigrams(description_words)\n",
    "\n",
    "morph = MorphAnalyzer()\n",
    "\n",
    "description_words_lemmatized = lemmatization(description_words_bigrams)"
   ]
  },
  {
   "cell_type": "code",
   "execution_count": 18,
   "id": "6a03dd09",
   "metadata": {},
   "outputs": [
    {
     "name": "stderr",
     "output_type": "stream",
     "text": [
      "C:\\Users\\Danila\\anaconda3\\envs\\vkr\\lib\\site-packages\\ipykernel\\ipkernel.py:287: DeprecationWarning: `should_run_async` will not call `transform_cell` automatically in the future. Please pass the result to `transformed_cell` argument and any exception that happen during thetransform in `preprocessing_exc_tuple` in IPython 7.17 and above.\n",
      "  and should_run_async(code)\n"
     ]
    }
   ],
   "source": [
    "# Create Dictionary\n",
    "id2word = corpora.Dictionary(description_words_lemmatized)\n",
    "\n",
    "# Create Corpus\n",
    "texts = description_words_lemmatized\n",
    "\n",
    "# Term Document Frequency\n",
    "corpus = [id2word.doc2bow(text) for text in texts]"
   ]
  },
  {
   "cell_type": "code",
   "execution_count": 19,
   "id": "f731f77c",
   "metadata": {},
   "outputs": [
    {
     "name": "stderr",
     "output_type": "stream",
     "text": [
      "C:\\Users\\Danila\\anaconda3\\envs\\vkr\\lib\\site-packages\\ipykernel\\ipkernel.py:287: DeprecationWarning: `should_run_async` will not call `transform_cell` automatically in the future. Please pass the result to `transformed_cell` argument and any exception that happen during thetransform in `preprocessing_exc_tuple` in IPython 7.17 and above.\n",
      "  and should_run_async(code)\n"
     ]
    }
   ],
   "source": [
    "new_description_corpus_lemmatized = []\n",
    "description_vocabulary_lemmatized = []\n",
    "for sent in description_words_lemmatized:\n",
    "    new_description_corpus_lemmatized.append(' '.join(sent))\n",
    "    description_vocabulary_lemmatized += sent\n",
    "\n",
    "description_vocabulary_lemmatized = set(description_vocabulary_lemmatized)"
   ]
  },
  {
   "cell_type": "code",
   "execution_count": 16,
   "id": "ccdf96e9",
   "metadata": {},
   "outputs": [
    {
     "name": "stderr",
     "output_type": "stream",
     "text": [
      "C:\\Users\\Danila\\anaconda3\\envs\\vkr\\lib\\site-packages\\ipykernel\\ipkernel.py:287: DeprecationWarning: `should_run_async` will not call `transform_cell` automatically in the future. Please pass the result to `transformed_cell` argument and any exception that happen during thetransform in `preprocessing_exc_tuple` in IPython 7.17 and above.\n",
      "  and should_run_async(code)\n"
     ]
    }
   ],
   "source": [
    "pipe = Pipeline([('count', CountVectorizer(vocabulary=description_vocabulary_lemmatized)), ('tfid', TfidfTransformer())]).fit(new_description_corpus_lemmatized)\n",
    "\n",
    "words_idf = pipe['tfid'].idf_\n",
    "description_vocabulary_idf = {word: idf for idf, word in zip(words_idf, description_vocabulary_lemmatized)}\n",
    "\n",
    "stop_words.extend(list({k: v for k, v in sorted(description_vocabulary_idf.items(), key=lambda item: item[1]) if v < 4.5}.keys()))"
   ]
  },
  {
   "cell_type": "markdown",
   "id": "4cd91b28",
   "metadata": {},
   "source": [
    "## Создания тематической модели"
   ]
  },
  {
   "cell_type": "code",
   "execution_count": 366,
   "id": "60b3eb76",
   "metadata": {},
   "outputs": [
    {
     "name": "stderr",
     "output_type": "stream",
     "text": [
      "C:\\Users\\Danila\\anaconda3\\envs\\vkr\\lib\\site-packages\\ipykernel\\ipkernel.py:287: DeprecationWarning: `should_run_async` will not call `transform_cell` automatically in the future. Please pass the result to `transformed_cell` argument and any exception that happen during thetransform in `preprocessing_exc_tuple` in IPython 7.17 and above.\n",
      "  and should_run_async(code)\n"
     ]
    }
   ],
   "source": [
    "n_topics_list = list(range(5, 20))\n",
    "coherence_ldas = []\n",
    "\n",
    "for n_topics in n_topics_list:\n",
    "    lda_model = gensim.models.ldamodel.LdaModel(corpus=corpus,\n",
    "                                           id2word=id2word,\n",
    "                                           num_topics=n_topics, \n",
    "                                           random_state=100,\n",
    "                                           update_every=1,\n",
    "                                           chunksize=10,\n",
    "                                           passes=10,\n",
    "                                           alpha='auto',\n",
    "                                           per_word_topics=True)\n",
    "    \n",
    "    coherence_model_lda = CoherenceModel(model=lda_model, texts=description_words_lemmatized, dictionary=id2word, coherence='c_v')\n",
    "    coherence_ldas.append(coherence_model_lda.get_coherence())"
   ]
  },
  {
   "cell_type": "code",
   "execution_count": 367,
   "id": "2bb58d6b",
   "metadata": {},
   "outputs": [
    {
     "name": "stderr",
     "output_type": "stream",
     "text": [
      "C:\\Users\\Danila\\anaconda3\\envs\\vkr\\lib\\site-packages\\ipykernel\\ipkernel.py:287: DeprecationWarning: `should_run_async` will not call `transform_cell` automatically in the future. Please pass the result to `transformed_cell` argument and any exception that happen during thetransform in `preprocessing_exc_tuple` in IPython 7.17 and above.\n",
      "  and should_run_async(code)\n"
     ]
    },
    {
     "data": {
      "image/png": "[encoded data removed]",
      "text/plain": [
       "<Figure size 432x288 with 1 Axes>"
      ]
     },
     "metadata": {
      "needs_background": "light"
     },
     "output_type": "display_data"
    }
   ],
   "source": [
    "# plot line with x-axis, y-axis and title\n",
    "plt.plot(n_topics_list, coherence_ldas)\n",
    "plt.title(\"оптимальное количество тем для LDA\")\n",
    "plt.xlabel(\"Количество тем\")\n",
    "plt.ylabel(\"Согласованность\")\n",
    "plt.show()"
   ]
  },
  {
   "cell_type": "code",
   "execution_count": 61,
   "id": "306387c1",
   "metadata": {},
   "outputs": [
    {
     "name": "stderr",
     "output_type": "stream",
     "text": [
      "C:\\Users\\Danila\\anaconda3\\envs\\vkr\\lib\\site-packages\\ipykernel\\ipkernel.py:287: DeprecationWarning: `should_run_async` will not call `transform_cell` automatically in the future. Please pass the result to `transformed_cell` argument and any exception that happen during thetransform in `preprocessing_exc_tuple` in IPython 7.17 and above.\n",
      "  and should_run_async(code)\n"
     ]
    }
   ],
   "source": [
    "lda_model = gensim.models.ldamodel.LdaModel(corpus=corpus,\n",
    "                                           id2word=id2word,\n",
    "                                           num_topics=10, \n",
    "                                           random_state=100,\n",
    "                                           update_every=1,\n",
    "                                           chunksize=12,\n",
    "                                           passes=10,\n",
    "                                           alpha='auto',\n",
    "                                           per_word_topics=True)"
   ]
  },
  {
   "cell_type": "code",
   "execution_count": 62,
   "id": "386f6e65",
   "metadata": {},
   "outputs": [
    {
     "name": "stderr",
     "output_type": "stream",
     "text": [
      "C:\\Users\\Danila\\anaconda3\\envs\\vkr\\lib\\site-packages\\ipykernel\\ipkernel.py:287: DeprecationWarning: `should_run_async` will not call `transform_cell` automatically in the future. Please pass the result to `transformed_cell` argument and any exception that happen during thetransform in `preprocessing_exc_tuple` in IPython 7.17 and above.\n",
      "  and should_run_async(code)\n"
     ]
    },
    {
     "data": {
      "text/plain": [
       "[(0,\n",
       "  '0.024*\"экскурсия\" + 0.017*\"дворец\" + 0.016*\"город\" + 0.015*\"самый\" + 0.014*\"крыша\" + 0.012*\"увидеть\" + 0.012*\"время\" + 0.012*\"история\" + 0.012*\"также\" + 0.012*\"всё\"'),\n",
       " (1,\n",
       "  '0.045*\"год\" + 0.015*\"программа\" + 0.011*\"сергей\" + 0.011*\"стать\" + 0.010*\"новый\" + 0.009*\"яркий\" + 0.009*\"концерт\" + 0.009*\"поклонник\" + 0.009*\"мир\" + 0.008*\"не_только\"'),\n",
       " (2,\n",
       "  '0.026*\"мастер\" + 0.017*\"объединять\" + 0.016*\"собои\" + 0.015*\"смысл\" + 0.015*\"образ\" + 0.011*\"экспозиция\" + 0.010*\"давать\" + 0.009*\"момент\" + 0.006*\"последний\" + 0.006*\"культовый\"'),\n",
       " (3,\n",
       "  '0.000*\"портал\" + 0.000*\"плод\" + 0.000*\"соавтор\" + 0.000*\"серый\" + 0.000*\"самарканд\" + 0.000*\"религия\" + 0.000*\"сталин\" + 0.000*\"польско\" + 0.000*\"немец\" + 0.000*\"освятить\"'),\n",
       " (4,\n",
       "  '0.022*\"питерский\" + 0.012*\"улица\" + 0.011*\"удивительный\" + 0.011*\"стиль\" + 0.008*\"современный\" + 0.008*\"загадочный\" + 0.007*\"модерн\" + 0.007*\"рассказать\" + 0.007*\"архитектура\" + 0.007*\"основание\"'),\n",
       " (5,\n",
       "  '0.026*\"группа\" + 0.022*\"рок\" + 0.021*\"концерт\" + 0.015*\"оркестр\" + 0.013*\"театр\" + 0.013*\"дмитрий\" + 0.012*\"исполнить\" + 0.012*\"прозвучать\" + 0.011*\"вечер\" + 0.011*\"готовиться\"'),\n",
       " (6,\n",
       "  '0.000*\"портал\" + 0.000*\"плод\" + 0.000*\"соавтор\" + 0.000*\"серый\" + 0.000*\"самарканд\" + 0.000*\"религия\" + 0.000*\"сталин\" + 0.000*\"польско\" + 0.000*\"немец\" + 0.000*\"освятить\"'),\n",
       " (7,\n",
       "  '0.016*\"песня\" + 0.013*\"представить\" + 0.011*\"концертный\" + 0.011*\"команда\" + 0.010*\"альбом\" + 0.009*\"страна\" + 0.009*\"шоу\" + 0.009*\"творчество\" + 0.008*\"клубе_космонавт\" + 0.007*\"публика\"'),\n",
       " (8,\n",
       "  '0.038*\"клуб\" + 0.033*\"полный\" + 0.023*\"сольный\" + 0.013*\"драив\" + 0.011*\"путешествие\" + 0.011*\"живой\" + 0.007*\"ожидать\" + 0.007*\"хоп\" + 0.007*\"способ\" + 0.007*\"коллега\"'),\n",
       " (9,\n",
       "  '0.035*\"участник\" + 0.031*\"прогулка\" + 0.011*\"подняться\" + 0.010*\"петропавловскои_крепость\" + 0.010*\"рассказать\" + 0.010*\"случай\" + 0.009*\"открыться\" + 0.009*\"услышать\" + 0.009*\"жить\" + 0.009*\"маршрут\"')]"
      ]
     },
     "execution_count": 62,
     "metadata": {},
     "output_type": "execute_result"
    }
   ],
   "source": [
    "lda_model.print_topics()"
   ]
  },
  {
   "cell_type": "code",
   "execution_count": 63,
   "id": "1c052951",
   "metadata": {},
   "outputs": [
    {
     "name": "stderr",
     "output_type": "stream",
     "text": [
      "C:\\Users\\Danila\\anaconda3\\envs\\vkr\\lib\\site-packages\\ipykernel\\ipkernel.py:287: DeprecationWarning: `should_run_async` will not call `transform_cell` automatically in the future. Please pass the result to `transformed_cell` argument and any exception that happen during thetransform in `preprocessing_exc_tuple` in IPython 7.17 and above.\n",
      "  and should_run_async(code)\n"
     ]
    },
    {
     "name": "stdout",
     "output_type": "stream",
     "text": [
      "\n",
      "Coherence Score:  0.42759538478129383\n"
     ]
    }
   ],
   "source": [
    "# Compute Coherence Score\n",
    "coherence_model_lda = CoherenceModel(model=lda_model, texts=description_words_lemmatized, dictionary=id2word, coherence='c_v')\n",
    "coherence_lda = coherence_model_lda.get_coherence()\n",
    "print('\\nCoherence Score: ', coherence_lda)"
   ]
  },
  {
   "cell_type": "code",
   "execution_count": 64,
   "id": "8b15f6d1",
   "metadata": {},
   "outputs": [
    {
     "name": "stderr",
     "output_type": "stream",
     "text": [
      "C:\\Users\\Danila\\anaconda3\\envs\\vkr\\lib\\site-packages\\ipykernel\\ipkernel.py:287: DeprecationWarning: `should_run_async` will not call `transform_cell` automatically in the future. Please pass the result to `transformed_cell` argument and any exception that happen during thetransform in `preprocessing_exc_tuple` in IPython 7.17 and above.\n",
      "  and should_run_async(code)\n"
     ]
    },
    {
     "data": {
      "text/html": [
       "\n",
       "<link rel=\"stylesheet\" type=\"text/css\" href=\"https://cdn.jsdelivr.net/gh/bmabey/pyLDAvis@3.3.1/pyLDAvis/js/ldavis.v1.0.0.css\">\n",
       "\n",
       "\n",
       "<div id=\"ldavis_el3708818410653113608761643395\"></div>\n",
       "<script type=\"text/javascript\">\n",
       "\n",
       "var ldavis_el3708818410653113608761643395_data = {\"mdsDat\": {\"x\": [0.26876881819748694, 0.09102601784124634, -0.1455343036237217, -0.013425303282177148, -0.13129828052966755, -0.021414164453045954, -0.017135358760842698, -0.014182314983427155, -0.008402555202925634, -0.00840255520292564], \"y\": [-0.058674824326741926, 0.08909152691319866, -0.22939115619923814, 0.006006075229115834, 0.19513185975824682, 0.0032497965267609293, 1.238534854762622e-05, -0.0002352369438558923, -0.002595213153016726, -0.002595213153016861], \"topics\": [1, 2, 3, 4, 5, 6, 7, 8, 9, 10], \"cluster\": [1, 1, 1, 1, 1, 1, 1, 1, 1, 1], \"Freq\": [33.54579228687042, 20.1557386197012, 17.192325089137775, 10.48736918963463, 9.992714121691295, 3.1446661931078403, 3.0438855147521546, 2.4095156010546788, 0.014192337735480546, 0.013801046314521382]}, \"tinfo\": {\"Term\": [\"\\u0433\\u043e\\u0434\", \"\\u044d\\u043a\\u0441\\u043a\\u0443\\u0440\\u0441\\u0438\\u044f\", \"\\u0443\\u0447\\u0430\\u0441\\u0442\\u043d\\u0438\\u043a\", \"\\u043f\\u0440\\u043e\\u0433\\u0443\\u043b\\u043a\\u0430\", \"\\u0433\\u0440\\u0443\\u043f\\u043f\\u0430\", \"\\u0434\\u0432\\u043e\\u0440\\u0435\\u0446\", \"\\u043a\\u043e\\u043d\\u0446\\u0435\\u0440\\u0442\", \"\\u0441\\u0430\\u043c\\u044b\\u0439\", \"\\u0433\\u043e\\u0440\\u043e\\u0434\", \"\\u0440\\u043e\\u043a\", \"\\u043a\\u0440\\u044b\\u0448\\u0430\", \"\\u043f\\u0435\\u0441\\u043d\\u044f\", \"\\u0443\\u0432\\u0438\\u0434\\u0435\\u0442\\u044c\", \"\\u043a\\u043b\\u0443\\u0431\", \"\\u0438\\u0441\\u0442\\u043e\\u0440\\u0438\\u044f\", \"\\u043f\\u0440\\u043e\\u0433\\u0440\\u0430\\u043c\\u043c\\u0430\", \"\\u043f\\u043e\\u043b\\u043d\\u044b\\u0439\", \"\\u0441\\u0435\\u0440\\u0433\\u0435\\u0439\", \"\\u043f\\u0440\\u0435\\u0434\\u0441\\u0442\\u0430\\u0432\\u0438\\u0442\\u044c\", \"\\u0432\\u0440\\u0435\\u043c\\u044f\", \"\\u043e\\u0440\\u043a\\u0435\\u0441\\u0442\\u0440\", \"\\u0434\\u043e\\u043c\", \"\\u0438\\u043c\\u0435\\u043d\\u043d\\u043e\", \"\\u0441\\u0442\\u0438\\u043b\\u044c\", \"\\u043d\\u043e\\u0432\\u044b\\u0439\", \"\\u043a\\u043e\\u043d\\u0446\\u0435\\u0440\\u0442\\u043d\\u044b\\u0439\", \"\\u043a\\u043e\\u043c\\u0430\\u043d\\u0434\\u0430\", \"\\u0441\\u0442\\u0430\\u0442\\u044c\", \"\\u0442\\u0435\\u0430\\u0442\\u0440\", \"\\u0434\\u043c\\u0438\\u0442\\u0440\\u0438\\u0439\", \"\\u044d\\u043a\\u0441\\u043a\\u0443\\u0440\\u0441\\u0438\\u044f\", \"\\u0434\\u0432\\u043e\\u0440\\u0435\\u0446\", \"\\u0441\\u0430\\u043c\\u044b\\u0439\", \"\\u043a\\u0440\\u044b\\u0448\\u0430\", \"\\u0443\\u0432\\u0438\\u0434\\u0435\\u0442\\u044c\", \"\\u0438\\u0441\\u0442\\u043e\\u0440\\u0438\\u044f\", \"\\u0438\\u043c\\u0435\\u043d\\u043d\\u043e\", \"\\u0441\\u043e\\u0431\\u043e\\u0440\", \"\\u043d\\u0430\\u0448\", \"\\u0437\\u0434\\u0430\\u043d\\u0438\\u0435\", \"\\u0433\\u0438\\u0434\", \"\\u0438\\u0441\\u0442\\u043e\\u0440\\u0438\\u0447\\u0435\\u0441\\u043a\\u0438\\u0439\", \"\\u043f\\u043e\\u0431\\u044b\\u0432\\u0430\\u0442\\u044c\", \"\\u043c\\u0443\\u0437\\u0435\\u0439\", \"\\u043f\\u043e\\u0441\\u0435\\u0442\\u0438\\u0442\\u044c\", \"\\u0432\\u0438\\u0434\", \"\\u043b\\u0435\\u0441\\u0442\\u043d\\u0438\\u0446\\u0430\", \"\\u0437\\u0430\\u0442\\u0435\\u043c\", \"\\u043f\\u0451\\u0442\\u0440\", \"\\u0447\\u0430\\u0441\", \"\\u0434\\u0432\\u043e\\u0440\", \"\\u043c\\u043d\\u043e\\u0433\\u0438\\u0435\", \"\\u043f\\u0440\\u043e\\u0432\\u0435\\u0441\\u0442\\u0438\", \"\\u044d\\u043a\\u0441\\u043a\\u0443\\u0440\\u0441\\u043e\\u0432\\u043e\\u0434\", \"\\u0432\\u043e_\\u0432\\u0440\\u0435\\u043c\\u044f\", \"\\u043f\\u043e\\u043b\\u0451\\u0442\", \"\\u0438\\u0441\\u0430\\u0430\\u043a\\u0438\\u0435\\u0432\\u0441\\u043a\\u0438\\u044f\", \"\\u0434\\u0435\\u043d\\u044c\", \"\\u043e\\u0442\\u043f\\u0440\\u0430\\u0432\\u0438\\u0442\\u044c\\u0441\\u044f\", \"\\u0432\\u044b\\u0441\\u043e\\u0442\\u0430\", \"\\u043c\\u0435\\u0441\\u0442\\u043e\", \"\\u0432\\u0440\\u0435\\u043c\\u044f\", \"\\u0433\\u043e\\u0440\\u043e\\u0434\", \"\\u0437\\u043d\\u0430\\u043c\\u0435\\u043d\\u0438\\u0442\\u044b\\u0439\", \"\\u0432\\u0441\\u0451\", \"\\u0442\\u0430\\u043a\\u0436\\u0435\", \"\\u043c\\u043e\\u0447\\u044c\", \"\\u0434\\u043e\\u043c\", \"\\u0445\\u043e\\u0440\\u043e\\u0448\\u0438\\u0439\", \"\\u0433\\u043e\\u0434\", \"\\u043f\\u0440\\u043e\\u0445\\u043e\\u0434\\u0438\\u0442\\u044c\", \"\\u0441\\u0435\\u0440\\u0433\\u0435\\u0439\", \"\\u043d\\u043e\\u0432\\u044b\\u0439\", \"\\u044f\\u0440\\u043a\\u0438\\u0439\", \"\\u043f\\u043e\\u043a\\u043b\\u043e\\u043d\\u043d\\u0438\\u043a\", \"\\u043d\\u0435_\\u0442\\u043e\\u043b\\u044c\\u043a\\u043e\", \"\\u043f\\u0440\\u043e\\u0434\\u043e\\u043b\\u0436\\u0430\\u0442\\u044c\", \"\\u0432\\u0435\\u043a\", \"\\u0446\\u0435\\u043d\\u0438\\u0442\\u0435\\u043b\\u0435\\u0439\", \"\\u0431\\u043e\\u0431\\u0443\\u043d\\u0435\\u0446\", \"\\u0433\\u0430\\u043b\\u043b\\u044e\\u0446\\u0438\\u043d\\u0430\\u0446\\u0438\\u044f\", \"\\u0443\\u043d\\u0438\\u043a\\u0430\\u043b\\u044c\\u043d\\u044b\\u0439\", \"\\u0432\\u043e\\u0437\\u043c\\u043e\\u0436\\u043d\\u043e\\u0441\\u0442\\u044c\", \"\\u0441\\u043e\\u0431\\u044b\\u0442\\u0438\\u0435\", \"\\u043d\\u0435\\u0441\\u043a\\u043e\\u043b\\u044c\\u043a\\u043e\", \"\\u0437\\u0432\\u0443\\u0447\\u0430\\u0442\\u044c\", \"\\u0436\\u0434\\u0430\\u0442\\u044c\", \"\\u0442\\u0432\\u043e\\u0440\\u0447\\u0435\\u0441\\u043a\\u0438\\u0439\", \"\\u0440\\u0443\\u0441\\u0441\\u043a\\u0438\\u0439\", \"\\u043f\\u043e\\u043b\\u0443\\u0447\\u0438\\u0442\\u044c\", \"\\u043f\\u0435\\u0440\\u0432\\u044b\\u044f\", \"\\u0430\\u043f\\u0440\\u0435\\u043b\\u044c\", \"\\u0435\\u0434\\u0438\\u043d\\u0441\\u0442\\u0432\\u0435\\u043d\\u043d\\u044b\\u0439\", \"\\u0432\\u044b\\u0441\\u0442\\u0443\\u043f\\u0438\\u0442\\u044c\", \"\\u043f\\u0440\\u0435\\u0434\\u0441\\u0442\\u0430\\u0432\\u043b\\u044f\\u0442\\u044c\", \"\\u0434\\u0443\\u044d\\u0442\", \"\\u043f\\u0430\\u0432\\u0435\\u043b\", \"\\u0432\\u0442\\u043e\\u0440\\u043e\\u0439\", \"\\u043a\\u043e\\u043d\\u043a\\u0443\\u0440\\u0441\", \"\\u0437\\u043d\\u0430\\u0447\\u0435\\u043d\\u0438\\u0435\", \"\\u0444\\u043e\\u0440\\u043c\\u0430\\u0442\", \"\\u0433\\u043e\\u0434\", \"\\u0441\\u0442\\u0430\\u0442\\u044c\", \"\\u043f\\u0440\\u043e\\u0433\\u0440\\u0430\\u043c\\u043c\\u0430\", \"\\u043c\\u0438\\u0440\", \"\\u0440\\u0430\\u0431\\u043e\\u0442\\u0430\", \"\\u043a\\u043e\\u043d\\u0446\\u0435\\u0440\\u0442\", \"\\u0441\\u0442\\u0438\\u043b\\u044c\", \"\\u0432\\u0435\\u0441\\u044c\", \"\\u0442\\u0430\\u043a\\u0436\\u0435\", \"\\u043f\\u0435\\u0441\\u043d\\u044f\", \"\\u043a\\u043e\\u043d\\u0446\\u0435\\u0440\\u0442\\u043d\\u044b\\u0439\", \"\\u043a\\u043e\\u043c\\u0430\\u043d\\u0434\\u0430\", \"\\u0430\\u043b\\u044c\\u0431\\u043e\\u043c\", \"\\u0441\\u0442\\u0440\\u0430\\u043d\\u0430\", \"\\u0448\\u043e\\u0443\", \"\\u0442\\u0432\\u043e\\u0440\\u0447\\u0435\\u0441\\u0442\\u0432\\u043e\", \"\\u043a\\u043b\\u0443\\u0431\\u0435_\\u043a\\u043e\\u0441\\u043c\\u043e\\u043d\\u0430\\u0432\\u0442\", \"\\u043f\\u0443\\u0431\\u043b\\u0438\\u043a\\u0430\", \"\\u0441\\u043c\\u044b\\u0441\\u043b\\u043e\\u0432\\u043e\\u0439\", \"\\u0448\\u0430\\u0440\", \"\\u043f\\u0440\\u043e\\u0435\\u043a\\u0442\", \"\\u0442\\u0440\\u0435\\u043a\", \"\\u0442\\u043e\\u043c_\\u0447\\u0438\\u0441\\u043b\\u043e\", \"\\u0441\\u043e\\u0431\\u0441\\u0442\\u0432\\u0435\\u043d\\u043d\\u044b\\u0439\", \"\\u0440\\u0430\\u0437\\u043d\\u044b\\u0439\", \"club\", \"opera\", \"\\u0443\\u0440\\u0430\\u043b\\u044c\\u0441\\u043a\\u0438\\u0439\", \"\\u0436\\u0430\\u043d\\u0440\", \"\\u0435\\u0432\\u0440\\u043e\\u043f\\u0430\", \"\\u0434\\u0440\\u0430\\u0438\\u0442\\u044c\", \"\\u043a\\u0430\\u0437\\u0430\\u0442\\u044c\\u0441\\u044f\", \"green_concert\", \"\\u043f\\u043e\\u043f\", \"\\u0441\\u0438\\u043d\\u0433\\u043b\", \"\\u043f\\u0440\\u0435\\u0436\\u043d\\u0438\\u0439\", \"\\u0441\\u043e\\u0441\\u0442\\u0430\\u0432\", \"\\u0432\\u043e\\u043b\\u043d\\u0430\", \"\\u043f\\u043e\\u0441\\u0442\\u043f\\u0430\\u043d\\u043a\", \"\\u043f\\u0440\\u0435\\u0434\\u0441\\u0442\\u0430\\u0432\\u0438\\u0442\\u044c\", \"\\u0432\\u044b\\u0441\\u0442\\u0443\\u043f\\u0430\\u0442\\u044c\", \"\\u0432\\u044b\\u0441\\u0442\\u0430\\u0432\\u043a\\u0430\", \"\\u043c\\u0443\\u0437\\u044b\\u043a\\u0430\\u043d\\u0442\", \"\\u0440\\u0430\\u0431\\u043e\\u0442\\u0430\", \"\\u0432\\u0441\\u0451\", \"\\u0443\\u0447\\u0430\\u0441\\u0442\\u043d\\u0438\\u043a\", \"\\u043f\\u0440\\u043e\\u0433\\u0443\\u043b\\u043a\\u0430\", \"\\u043f\\u043e\\u0434\\u043d\\u044f\\u0442\\u044c\\u0441\\u044f\", \"\\u043f\\u0435\\u0442\\u0440\\u043e\\u043f\\u0430\\u0432\\u043b\\u043e\\u0432\\u0441\\u043a\\u043e\\u0438_\\u043a\\u0440\\u0435\\u043f\\u043e\\u0441\\u0442\\u044c\", \"\\u0441\\u043b\\u0443\\u0447\\u0430\\u0439\", \"\\u043e\\u0442\\u043a\\u0440\\u044b\\u0442\\u044c\\u0441\\u044f\", \"\\u0436\\u0438\\u0442\\u044c\", \"\\u043c\\u0430\\u0440\\u0448\\u0440\\u0443\\u0442\", \"\\u0432\\u043e\\u0441\\u0445\\u0438\\u0442\\u0438\\u0442\\u0435\\u043b\\u044c\\u043d\\u044b\\u0439\", \"\\u0432\\u044b\\u0434\\u0430\\u0442\\u044c\", \"\\u0434\\u043e\\u0436\\u0434\\u0435\\u0432\\u0438\\u043a\", \"\\u043f\\u0430\\u043c\\u044f\\u0442\\u043d\\u0438\\u043a\", \"\\u043d\\u0435\\u043f\\u043e\\u0433\\u043e\\u0434\\u0430\", \"\\u0440\\u0430\\u0441\\u043a\\u0438\\u043d\\u0443\\u0442\\u044c\\u0441\\u044f\", \"\\u043d\\u0430\\u0437\\u0432\\u0430\\u043d\\u0438\\u0435\", \"\\u043a\\u043d\\u0438\\u0433\\u0430\", \"\\u043e\\u0441\\u043e\\u0431\\u0435\\u043d\\u043d\\u043e\\u0441\\u0442\\u044c\", \"\\u0433\\u0435\\u0440\\u043e\\u0439\", \"\\u043f\\u043b\\u043e\\u0449\\u0430\\u0434\\u044c\", \"\\u043f\\u043e\\u0441\\u0435\\u0449\\u0435\\u043d\\u0438\\u0435\", \"\\u0433\\u0440\\u0438\\u0433\\u043e\\u0440\\u0438\\u0439\", \"\\u043d\\u0430\\u043f\\u0438\\u0441\\u0430\\u0442\\u044c\", \"\\u0434\\u043e\\u0445\\u043e\\u0434\\u043d\\u044b\\u0439\", \"\\u043e\\u0441\\u0442\\u0440\\u043e\\u0432\", \"\\u0433\\u043e\\u0432\\u043e\\u0440\\u0438\\u0442\\u044c\", \"\\u043d\\u043e\\u0432\\u0433\\u043e\\u0440\\u043e\\u0434\", \"\\u0442\\u0443\\u0440\\u0438\\u0441\\u0442\", \"\\u0441\\u0432\\u044f\\u0442\\u043e\\u0439\", \"\\u043c\\u043e\\u0440\\u0441\\u043a\\u043e\\u0439\", \"\\u043a\\u043e\\u043c\\u0444\\u043e\\u0440\\u0442\\u0430\\u0431\\u0435\\u043b\\u044c\\u043d\\u044b\\u0439\", \"\\u0440\\u0430\\u0441\\u0441\\u043a\\u0430\\u0437\\u0430\\u0442\\u044c\", \"\\u0443\\u0441\\u043b\\u044b\\u0448\\u0430\\u0442\\u044c\", \"\\u0434\\u043e\\u043c\", \"\\u0433\\u043e\\u0440\\u043e\\u0434\", \"\\u0433\\u0440\\u0443\\u043f\\u043f\\u0430\", \"\\u0440\\u043e\\u043a\", \"\\u043e\\u0440\\u043a\\u0435\\u0441\\u0442\\u0440\", \"\\u0442\\u0435\\u0430\\u0442\\u0440\", \"\\u0434\\u043c\\u0438\\u0442\\u0440\\u0438\\u0439\", \"\\u0438\\u0441\\u043f\\u043e\\u043b\\u043d\\u0438\\u0442\\u044c\", \"\\u043f\\u0440\\u043e\\u0437\\u0432\\u0443\\u0447\\u0430\\u0442\\u044c\", \"\\u0432\\u0435\\u0447\\u0435\\u0440\", \"\\u0433\\u043e\\u0442\\u043e\\u0432\\u0438\\u0442\\u044c\\u0441\\u044f\", \"\\u043c\\u0430\\u0440\\u0438\\u0438\\u043d\\u0441\\u043a\\u0438\\u0439\", \"\\u043c\\u0443\\u0437\\u044b\\u043a\\u0430\\u043b\\u044c\\u043d\\u044b\\u0439\", \"\\u043c\\u043e\\u043b\\u043e\\u0434\\u043e\\u0439\", \"\\u043e\\u0434\\u043d\\u043e\\u0439\", \"\\u0438\\u0441\\u043f\\u043e\\u043b\\u043d\\u044f\\u0442\\u044c\", \"\\u0441\\u043f\\u0443\\u0441\\u0442\\u044f\", \"\\u0432\\u044b\\u0438\\u0434\\u0442\\u0438\", \"\\u0433\\u0435\\u0440\\u043c\\u0430\\u043d\\u0438\\u044f\", \"\\u0441\\u0438\\u043c\\u0444\\u043e\\u043d\\u0438\\u044f\", \"\\u043b\\u044e\\u0431\\u043e\\u0432\\u044c\", \"\\u043d\\u0430\\u0437\\u044b\\u0432\\u0430\\u0442\\u044c\", \"\\u0440\\u043e\\u043a\\u0435\\u0440\", \"\\u0441\\u0447\\u0451\\u0442\", \"\\u043a\\u043e\\u043c\\u043f\\u043e\\u0437\\u0438\\u0442\\u043e\\u0440\", \"\\u043e\\u0442\\u043c\\u0435\\u0442\\u0438\\u0442\\u044c\", \"\\u043f\\u044f\\u0442\\u044b\\u0439\", \"\\u0441\\u043f\\u0430\\u0441\\u0442\\u0438\", \"\\u043b\\u0430\\u043a\\u043c\", \"\\u0441\\u0442\\u0430\\u0440\\u0438\\u043d\\u043d\\u043e\\u0438\\u0442\\u044c\", \"\\u0433\\u0443\\u0433\\u043a\\u0430\\u0435\\u0432\", \"\\u0434\\u0435\\u0431\\u044e\\u0442\\u0438\\u0440\\u043e\\u0432\\u0430\\u0442\\u044c\", \"\\u043a\\u043e\\u043d\\u0446\\u0435\\u0440\\u0442\", \"\\u043c\\u0443\\u0437\\u044b\\u043a\\u0430\\u043d\\u0442\", \"\\u0438\\u043d\\u0442\\u0435\\u0440\\u0435\\u0441\\u043d\\u044b\\u0439\", \"\\u043a\\u043b\\u0443\\u0431\", \"\\u043f\\u043e\\u043b\\u043d\\u044b\\u0439\", \"\\u0441\\u043e\\u043b\\u044c\\u043d\\u044b\\u0439\", \"\\u0434\\u0440\\u0430\\u0438\\u0432\", \"\\u043f\\u0443\\u0442\\u0435\\u0448\\u0435\\u0441\\u0442\\u0432\\u0438\\u0435\", \"\\u0436\\u0438\\u0432\\u043e\\u0439\", \"\\u043e\\u0436\\u0438\\u0434\\u0430\\u0442\\u044c\", \"\\u0445\\u043e\\u043f\", \"\\u0441\\u043f\\u043e\\u0441\\u043e\\u0431\", \"\\u043a\\u043e\\u043b\\u043b\\u0435\\u0433\\u0430\", \"\\u0441\\u0435\\u0432\\u0435\\u0440\\u043d\\u043e\\u0438_\\u0441\\u0442\\u043e\\u043b\\u0438\\u0446\\u044b\\u0439\", \"\\u043a\\u0430\\u0441\\u0442\\u0430\", \"\\u0445\\u0438\\u043f\", \"\\u0436\\u0438\\u0442\\u0435\\u043b\\u044c\", \"\\u0440\\u044d\\u043f\", \"\\u043f\\u043b\\u0430\\u043d\\u0435\\u0442\\u0430\", \"\\u0437\\u0430\\u0432\\u0435\\u0434\\u0435\\u043d\\u0438\\u0435\", \"\\u043f\\u0440\\u043e\\u0434\\u044e\\u0441\\u0435\\u0440\", \"gspd\", \"\\u0441\\u0435\\u0437\\u043e\\u043d\", \"\\u043b\\u0438\\u0440\\u0438\\u043a\\u0430\", \"\\u043c\\u0430\\u0441\\u0442\\u043e\\u0434\\u043e\\u043d\\u0442\", \"\\u043d\\u0430\\u0431\\u043e\\u043b\\u0435\\u0432\\u0448\\u0438\\u0439\", \"\\u043e\\u0441\\u044c\\u043c\\u0438\\u043d\\u043e\\u0433\", \"\\u043f\\u0435\\u0440\\u0432\\u043e\\u043f\\u0440\\u043e\\u0445\\u043e\\u0434\\u0435\\u0446\", \"\\u0441\\u0442\\u0443\\u0434\\u0438\\u0438\\u043d\\u043e\\u044f\", \"\\u0447\\u0435\\u0440\\u043d\\u0438\\u043b\\u0430\", \"\\u0447\\u0435\\u0441\\u0442\\u043d\\u043e\\u0439\", \"\\u0431\\u0430\\u0440\", \"\\u0441\\u043c\\u0435\\u043b\\u043e\", \"\\u0438\\u043d\\u0442\\u0435\\u0440\\u0435\\u0441\\u043d\\u044b\\u0439\", \"\\u043e\\u0442\\u043a\\u0440\\u044b\\u0442\\u044c\", \"\\u043c\\u0430\\u0441\\u0442\\u0435\\u0440\", \"\\u043e\\u0431\\u044a\\u0435\\u0434\\u0438\\u043d\\u044f\\u0442\\u044c\", \"\\u0441\\u043e\\u0431\\u043e\\u0438\", \"\\u0441\\u043c\\u044b\\u0441\\u043b\", \"\\u043e\\u0431\\u0440\\u0430\\u0437\", \"\\u044d\\u043a\\u0441\\u043f\\u043e\\u0437\\u0438\\u0446\\u0438\\u044f\", \"\\u0434\\u0430\\u0432\\u0430\\u0442\\u044c\", \"\\u043c\\u043e\\u043c\\u0435\\u043d\\u0442\", \"\\u043f\\u043e\\u0441\\u043b\\u0435\\u0434\\u043d\\u0438\\u0439\", \"\\u043a\\u0443\\u043b\\u044c\\u0442\\u043e\\u0432\\u044b\\u0439\", \"\\u0443\\u0440\\u043e\\u0432\\u0435\\u043d\\u044c\", \"\\u043e\\u0442\\u043a\\u0440\\u044b\\u0432\\u0430\\u0442\\u044c\", \"\\u0441\\u043d\\u0438\\u043c\\u043e\\u043a\", \"\\u0444\\u043e\\u0442\\u043e\\u0433\\u0440\\u0430\\u0444\\u0438\\u044f\", \"\\u0432\\u0430\\u0436\\u043d\\u044b\\u0439\", \"\\u0437\\u043d\\u0430\\u043a\\u043e\\u043c\\u0438\\u0442\\u044c\", \"\\u0437\\u043e\\u043e\\u043f\\u0430\\u0440\\u043a\", \"\\u043f\\u0435\\u0440\\u043d\\u0430\\u0442\\u044b\\u0439\", \"\\u043a\\u0443\\u043b\\u044c\\u0442\\u0443\\u0440\\u043d\\u044b\\u0439\", \"\\u043f\\u0440\\u0438\\u0437\\u043d\\u0430\\u043d\\u043d\\u044b\\u0439\", \"\\u043d\\u0430\\u043f\\u043e\\u043c\\u0438\\u043d\\u0430\\u0442\\u044c\", \"\\u0441\\u0430\\u043c\\u043e\\u0438\", \"\\u0434\\u0430\\u043d\\u043d\\u044b\\u0439\", \"\\u043f\\u0440\\u0438\\u0437\\u043d\\u0430\\u043d\\u0438\\u0435\", \"\\u0444\\u043e\\u0442\\u043e\\u0433\\u0440\\u0430\\u0444\", \"\\u043f\\u043e\\u0440\\u0442\\u0440\\u0435\\u0442\", \"\\u043d\\u0430\\u0437\\u0432\\u0430\\u0442\\u044c\", \"\\u043f\\u0430\\u043b\\u0438\\u0442\\u0440\\u0430\", \"\\u043f\\u0442\\u0438\\u0446\\u0430\", \"\\u0432\\u043a\\u043b\\u0430\\u0434\", \"\\u043f\\u043e\\u043a\\u0430\\u0437\\u044b\\u0432\\u0430\\u0442\\u044c\", \"\\u043f\\u0438\\u0442\\u0435\\u0440\\u0441\\u043a\\u0438\\u0439\", \"\\u0443\\u043b\\u0438\\u0446\\u0430\", \"\\u0443\\u0434\\u0438\\u0432\\u0438\\u0442\\u0435\\u043b\\u044c\\u043d\\u044b\\u0439\", \"\\u0437\\u0430\\u0433\\u0430\\u0434\\u043e\\u0447\\u043d\\u044b\\u0439\", \"\\u043c\\u043e\\u0434\\u0435\\u0440\\u043d\", \"\\u043e\\u0441\\u043d\\u043e\\u0432\\u0430\\u043d\\u0438\\u0435\", \"\\u0441\\u0435\\u0433\\u043e\\u0434\\u043d\\u044f\", \"\\u043f\\u043e\\u0437\\u043d\\u0430\\u043a\\u043e\\u043c\\u0438\\u0442_\\u0441\\u043b\\u0443\\u0448\\u0430\\u0442\\u0435\\u043b\\u0435\\u0439\", \"\\u0432\\u043b\\u0430\\u0434\\u0435\\u043b\\u0435\\u0446\", \"\\u043e\\u0441\\u043e\\u0431\\u043d\\u044f\\u043a\", \"\\u0440\\u0435\\u0430\\u043b\\u044c\\u043d\\u043e\\u0441\\u0442\\u044c\", \"\\u0431\\u044b\\u0432\\u0448\\u0435\\u044f\", \"\\u043d\\u0435\\u043a\\u043e\\u0442\\u043e\\u0440\\u044b\\u0439\", \"\\u043a\\u043e\\u043c\\u043f\\u043e\\u0437\\u0438\\u0446\\u0438\\u044f\", \"\\u043c\\u0438\\u0445\\u0430\\u0438\\u043b\\u043e\\u0432\\u0441\\u043a\\u0438\\u0439\", \"\\u0431\\u043e\\u0433\\u0430\\u0442\\u044b\\u0439\", \"\\u0432\\u043d\\u0443\\u0442\\u0440\\u0438\", \"\\u043a\\u0443\\u0445\\u043d\\u044f\", \"\\u043f\\u0443\\u0448\\u043a\\u0438\\u043d\\u0441\\u043a\\u043e\\u0439\", \"\\u043f\\u0440\\u0438\\u043c\\u0435\\u0447\\u0430\\u0442\\u0435\\u043b\\u044c\\u043d\\u044b\\u0439\", \"\\u043e\\u0442\\u043a\\u0430\\u0437\\u0430\\u0442\\u044c\\u0441\\u044f\", \"\\u0441\\u0442\\u043e\\u0438\\u0442\\u044c\", \"\\u0440\\u0443\\u0441\\u0441\\u043a\\u0438\\u044f\", \"\\u043e\\u0444\\u043e\\u0440\\u043c\\u043b\\u0435\\u043d\\u0438\\u0435\", \"\\u0430\\u0440\\u0445\\u0438\\u0442\\u0435\\u043a\\u0442\\u0443\\u0440\\u0430\", \"\\u043f\\u0435\\u0440\\u0435\\u0436\\u0438\\u0442\\u044c\", \"\\u0432\\u044f\\u0442\\u043a\\u0438\\u043d\", \"\\u043c\\u0440\\u0430\\u0447\\u043d\\u044b\\u0439\", \"\\u043f\\u043e\\u0433\\u0440\\u0443\\u0436\\u0435\\u043d\\u0438\\u0435\", \"\\u0441\\u043b\\u044b\\u0448\\u0430\\u0442\\u044c\", \"\\u0441\\u043e\\u0432\\u0440\\u0435\\u043c\\u0435\\u043d\\u043d\\u044b\\u0439\", \"\\u0441\\u0442\\u0438\\u043b\\u044c\", \"\\u0440\\u0430\\u0441\\u0441\\u043a\\u0430\\u0437\\u0430\\u0442\\u044c\", \"\\u0443\\u044e\\u0442\\u043d\\u044b\\u0439\", \"\\u0431\\u0430\\u044f\\u043d\\u0438\\u0441\\u0442\", \"\\u0431\\u0435\\u043b\\u044c\\u044d\\u0442\\u0430\\u0436\", \"\\u0432\\u043c\\u0435\\u0441\\u0442\\u0438\\u0442\\u044c\", \"\\u0438\\u043c\\u0435\\u043d\\u0438\\u0442\\u044b\\u0439\", \"\\u043a\\u043e\\u043d\\u0442\\u0440\\u0430\\u0431\\u0430\\u0441\\u0438\\u0441\\u0442\", \"\\u043a\\u043e\\u043d\\u0444\\u0435\\u0440\\u0435\\u043d\\u0446\", \"\\u043b\\u0438\\u0442\\u0435\\u0438\\u043d\", \"\\u043d\\u0435\\u043f\\u0440\\u0435\\u0432\\u0437\\u043e\\u0438\\u0434\\u0435\\u043d\\u043d\\u044b\\u0439\", \"\\u043e\\u0434\\u0438\\u043d\\u0430\\u043a\\u043e\\u0432\\u043e\", \"\\u043f\\u0430\\u0440\\u0442\\u0435\\u0440\", \"\\u043f\\u0435\\u0440\\u0441\\u043e\\u043d\\u0430\", \"\\u043f\\u0440\\u0435\\u0434\\u043f\\u043e\\u043b\\u0430\\u0433\\u0430\\u0442\\u044c\", \"\\u0441\\u043f\\u043e\\u0441\\u043e\\u0431\\u043d\\u044b\\u0439\", \"\\u0445\\u043e\\u0440\", \"\\u044d\\u043a\\u0441\\u043a\\u0443\\u0440\\u0441\\u0438\\u0438\\u0432\\u0441\\u044f\", \"\\u0438\\u0437\\u043e\\u0431\\u0440\\u0430\\u0436\\u0430\\u0442\\u044c\", \"\\u0438\\u0441\\u0441\\u043b\\u0435\\u0434\\u043e\\u0432\\u0430\\u043d\\u0438\\u0435\", \"\\u043a\\u043e\\u0432\\u0430\\u043b\\u044c\\u0441\\u043a\\u0438\\u0439\", \"\\u043b\\u0438\\u0442\\u0435\\u0440\\u0430\\u0442\\u0443\\u0440\\u043e\\u0438\\u0442\\u044c\", \"\\u043e\\u0431\\u0448\\u0438\\u0440\\u043d\\u044b\\u0439\", \"\\u043e\\u0440\\u0433\\u0430\\u043d\\u0438\\u0437\\u043e\\u0432\\u044b\\u0432\\u0430\\u0442\\u044c\", \"\\u043e\\u0441\\u043d\\u043e\\u0432\\u0430\\u0442\\u0435\\u043b\\u0435\\u0439\", \"\\u043f\\u043e\\u0434\\u043f\\u043e\\u043b\\u044c\\u043d\\u044b\\u0439\", \"\\u043f\\u0440\\u0438\\u0441\\u043d\\u0438\\u0442\\u044c\\u0441\\u044f\", \"\\u043f\\u0440\\u043e\\u0444\\u0435\\u0441\\u0441\\u0438\\u043e\\u043d\\u0430\\u043b\\u044c\\u043d\\u043e\", \"\\u0440\\u0430\\u0441\\u043a\\u0440\\u044b\\u0432\\u0430\\u0442\\u044c\", \"\\u0441\\u0430\\u043c\\u0438\\u0437\\u0434\\u0430\\u0442\\u043e\\u0432\\u0441\\u043a\\u0438\\u0439\", \"\\u0441\\u043a\\u0432\\u043e\\u0442\", \"\\u0441\\u043b\\u0443\\u0447\\u0430\\u0438\\u043d\\u043e\\u0441\\u0442\\u044c\", \"\\u0441\\u043e\\u0437\\u0434\\u0430\\u0442\\u0435\\u043b\\u0435\\u0439\", \"artdoc\", \"biedriba\", \"fest\", \"festival\", \"film\", \"idfa\", \"idff\", \"media\", \"riga\", \"rigaiff\", \"trieste\", \"\\u0430\\u0432\\u0442\\u043e\\u0440\\u0441\\u043a\\u0438\\u044f\", \"\\u0430\\u0433\\u0440\\u0435\\u0441\\u0441\\u0438\\u0432\\u043d\\u044b\\u0439\", \"\\u0430\\u0434\\u0440\\u0435\\u0441\", \"\\u0430\\u0438\\u0434\\u0430\\u0442\\u044c\", \"\\u0430\\u043d\\u0433\\u043b\\u0435\\u0442\\u0435\\u0440\\u0435\\u0442\\u044c\", \"\\u0430\\u043d\\u043e\", \"\\u0430\\u043d\\u0442\\u0443\\u0430\\u043d\", \"\\u0430\\u0440\\u0442\\u0434\\u043e\\u043a\\u0444\\u0435\\u0441\\u0442\", \"\\u0430\\u0440\\u0442\\u0435\\u043b\\u044c\", \"\\u0431\\u0430\\u043b\\u0442\\u0438\\u0438\\u0441\\u043a\\u0438\\u044f\", \"\\u0431\\u0435\\u043b\\u044b\\u0439\", \"\\u0431\\u043e\\u043b\\u044c\\u0448\\u0438\\u043d\\u0441\\u0442\\u0432\\u043e\", \"\\u0431\\u044b\\u043a\\u043e\\u0432\", \"\\u0432\\u0432\\u0435\\u0434\\u0435\\u043d\\u0438\\u0435\", \"\\u0432\\u0435\\u0441\\u044c\", \"\\u0432\\u0435\\u0442\\u0432\\u044c\", \"\\u0432\\u043d\\u0435\\u043a\\u043e\\u043d\\u043a\\u0443\\u0440\\u0441\\u043d\\u044b\\u0439\", \"\\u0432\\u043e\\u0437\\u0433\\u043b\\u0430\\u0432\\u0438\\u0432\\u0448\\u0438\\u0435\", \"\\u0432\\u043e\\u0437\\u0440\\u0430\\u0441\\u0442\\u0438\", \"\\u0431\\u0430\\u044f\\u043d\\u0438\\u0441\\u0442\", \"\\u0431\\u0435\\u043b\\u044c\\u044d\\u0442\\u0430\\u0436\", \"\\u0432\\u043c\\u0435\\u0441\\u0442\\u0438\\u0442\\u044c\", \"\\u0438\\u043c\\u0435\\u043d\\u0438\\u0442\\u044b\\u0439\", \"\\u043a\\u043e\\u043d\\u0442\\u0440\\u0430\\u0431\\u0430\\u0441\\u0438\\u0441\\u0442\", \"\\u043a\\u043e\\u043d\\u0444\\u0435\\u0440\\u0435\\u043d\\u0446\", \"\\u043b\\u0438\\u0442\\u0435\\u0438\\u043d\", \"\\u043d\\u0435\\u043f\\u0440\\u0435\\u0432\\u0437\\u043e\\u0438\\u0434\\u0435\\u043d\\u043d\\u044b\\u0439\", \"\\u043e\\u0434\\u0438\\u043d\\u0430\\u043a\\u043e\\u0432\\u043e\", \"\\u043f\\u0430\\u0440\\u0442\\u0435\\u0440\", \"\\u043f\\u0435\\u0440\\u0441\\u043e\\u043d\\u0430\", \"\\u043f\\u0440\\u0435\\u0434\\u043f\\u043e\\u043b\\u0430\\u0433\\u0430\\u0442\\u044c\", \"\\u0441\\u043f\\u043e\\u0441\\u043e\\u0431\\u043d\\u044b\\u0439\", \"\\u0445\\u043e\\u0440\", \"\\u044d\\u043a\\u0441\\u043a\\u0443\\u0440\\u0441\\u0438\\u0438\\u0432\\u0441\\u044f\", \"\\u0438\\u0437\\u043e\\u0431\\u0440\\u0430\\u0436\\u0430\\u0442\\u044c\", \"\\u0438\\u0441\\u0441\\u043b\\u0435\\u0434\\u043e\\u0432\\u0430\\u043d\\u0438\\u0435\", \"\\u043a\\u043e\\u0432\\u0430\\u043b\\u044c\\u0441\\u043a\\u0438\\u0439\", \"\\u043b\\u0438\\u0442\\u0435\\u0440\\u0430\\u0442\\u0443\\u0440\\u043e\\u0438\\u0442\\u044c\", \"\\u043e\\u0431\\u0448\\u0438\\u0440\\u043d\\u044b\\u0439\", \"\\u043e\\u0440\\u0433\\u0430\\u043d\\u0438\\u0437\\u043e\\u0432\\u044b\\u0432\\u0430\\u0442\\u044c\", \"\\u043e\\u0441\\u043d\\u043e\\u0432\\u0430\\u0442\\u0435\\u043b\\u0435\\u0439\", \"\\u043f\\u043e\\u0434\\u043f\\u043e\\u043b\\u044c\\u043d\\u044b\\u0439\", \"\\u043f\\u0440\\u0438\\u0441\\u043d\\u0438\\u0442\\u044c\\u0441\\u044f\", \"\\u043f\\u0440\\u043e\\u0444\\u0435\\u0441\\u0441\\u0438\\u043e\\u043d\\u0430\\u043b\\u044c\\u043d\\u043e\", \"\\u0440\\u0430\\u0441\\u043a\\u0440\\u044b\\u0432\\u0430\\u0442\\u044c\", \"\\u0441\\u0430\\u043c\\u0438\\u0437\\u0434\\u0430\\u0442\\u043e\\u0432\\u0441\\u043a\\u0438\\u0439\", \"\\u0441\\u043a\\u0432\\u043e\\u0442\", \"\\u0441\\u043b\\u0443\\u0447\\u0430\\u0438\\u043d\\u043e\\u0441\\u0442\\u044c\", \"\\u0441\\u043e\\u0437\\u0434\\u0430\\u0442\\u0435\\u043b\\u0435\\u0439\", \"artdoc\", \"biedriba\", \"fest\", \"festival\", \"film\", \"idfa\", \"idff\", \"media\", \"riga\", \"rigaiff\", \"trieste\", \"\\u0430\\u0432\\u0442\\u043e\\u0440\\u0441\\u043a\\u0438\\u044f\", \"\\u0430\\u0433\\u0440\\u0435\\u0441\\u0441\\u0438\\u0432\\u043d\\u044b\\u0439\", \"\\u0430\\u0434\\u0440\\u0435\\u0441\", \"\\u0430\\u0438\\u0434\\u0430\\u0442\\u044c\", \"\\u0430\\u043d\\u0433\\u043b\\u0435\\u0442\\u0435\\u0440\\u0435\\u0442\\u044c\", \"\\u0430\\u043d\\u043e\", \"\\u0430\\u043d\\u0442\\u0443\\u0430\\u043d\", \"\\u0430\\u0440\\u0442\\u0434\\u043e\\u043a\\u0444\\u0435\\u0441\\u0442\", \"\\u0430\\u0440\\u0442\\u0435\\u043b\\u044c\", \"\\u0431\\u0430\\u043b\\u0442\\u0438\\u0438\\u0441\\u043a\\u0438\\u044f\", \"\\u0431\\u0435\\u043b\\u044b\\u0439\", \"\\u0431\\u043e\\u043b\\u044c\\u0448\\u0438\\u043d\\u0441\\u0442\\u0432\\u043e\", \"\\u0431\\u044b\\u043a\\u043e\\u0432\", \"\\u0432\\u0432\\u0435\\u0434\\u0435\\u043d\\u0438\\u0435\", \"\\u0432\\u0435\\u0441\\u044c\", \"\\u0432\\u0435\\u0442\\u0432\\u044c\", \"\\u0432\\u043d\\u0435\\u043a\\u043e\\u043d\\u043a\\u0443\\u0440\\u0441\\u043d\\u044b\\u0439\", \"\\u0432\\u043e\\u0437\\u0433\\u043b\\u0430\\u0432\\u0438\\u0432\\u0448\\u0438\\u0435\", \"\\u0432\\u043e\\u0437\\u0440\\u0430\\u0441\\u0442\\u0438\"], \"Freq\": [125.0, 82.0, 38.0, 34.0, 27.0, 58.0, 40.0, 51.0, 64.0, 22.0, 49.0, 28.0, 43.0, 12.0, 42.0, 43.0, 11.0, 24.0, 24.0, 46.0, 15.0, 31.0, 32.0, 14.0, 21.0, 19.0, 19.0, 27.0, 14.0, 14.0, 81.6714728046044, 57.52810117304913, 51.42569367081822, 49.20245266624424, 42.85376438817344, 41.5479612765506, 31.793490199994267, 26.96226925351743, 26.586427524036335, 22.993685655750667, 22.587522796589006, 22.553120689550205, 22.426192780565664, 22.34004239721907, 20.460164604968206, 20.342695018063228, 20.048592153140852, 17.52072255460675, 16.954522821990416, 15.514781098280084, 15.251537903709018, 15.2535211522869, 14.234784404128003, 13.747709840180347, 13.568617656405817, 13.485739633212727, 13.421764548802416, 13.4184913824503, 13.20162476285596, 12.774312089388527, 26.620358811087538, 42.47111028044717, 56.484867273960326, 22.643168236972205, 40.48606871685752, 41.30169339988844, 17.29767319788079, 21.196386787008997, 20.304276429554914, 30.60315085313748, 16.916658898125018, 23.59279311593049, 20.97964389171376, 19.158805770335324, 18.84542131277822, 17.11857779641498, 16.957536638713986, 16.186043041931704, 16.226487402752646, 15.535353564548837, 15.535353564548837, 14.781032860187855, 13.908541226182686, 13.703334559077303, 13.20804784190632, 12.892757761005388, 12.155334810768988, 11.97579060261361, 11.967766058558233, 11.952341844396011, 11.26506769272083, 11.260359340178377, 11.25833261723212, 11.02472470256819, 10.034575601233133, 10.008331864191465, 9.942689098097027, 9.827431340488879, 9.40247055323748, 9.101763770859499, 9.101763770859499, 94.44903272650629, 22.292443023386994, 30.948235710372014, 18.18856156845237, 15.740658080132983, 18.923610966481156, 10.89798573385292, 12.569413103347676, 13.643305001754669, 28.331807025382755, 18.941969197684386, 18.846557822745325, 17.960648414615502, 16.26132769939651, 16.13331647393479, 15.655216734566242, 14.892347177988269, 13.107378515813108, 11.932365039117936, 11.828552901684242, 11.421050638357556, 10.094895329965441, 10.016568921048076, 9.877548945049911, 9.07777668822377, 9.041425995583943, 9.041425995583943, 9.036424872761051, 8.76382401369603, 8.645301865130426, 8.145003652134749, 8.125661074157971, 8.012291272056467, 7.793570652630947, 7.743463566793386, 7.689590764382142, 7.662310184780001, 7.372173167845746, 7.1823420484017735, 22.37029673788602, 10.186292254363588, 10.537577335660961, 9.76780272582653, 9.664526895185968, 9.434847933104404, 37.611340940029145, 33.6288873520552, 11.736584230107761, 11.166198148972619, 10.733774065110104, 10.164806468612053, 9.821131937761386, 9.65175358067284, 9.30200285443643, 8.878869996171229, 8.878869996171229, 8.619456678883708, 8.540235269656606, 8.411366898131352, 7.671654884357652, 7.386179054208913, 7.108404073314199, 6.789086748456492, 6.722683621331934, 6.670155834690866, 6.636718109063031, 5.991970970111883, 5.811841064045196, 5.523880113334676, 5.385255249218493, 4.812011531477928, 4.548028717660477, 4.394643346386061, 4.2208467171425434, 4.188081687942638, 10.766806509413057, 10.050012045582733, 9.59996124857531, 8.076223942434469, 27.096481699698554, 22.30529914642638, 15.077161417356164, 13.483062449430388, 13.479512032075474, 12.7646351134194, 12.525915655617785, 11.757074506510694, 11.551547992778795, 9.078489222319758, 7.993610016255313, 6.834356002697504, 6.349772544595041, 6.323500801023742, 6.320141545209312, 6.127990575646734, 6.080570025666948, 5.988868201658636, 5.9430691626353145, 5.7964434580305415, 5.771755281290837, 5.214967035393263, 5.108703312931723, 5.098984333605875, 4.882718671925044, 4.906124913610601, 4.730021427035713, 4.7388355110292215, 4.505693839583478, 4.505693839583478, 21.490697382726214, 10.443788959723191, 5.197129934566774, 12.174221933752575, 10.748381600889468, 7.316098201193071, 4.200480379565611, 3.55072494749786, 3.5489477242148038, 2.408028871594673, 2.3378568169891207, 2.2498446631425524, 2.1607662962462575, 2.0687395948237426, 1.9145353205667361, 1.870893742193128, 1.8211739634553805, 1.7439277802485686, 1.449945756334941, 1.3377445929920828, 1.2868698760755777, 1.2233931678338854, 1.1309687148320744, 0.9710506631855376, 0.9710506631855376, 0.9710506631855376, 0.9710506631855376, 0.9710506631855376, 0.9710506631855376, 0.9710506631855376, 0.9710506631855376, 0.9396898821010136, 0.9372332389627659, 2.08037241148564, 0.9507060062135939, 8.246196684820912, 5.28626132702484, 5.044217271233249, 4.7835949799508075, 4.754738158863776, 3.5568289492196854, 3.268300826208472, 2.8847396050960934, 1.831923427065902, 1.8066657349347455, 1.614945987697485, 1.5347963119712493, 1.4891695982346116, 1.4815758750558805, 1.3351344868380244, 1.3144627580045063, 1.0360140980484593, 1.0360140980484593, 1.0222548182480207, 0.9360421464447143, 0.9328880073554772, 0.9201330454703882, 0.9061095369344083, 0.8718487553955799, 0.8290206570342453, 0.7496789564973926, 0.7485537897805163, 0.6999325568607739, 0.7863523248850982, 0.6465769331504772, 0.9877303200448441, 5.534953682568919, 3.006306001370489, 2.672415431304093, 1.891775171235935, 1.797950778187706, 1.7458397171775695, 1.658928651695121, 1.646093023048749, 1.3265670674482253, 1.3117586510083847, 1.155851550301104, 0.98778610537954, 0.9351850902329548, 0.7960414741081433, 0.7250275991671199, 0.5350099968716654, 0.524924099009984, 0.49698020963603584, 0.4875108513903301, 0.47883673486024314, 0.4300867615424393, 0.42283757131368715, 0.4218840398413041, 0.4033696974060284, 1.7767937467147228, 0.3458364811463497, 0.33298168516524596, 0.2992911566741759, 0.28009541838455765, 0.27992462063896545, 2.0473715410726117, 2.6414139177352784, 1.7913118156731598, 0.5420057266045852, 0.00036153327523665176, 0.00036153327523665176, 0.00036153327523665176, 0.00036153327523665176, 0.00036153327523665176, 0.00036153327523665176, 0.00036153327523665176, 0.00036153327523665176, 0.00036153327523665176, 0.00036153327523665176, 0.00036153327523665176, 0.00036153327523665176, 0.00036153327523665176, 0.00036153327523665176, 0.00036153327523665176, 0.00036153327523665176, 0.00036153327523665176, 0.00036153327523665176, 0.00036153327523665176, 0.00036153327523665176, 0.00036153327523665176, 0.00036153327523665176, 0.00036153327523665176, 0.00036153327523665176, 0.00036153327523665176, 0.00036153327523665176, 0.00036153327523665176, 0.00036153327523665176, 0.00036153327523665176, 0.00036153327523665176, 0.00036153327523665176, 0.00036153327523665176, 0.00036153327523665176, 0.00036153327523665176, 0.00036153327523665176, 0.00036153327523665176, 0.00036153327523665176, 0.00036153327523665176, 0.00036153327523665176, 0.00036153327523665176, 0.00036153327523665176, 0.00036153327523665176, 0.00036153327523665176, 0.00036153327523665176, 0.00036153327523665176, 0.00036153327523665176, 0.00036153327523665176, 0.00036153327523665176, 0.00036153327523665176, 0.00036153327523665176, 0.00036153327523665176, 0.00036153327523665176, 0.00036153327523665176, 0.00036153327523665176, 0.00036153327523665176, 0.00036153327523665176, 0.00036153327523665176, 0.00036153327523665176, 0.00036153327523665176, 0.00036153327523665176, 0.0003515655819906187, 0.0003515655819906187, 0.0003515655819906187, 0.0003515655819906187, 0.0003515655819906187, 0.0003515655819906187, 0.0003515655819906187, 0.0003515655819906187, 0.0003515655819906187, 0.0003515655819906187, 0.0003515655819906187, 0.0003515655819906187, 0.0003515655819906187, 0.0003515655819906187, 0.0003515655819906187, 0.0003515655819906187, 0.0003515655819906187, 0.0003515655819906187, 0.0003515655819906187, 0.0003515655819906187, 0.0003515655819906187, 0.0003515655819906187, 0.0003515655819906187, 0.0003515655819906187, 0.0003515655819906187, 0.0003515655819906187, 0.0003515655819906187, 0.0003515655819906187, 0.0003515655819906187, 0.0003515655819906187, 0.0003515655819906187, 0.0003515655819906187, 0.0003515655819906187, 0.0003515655819906187, 0.0003515655819906187, 0.0003515655819906187, 0.0003515655819906187, 0.0003515655819906187, 0.0003515655819906187, 0.0003515655819906187, 0.0003515655819906187, 0.0003515655819906187, 0.0003515655819906187, 0.0003515655819906187, 0.0003515655819906187, 0.0003515655819906187, 0.0003515655819906187, 0.0003515655819906187, 0.0003515655819906187, 0.0003515655819906187, 0.0003515655819906187, 0.0003515655819906187, 0.0003515655819906187, 0.0003515655819906187, 0.0003515655819906187, 0.0003515655819906187, 0.0003515655819906187, 0.0003515655819906187, 0.0003515655819906187, 0.0003515655819906187], \"Total\": [125.0, 82.0, 38.0, 34.0, 27.0, 58.0, 40.0, 51.0, 64.0, 22.0, 49.0, 28.0, 43.0, 12.0, 42.0, 43.0, 11.0, 24.0, 24.0, 46.0, 15.0, 31.0, 32.0, 14.0, 21.0, 19.0, 19.0, 27.0, 14.0, 14.0, 82.20528304663189, 58.06189446512825, 51.9595504885875, 49.73630280643724, 43.38760137717144, 42.08186769026975, 32.32778150352252, 27.49608030593766, 27.120412779108307, 23.52747548106975, 23.12129730278768, 23.086942392219413, 22.959994434012362, 22.873911589860604, 20.993944468270048, 20.87656622490017, 20.582384910064153, 18.05455149050945, 17.4887296485722, 16.04859700526596, 15.785334855813883, 15.78769253859759, 14.768620566793055, 14.281488876729636, 14.102459811611109, 14.01982007763173, 13.955595553506345, 13.952456130338593, 13.735495705638328, 13.30816532222362, 28.428955824378917, 46.75073408177563, 64.9779569185036, 24.69967014124297, 52.25359581107504, 58.5211916529681, 20.219982434001615, 31.213201718453636, 29.066666545941143, 125.47464435906421, 22.6683997569253, 24.15820220605356, 21.545035100150447, 19.724236215019832, 19.410958010359963, 17.684049792591466, 17.52308846030346, 16.751493679828464, 16.796057546627914, 16.101499593826293, 16.101499593826293, 15.346406504416652, 14.473935584506922, 14.268751515064157, 13.773429337106489, 13.458249327945522, 12.720786072294898, 12.541211328057857, 12.533267588770684, 12.519903454641025, 11.830597767325497, 11.825719988084396, 11.824208779098331, 11.590242102247322, 10.599981982902047, 10.573880983654732, 10.508224407557222, 10.392906260934842, 9.968205205314513, 9.66732751002813, 9.66732751002813, 125.47464435906421, 27.846577167384357, 43.2301904120246, 28.864965865062437, 25.888341157909277, 40.91539546575486, 14.055093349472614, 28.28165252693452, 58.5211916529681, 28.924081442686717, 19.53419401546229, 19.438518628841035, 18.55266452938814, 16.853436899932596, 16.725359078460126, 16.247179210707394, 15.484468165176304, 13.69932281521814, 12.527511376146457, 12.420962469978884, 12.01306638450028, 10.68697370614221, 10.609062492678731, 10.46954002927029, 9.66992310614903, 9.633453286696025, 9.633453286696025, 9.629072509158718, 9.356090892617894, 9.237407439115618, 8.736964929317919, 8.717748979787535, 8.604691856580555, 8.385512168645073, 8.335418241944021, 8.282058340269762, 8.254273815967158, 7.964504800473442, 7.774377148590703, 24.778135472676606, 12.58438728771004, 20.876984489949503, 20.73926528976516, 25.888341157909277, 52.25359581107504, 38.17126843721877, 34.188768679099546, 12.298672383167121, 11.726181729418037, 11.293785004127043, 10.72486747897971, 10.381149976414028, 10.211581643633979, 9.86216744869803, 9.439235257416666, 9.439235257416666, 9.179309977661783, 9.101106310909978, 8.972706815643075, 8.231900711318087, 7.9461790875467155, 7.6683459985604525, 7.349216230997732, 7.282531326814304, 7.229984954196951, 7.197124449602376, 6.5527001696479275, 6.371729960788627, 6.08371736767642, 5.945286862996578, 5.371832118979562, 5.107892792262742, 4.954462103178592, 4.780649043554209, 4.748080158052798, 13.068147062628725, 12.193629406025362, 31.213201718453636, 64.9779569185036, 27.709218591305643, 22.917980227089128, 15.689622573765288, 14.095593125765483, 14.092059285238134, 13.377420111817788, 13.138483474428346, 12.369575579806012, 12.164351609524251, 9.691068443338326, 8.606276105348602, 7.447018863438328, 6.962579864543836, 6.935965968903419, 6.933300645539814, 6.742091320728341, 6.693142773254124, 6.601434060346509, 6.555608745893245, 6.409406051390554, 6.384967435583239, 5.827546702620769, 5.721248365254863, 5.711878198977411, 5.495359506728051, 5.524547619291909, 5.342838955070648, 5.360515795572354, 5.118972078462485, 5.118972078462485, 40.91539546575486, 20.73926528976516, 7.838659903352433, 12.799853966497109, 11.374235965492444, 7.943164497443909, 4.82621708320803, 4.176217192981663, 4.17481147270275, 3.033572715344531, 2.963356122503155, 2.876069433084096, 2.7863902179530267, 2.6941600592059327, 2.540404785063654, 2.4965559610856465, 2.446611816125443, 2.3692842504472265, 2.07550496723505, 1.9633308026621454, 1.915053949438621, 1.849029641897848, 1.7564418278818663, 1.5979803038564449, 1.5979803038564449, 1.5979803038564449, 1.5979803038564449, 1.5979803038564449, 1.5979803038564449, 1.5979803038564449, 1.5979803038564449, 1.5649810062798717, 1.5627911096296296, 7.838659903352433, 2.963462238175609, 8.868862729317183, 5.909467541240354, 5.667143593135711, 5.407628245232527, 5.377579797310355, 4.179392310620308, 3.891200906479304, 3.5075054774570313, 2.4550250479620104, 2.4295328661619124, 2.238462673413669, 2.157433403563622, 2.111716054431056, 2.104314293317857, 1.9579451911370955, 1.9373846955558336, 1.6586822582280947, 1.6586822582280947, 1.6448641201509788, 1.5585589514608125, 1.5553693970675793, 1.5426704419954635, 1.5298334988723434, 1.4948120580249664, 1.4514306464237132, 1.3724523652442964, 1.3713279785522687, 1.3225489422950867, 1.488217684307964, 1.2724918706551864, 3.5024380879569437, 6.162482333378506, 3.633269212533056, 3.299436367195701, 2.5191057861150887, 2.4251519947301965, 2.3729261094944043, 2.2859124123434578, 2.2730549204771204, 1.9535364287301153, 1.9386368460779904, 1.7828903043459123, 1.6148430815276171, 1.562200855910253, 1.4232829155182525, 1.352312186282662, 1.1618876616127294, 1.1517957598912818, 1.1239395054533203, 1.1144568585612207, 1.10571603815241, 1.0570981559872006, 1.0498027275372317, 1.0491156599150222, 1.0305268083066355, 4.709159462821331, 0.9727355951720245, 0.9598263248999059, 0.9261787873821437, 0.9071365335233023, 0.9071794672579263, 7.943862852056119, 14.055093349472614, 13.068147062628725, 2.306645074358678, 0.7138325128355308, 0.7138325128355308, 0.7138325128355308, 0.7138325128355308, 0.7138325128355308, 0.7138325128355308, 0.7138325128355308, 0.7138325128355308, 0.7138325128355308, 0.7138325128355308, 0.7138325128355308, 0.7138325128355308, 0.7138325128355308, 0.7138325128355308, 0.7138325128355308, 0.7151832688873512, 0.7151832688873512, 0.7151832688873512, 0.7151832688873512, 0.7151832688873512, 0.7151832688873512, 0.7151832688873512, 0.7151832688873512, 0.7151832688873512, 0.7151832688873512, 0.7151832688873512, 0.7151832688873512, 0.7151832688873512, 0.7151832688873512, 0.7151832688873512, 0.830024366678701, 0.8300214751254326, 0.830027420677215, 0.8300185991017247, 0.8300305021693, 0.8300321841012774, 0.9914966832793223, 0.8300166163046044, 1.3062449464769341, 0.8300259209037713, 0.8300312641230092, 2.000756233474793, 0.9914966832793223, 1.3301600101919302, 0.8300184062302011, 0.8300249228490321, 0.8300255334282383, 0.8300223597476061, 2.4165774717670825, 0.8300292748699615, 1.0858727998545785, 8.2679243317774, 2.8745415098538283, 0.8300330368796885, 0.8300178738788434, 28.28165252693452, 0.9914966832793223, 0.9914966832793223, 0.830023199929164, 0.8300284890972789, 0.7138325128355308, 0.7138325128355308, 0.7138325128355308, 0.7138325128355308, 0.7138325128355308, 0.7138325128355308, 0.7138325128355308, 0.7138325128355308, 0.7138325128355308, 0.7138325128355308, 0.7138325128355308, 0.7138325128355308, 0.7138325128355308, 0.7138325128355308, 0.7138325128355308, 0.7151832688873512, 0.7151832688873512, 0.7151832688873512, 0.7151832688873512, 0.7151832688873512, 0.7151832688873512, 0.7151832688873512, 0.7151832688873512, 0.7151832688873512, 0.7151832688873512, 0.7151832688873512, 0.7151832688873512, 0.7151832688873512, 0.7151832688873512, 0.7151832688873512, 0.830024366678701, 0.8300214751254326, 0.830027420677215, 0.8300185991017247, 0.8300305021693, 0.8300321841012774, 0.9914966832793223, 0.8300166163046044, 1.3062449464769341, 0.8300259209037713, 0.8300312641230092, 2.000756233474793, 0.9914966832793223, 1.3301600101919302, 0.8300184062302011, 0.8300249228490321, 0.8300255334282383, 0.8300223597476061, 2.4165774717670825, 0.8300292748699615, 1.0858727998545785, 8.2679243317774, 2.8745415098538283, 0.8300330368796885, 0.8300178738788434, 28.28165252693452, 0.9914966832793223, 0.9914966832793223, 0.830023199929164, 0.8300284890972789], \"Category\": [\"Default\", \"Default\", \"Default\", \"Default\", \"Default\", \"Default\", \"Default\", \"Default\", \"Default\", \"Default\", \"Default\", \"Default\", \"Default\", \"Default\", \"Default\", \"Default\", \"Default\", \"Default\", \"Default\", \"Default\", \"Default\", \"Default\", \"Default\", \"Default\", \"Default\", \"Default\", \"Default\", \"Default\", \"Default\", \"Default\", \"Topic1\", \"Topic1\", \"Topic1\", \"Topic1\", \"Topic1\", \"Topic1\", \"Topic1\", \"Topic1\", \"Topic1\", \"Topic1\", \"Topic1\", \"Topic1\", \"Topic1\", \"Topic1\", \"Topic1\", \"Topic1\", \"Topic1\", \"Topic1\", \"Topic1\", \"Topic1\", \"Topic1\", \"Topic1\", \"Topic1\", \"Topic1\", \"Topic1\", \"Topic1\", \"Topic1\", \"Topic1\", \"Topic1\", \"Topic1\", \"Topic1\", \"Topic1\", \"Topic1\", \"Topic1\", \"Topic1\", \"Topic1\", \"Topic1\", \"Topic1\", \"Topic1\", \"Topic1\", \"Topic1\", \"Topic2\", \"Topic2\", \"Topic2\", \"Topic2\", \"Topic2\", \"Topic2\", \"Topic2\", \"Topic2\", \"Topic2\", \"Topic2\", \"Topic2\", \"Topic2\", \"Topic2\", \"Topic2\", \"Topic2\", \"Topic2\", \"Topic2\", \"Topic2\", \"Topic2\", \"Topic2\", \"Topic2\", \"Topic2\", \"Topic2\", \"Topic2\", \"Topic2\", \"Topic2\", \"Topic2\", \"Topic2\", \"Topic2\", \"Topic2\", \"Topic2\", \"Topic2\", \"Topic2\", \"Topic2\", \"Topic2\", \"Topic2\", \"Topic2\", \"Topic2\", \"Topic2\", \"Topic3\", \"Topic3\", \"Topic3\", \"Topic3\", \"Topic3\", \"Topic3\", \"Topic3\", \"Topic3\", \"Topic3\", \"Topic3\", \"Topic3\", \"Topic3\", \"Topic3\", \"Topic3\", \"Topic3\", \"Topic3\", \"Topic3\", \"Topic3\", \"Topic3\", \"Topic3\", \"Topic3\", \"Topic3\", \"Topic3\", \"Topic3\", \"Topic3\", \"Topic3\", \"Topic3\", \"Topic3\", \"Topic3\", \"Topic3\", \"Topic3\", \"Topic3\", \"Topic3\", \"Topic3\", \"Topic3\", \"Topic3\", \"Topic4\", \"Topic4\", \"Topic4\", \"Topic4\", \"Topic4\", \"Topic4\", \"Topic4\", \"Topic4\", \"Topic4\", \"Topic4\", \"Topic4\", \"Topic4\", \"Topic4\", \"Topic4\", \"Topic4\", \"Topic4\", \"Topic4\", \"Topic4\", \"Topic4\", \"Topic4\", \"Topic4\", \"Topic4\", \"Topic4\", \"Topic4\", \"Topic4\", \"Topic4\", \"Topic4\", \"Topic4\", \"Topic4\", \"Topic4\", \"Topic4\", \"Topic4\", \"Topic4\", \"Topic4\", \"Topic5\", \"Topic5\", \"Topic5\", \"Topic5\", \"Topic5\", \"Topic5\", \"Topic5\", \"Topic5\", \"Topic5\", \"Topic5\", \"Topic5\", \"Topic5\", \"Topic5\", \"Topic5\", \"Topic5\", \"Topic5\", \"Topic5\", \"Topic5\", \"Topic5\", \"Topic5\", \"Topic5\", \"Topic5\", \"Topic5\", \"Topic5\", \"Topic5\", \"Topic5\", \"Topic5\", \"Topic5\", \"Topic5\", \"Topic5\", \"Topic5\", \"Topic5\", \"Topic5\", \"Topic6\", \"Topic6\", \"Topic6\", \"Topic6\", \"Topic6\", \"Topic6\", \"Topic6\", \"Topic6\", \"Topic6\", \"Topic6\", \"Topic6\", \"Topic6\", \"Topic6\", \"Topic6\", \"Topic6\", \"Topic6\", \"Topic6\", \"Topic6\", \"Topic6\", \"Topic6\", \"Topic6\", \"Topic6\", \"Topic6\", \"Topic6\", \"Topic6\", \"Topic6\", \"Topic6\", \"Topic6\", \"Topic6\", \"Topic6\", \"Topic6\", \"Topic6\", \"Topic7\", \"Topic7\", \"Topic7\", \"Topic7\", \"Topic7\", \"Topic7\", \"Topic7\", \"Topic7\", \"Topic7\", \"Topic7\", \"Topic7\", \"Topic7\", \"Topic7\", \"Topic7\", \"Topic7\", \"Topic7\", \"Topic7\", \"Topic7\", \"Topic7\", \"Topic7\", \"Topic7\", \"Topic7\", \"Topic7\", \"Topic7\", \"Topic7\", \"Topic7\", \"Topic7\", \"Topic7\", \"Topic7\", \"Topic7\", \"Topic7\", \"Topic8\", \"Topic8\", \"Topic8\", \"Topic8\", \"Topic8\", \"Topic8\", \"Topic8\", \"Topic8\", \"Topic8\", \"Topic8\", \"Topic8\", \"Topic8\", \"Topic8\", \"Topic8\", \"Topic8\", \"Topic8\", \"Topic8\", \"Topic8\", \"Topic8\", \"Topic8\", \"Topic8\", \"Topic8\", \"Topic8\", \"Topic8\", \"Topic8\", \"Topic8\", \"Topic8\", \"Topic8\", \"Topic8\", \"Topic8\", \"Topic8\", \"Topic8\", \"Topic8\", \"Topic8\", \"Topic9\", \"Topic9\", \"Topic9\", \"Topic9\", \"Topic9\", \"Topic9\", \"Topic9\", \"Topic9\", \"Topic9\", \"Topic9\", \"Topic9\", \"Topic9\", \"Topic9\", \"Topic9\", \"Topic9\", \"Topic9\", \"Topic9\", \"Topic9\", \"Topic9\", \"Topic9\", \"Topic9\", \"Topic9\", \"Topic9\", \"Topic9\", \"Topic9\", \"Topic9\", \"Topic9\", \"Topic9\", \"Topic9\", \"Topic9\", \"Topic9\", \"Topic9\", \"Topic9\", \"Topic9\", \"Topic9\", \"Topic9\", \"Topic9\", \"Topic9\", \"Topic9\", \"Topic9\", \"Topic9\", \"Topic9\", \"Topic9\", \"Topic9\", \"Topic9\", \"Topic9\", \"Topic9\", \"Topic9\", \"Topic9\", \"Topic9\", \"Topic9\", \"Topic9\", \"Topic9\", \"Topic9\", \"Topic9\", \"Topic9\", \"Topic9\", \"Topic9\", \"Topic9\", \"Topic9\", \"Topic10\", \"Topic10\", \"Topic10\", \"Topic10\", \"Topic10\", \"Topic10\", \"Topic10\", \"Topic10\", \"Topic10\", \"Topic10\", \"Topic10\", \"Topic10\", \"Topic10\", \"Topic10\", \"Topic10\", \"Topic10\", \"Topic10\", \"Topic10\", \"Topic10\", \"Topic10\", \"Topic10\", \"Topic10\", \"Topic10\", \"Topic10\", \"Topic10\", \"Topic10\", \"Topic10\", \"Topic10\", \"Topic10\", \"Topic10\", \"Topic10\", \"Topic10\", \"Topic10\", \"Topic10\", \"Topic10\", \"Topic10\", \"Topic10\", \"Topic10\", \"Topic10\", \"Topic10\", \"Topic10\", \"Topic10\", \"Topic10\", \"Topic10\", \"Topic10\", \"Topic10\", \"Topic10\", \"Topic10\", \"Topic10\", \"Topic10\", \"Topic10\", \"Topic10\", \"Topic10\", \"Topic10\", \"Topic10\", \"Topic10\", \"Topic10\", \"Topic10\", \"Topic10\", \"Topic10\"], \"logprob\": [30.0, 29.0, 28.0, 27.0, 26.0, 25.0, 24.0, 23.0, 22.0, 21.0, 20.0, 19.0, 18.0, 17.0, 16.0, 15.0, 14.0, 13.0, 12.0, 11.0, 10.0, 9.0, 8.0, 7.0, 6.0, 5.0, 4.0, 3.0, 2.0, 1.0, -3.7471, -4.0975, -4.2096, -4.2538, -4.392, -4.4229, -4.6905, -4.8553, -4.8694, -5.0146, -5.0324, -5.0339, -5.0395, -5.0434, -5.1313, -5.1371, -5.1516, -5.2864, -5.3192, -5.408, -5.4251, -5.425, -5.4941, -5.5289, -5.542, -5.5481, -5.5529, -5.5531, -5.5694, -5.6023, -4.8681, -4.4009, -4.1158, -5.0299, -4.4488, -4.4289, -5.2992, -5.0959, -5.1389, -4.7287, -5.3215, -4.4794, -4.5968, -4.6876, -4.7041, -4.8002, -4.8096, -4.8562, -4.8537, -4.8972, -4.8972, -4.947, -5.0078, -5.0227, -5.0595, -5.0837, -5.1426, -5.1575, -5.1581, -5.1594, -5.2186, -5.2191, -5.2192, -5.2402, -5.3343, -5.3369, -5.3435, -5.3552, -5.3994, -5.4319, -5.4319, -3.0923, -4.5361, -4.208, -4.7396, -4.8841, -4.6999, -5.2518, -5.1091, -5.0271, -4.1373, -4.5399, -4.545, -4.5931, -4.6925, -4.7004, -4.7305, -4.7805, -4.9082, -5.0021, -5.0108, -5.0459, -5.1693, -5.1771, -5.1911, -5.2755, -5.2795, -5.2795, -5.2801, -5.3107, -5.3243, -5.3839, -5.3863, -5.4003, -5.428, -5.4345, -5.4415, -5.445, -5.4836, -5.5097, -4.3736, -5.1603, -5.1264, -5.2022, -5.2129, -5.2369, -3.3597, -3.4716, -4.5243, -4.5741, -4.6136, -4.6681, -4.7025, -4.7199, -4.7568, -4.8034, -4.8034, -4.833, -4.8422, -4.8575, -4.9495, -4.9874, -5.0258, -5.0717, -5.0815, -5.0894, -5.0944, -5.1966, -5.2271, -5.278, -5.3034, -5.4159, -5.4723, -5.5066, -5.547, -5.5548, -4.6106, -4.6795, -4.7253, -4.8981, -3.6393, -3.8339, -4.2255, -4.3373, -4.3375, -4.392, -4.4109, -4.4743, -4.4919, -4.7328, -4.8601, -5.0168, -5.0903, -5.0944, -5.095, -5.1259, -5.1336, -5.1488, -5.1565, -5.1815, -5.1857, -5.2872, -5.3078, -5.3097, -5.353, -5.3482, -5.3848, -5.3829, -5.4334, -5.4334, -3.8711, -4.5927, -5.2906, -3.2832, -3.4078, -3.7925, -4.3474, -4.5154, -4.5159, -4.9038, -4.9333, -4.9717, -5.0121, -5.0556, -5.1331, -5.1562, -5.1831, -5.2264, -5.411, -5.4916, -5.5304, -5.5809, -5.6595, -5.8119, -5.8119, -5.8119, -5.8119, -5.8119, -5.8119, -5.8119, -5.8119, -5.8448, -5.8474, -5.05, -5.8331, -3.6402, -4.0849, -4.1318, -4.1848, -4.1909, -4.4811, -4.5657, -4.6906, -5.1446, -5.1585, -5.2707, -5.3216, -5.3518, -5.3569, -5.461, -5.4766, -5.7146, -5.7146, -5.728, -5.8161, -5.8195, -5.8332, -5.8486, -5.8871, -5.9375, -6.0381, -6.0396, -6.1068, -5.9903, -6.1861, -5.7623, -3.8052, -4.4156, -4.5333, -4.8788, -4.9296, -4.9591, -5.0101, -5.0179, -5.2337, -5.2449, -5.3715, -5.5286, -5.5833, -5.7444, -5.8378, -6.1418, -6.1608, -6.2155, -6.2347, -6.2527, -6.3601, -6.3771, -6.3793, -6.4242, -4.9415, -6.5781, -6.616, -6.7226, -6.7889, -6.7895, -4.7997, -4.545, -4.9333, -6.1288, -8.307, -8.307, -8.307, -8.307, -8.307, -8.307, -8.307, -8.307, -8.307, -8.307, -8.307, -8.307, -8.307, -8.307, -8.307, -8.307, -8.307, -8.307, -8.307, -8.307, -8.307, -8.307, -8.307, -8.307, -8.307, -8.307, -8.307, -8.307, -8.307, -8.307, -8.307, -8.307, -8.307, -8.307, -8.307, -8.307, -8.307, -8.307, -8.307, -8.307, -8.307, -8.307, -8.307, -8.307, -8.307, -8.307, -8.307, -8.307, -8.307, -8.307, -8.307, -8.307, -8.307, -8.307, -8.307, -8.307, -8.307, -8.307, -8.307, -8.307, -8.307, -8.307, -8.307, -8.307, -8.307, -8.307, -8.307, -8.307, -8.307, -8.307, -8.307, -8.307, -8.307, -8.307, -8.307, -8.307, -8.307, -8.307, -8.307, -8.307, -8.307, -8.307, -8.307, -8.307, -8.307, -8.307, -8.307, -8.307, -8.307, -8.307, -8.307, -8.307, -8.307, -8.307, -8.307, -8.307, -8.307, -8.307, -8.307, -8.307, -8.307, -8.307, -8.307, -8.307, -8.307, -8.307, -8.307, -8.307, -8.307, -8.307, -8.307, -8.307, -8.307, -8.307, -8.307, -8.307, -8.307, -8.307, -8.307, -8.307], \"loglift\": [30.0, 29.0, 28.0, 27.0, 26.0, 25.0, 24.0, 23.0, 22.0, 21.0, 20.0, 19.0, 18.0, 17.0, 16.0, 15.0, 14.0, 13.0, 12.0, 11.0, 10.0, 9.0, 8.0, 7.0, 6.0, 5.0, 4.0, 3.0, 2.0, 1.0, 1.0857, 1.083, 1.0819, 1.0815, 1.0799, 1.0795, 1.0756, 1.0727, 1.0724, 1.0693, 1.0689, 1.0689, 1.0687, 1.0686, 1.0665, 1.0664, 1.066, 1.0622, 1.0612, 1.0584, 1.0579, 1.0578, 1.0554, 1.0542, 1.0537, 1.0534, 1.0533, 1.0532, 1.0526, 1.0513, 1.0265, 0.9963, 0.9522, 1.0053, 0.8371, 0.7438, 0.9362, 0.7052, 0.7335, -0.3187, 0.7996, 1.578, 1.5751, 1.5726, 1.5721, 1.5692, 1.5689, 1.5673, 1.5672, 1.5659, 1.5659, 1.5641, 1.5618, 1.5612, 1.5598, 1.5588, 1.5562, 1.5555, 1.5555, 1.5553, 1.5527, 1.5527, 1.5526, 1.5517, 1.5469, 1.5467, 1.5464, 1.5457, 1.5433, 1.5414, 1.5414, 1.3176, 1.3792, 1.2675, 1.1398, 1.1041, 0.8306, 1.3473, 0.7907, 0.1455, 1.74, 1.7299, 1.7298, 1.7283, 1.7249, 1.7247, 1.7236, 1.7217, 1.7165, 1.712, 1.7118, 1.7102, 1.7037, 1.7032, 1.7025, 1.6975, 1.6973, 1.6973, 1.6972, 1.6953, 1.6945, 1.6905, 1.6904, 1.6894, 1.6875, 1.687, 1.6865, 1.6863, 1.6834, 1.6815, 1.6585, 1.5493, 1.077, 1.0078, 0.7754, 0.049, 2.2402, 2.2385, 2.2082, 2.2061, 2.2041, 2.2014, 2.1995, 2.1986, 2.1965, 2.1938, 2.1938, 2.1921, 2.1914, 2.1904, 2.1845, 2.1819, 2.1792, 2.1757, 2.175, 2.1744, 2.1739, 2.1655, 2.163, 2.1585, 2.1561, 2.1449, 2.1389, 2.1351, 2.1305, 2.1295, 2.0613, 2.0617, 1.0759, 0.1699, 2.281, 2.2762, 2.2635, 2.2589, 2.2589, 2.2564, 2.2556, 2.2525, 2.2516, 2.238, 2.2295, 2.2175, 2.2112, 2.2109, 2.2107, 2.2078, 2.2073, 2.2059, 2.2052, 2.2028, 2.2023, 2.1923, 2.1901, 2.1898, 2.1851, 2.1846, 2.1815, 2.18, 2.1757, 2.1757, 1.6594, 1.6173, 1.8924, 3.4093, 3.4029, 3.3772, 3.3206, 3.2972, 3.297, 3.2285, 3.2224, 3.2139, 3.2052, 3.1953, 3.1766, 3.171, 3.1642, 3.153, 3.1008, 3.0758, 3.0619, 3.0464, 3.0192, 2.9613, 2.9613, 2.9613, 2.9613, 2.9613, 2.9613, 2.9613, 2.9613, 2.9494, 2.9482, 2.1329, 2.3226, 3.4192, 3.3806, 3.3756, 3.3694, 3.3689, 3.3307, 3.3176, 3.2966, 3.1993, 3.1958, 3.1655, 3.1515, 3.1428, 3.1412, 3.1092, 3.1041, 3.0214, 3.0214, 3.0164, 2.9822, 2.9809, 2.9753, 2.9683, 2.9529, 2.932, 2.8873, 2.8866, 2.8557, 2.8541, 2.815, 2.2262, 3.6183, 3.5363, 3.515, 3.4394, 3.4265, 3.4189, 3.4052, 3.403, 3.3387, 3.3351, 3.2923, 3.2342, 3.2126, 3.1447, 3.1024, 2.9502, 2.9399, 2.9097, 2.8989, 2.8889, 2.8264, 2.8164, 2.8148, 2.7878, 2.751, 2.6916, 2.6671, 2.5961, 2.5506, 2.5499, 2.3699, 2.0541, 1.7385, 2.2775, 1.2722, 1.2722, 1.2722, 1.2722, 1.2722, 1.2722, 1.2722, 1.2722, 1.2722, 1.2722, 1.2722, 1.2722, 1.2722, 1.2722, 1.2722, 1.2703, 1.2703, 1.2703, 1.2703, 1.2703, 1.2703, 1.2703, 1.2703, 1.2703, 1.2703, 1.2703, 1.2703, 1.2703, 1.2703, 1.2703, 1.1214, 1.1214, 1.1214, 1.1214, 1.1214, 1.1214, 0.9436, 1.1214, 0.6679, 1.1214, 1.1214, 0.2415, 0.9436, 0.6498, 1.1214, 1.1214, 1.1214, 1.1214, 0.0527, 1.1214, 0.8527, -1.1773, -0.1208, 1.1214, 1.1214, -2.4071, 0.9436, 0.9436, 1.1214, 1.1214, 1.2722, 1.2722, 1.2722, 1.2722, 1.2722, 1.2722, 1.2722, 1.2722, 1.2722, 1.2722, 1.2722, 1.2722, 1.2722, 1.2722, 1.2722, 1.2703, 1.2703, 1.2703, 1.2703, 1.2703, 1.2703, 1.2703, 1.2703, 1.2703, 1.2703, 1.2703, 1.2703, 1.2703, 1.2703, 1.2703, 1.1214, 1.1214, 1.1214, 1.1214, 1.1214, 1.1214, 0.9436, 1.1214, 0.6679, 1.1214, 1.1214, 0.2415, 0.9436, 0.6498, 1.1214, 1.1214, 1.1214, 1.1214, 0.0527, 1.1214, 0.8527, -1.1773, -0.1208, 1.1214, 1.1214, -2.4071, 0.9436, 0.9436, 1.1214, 1.1214]}, \"token.table\": {\"Topic\": [3, 3, 6, 3, 2, 2, 3, 3, 2, 2, 5, 8, 2, 6, 1, 2, 8, 1, 8, 7, 2, 1, 2, 5, 1, 7, 8, 8, 1, 2, 3, 4, 1, 3, 1, 3, 4, 2, 4, 5, 1, 2, 3, 2, 3, 2, 2, 5, 4, 1, 4, 1, 2, 1, 4, 5, 4, 5, 5, 7, 7, 1, 1, 5, 1, 5, 4, 1, 4, 4, 6, 3, 2, 3, 2, 3, 2, 6, 6, 4, 6, 8, 1, 2, 1, 7, 1, 2, 2, 7, 1, 5, 6, 1, 5, 5, 1, 1, 3, 6, 6, 3, 4, 6, 3, 5, 8, 4, 2, 2, 5, 3, 1, 7, 7, 5, 1, 6, 5, 5, 4, 7, 6, 1, 4, 1, 2, 8, 1, 8, 5, 7, 4, 1, 3, 1, 5, 3, 5, 6, 4, 7, 5, 4, 7, 1, 2, 8, 4, 2, 4, 2, 7, 7, 5, 6, 5, 8, 4, 8, 4, 6, 7, 1, 6, 4, 5, 1, 2, 7, 4, 6, 2, 7, 3, 4, 8, 6, 4, 1, 4, 8, 1, 7, 2, 6, 2, 1, 3, 7, 1, 4, 7, 3, 2, 3, 2, 3, 7, 7, 1, 1, 2, 4, 2, 6, 3, 5, 1, 2, 7, 3, 6, 5, 1, 2, 3, 3, 4, 4, 8, 8, 5, 5, 2, 6, 7, 1, 4, 6, 8, 6, 2, 5, 3, 4, 6, 7, 3, 7, 7, 1, 3, 2, 3, 8, 6, 3, 5, 6, 5, 5, 1, 2, 2, 8, 3, 6, 5, 1, 2, 3, 2, 3, 5, 3, 3, 4, 1, 8, 8, 2, 3, 7, 4, 5, 4, 2, 8, 2, 7, 7, 6, 6, 1, 2, 2, 1, 6, 6, 3, 3, 1, 1, 7, 2], \"Freq\": [0.9342444222394439, 0.9297253327999063, 0.5408242125170032, 0.9342444222394439, 0.7655532009498635, 0.4998110130904155, 0.7517892526747282, 0.9702110428120609, 0.9301759225724614, 0.8276167527695824, 0.4247042419756516, 0.4247042419756516, 0.9209181776483593, 0.6389853908688052, 0.9675947286131243, 0.9936962645476071, 0.860668404561569, 0.6957631306224209, 0.6192552152212927, 0.5107395265846233, 0.9551387061839516, 0.530379191446274, 0.45966196592010405, 0.9701222101420065, 0.9580119539076948, 0.7858596373469289, 0.5118921691417058, 0.8682094819435611, 0.9927346141751279, 0.9672559283036862, 0.8788995895368024, 0.9125782995286853, 0.8983816152818964, 0.08556015383637108, 0.7654975581895186, 0.17223695059264169, 0.03827487790947593, 0.9621947652494751, 0.9534670717024935, 0.8899315827350476, 0.9768438913432337, 0.47899638019150476, 0.5268960182106552, 0.15892708594189622, 0.7946354297094812, 0.9490742214838743, 0.9936962645476071, 0.896439864390174, 0.95248252058161, 0.9947538712383125, 0.8410023124569419, 0.24706186782477682, 0.7491553411460974, 0.8618307293077268, 0.12311867561538953, 0.9864890776919363, 0.9726106654146759, 0.9744049588057249, 0.9767585998440884, 0.770970215134523, 0.6536659059545439, 0.9502490848000835, 0.9989339916360218, 0.9767585998440884, 0.9317355939742002, 0.9225053440995596, 0.9534670717024935, 0.6727922431483386, 0.320377258642066, 0.9416594923080172, 0.8288064815644729, 0.915649778237641, 0.9457265516283145, 0.9742993431132722, 0.9302948049635857, 0.9619402059359154, 0.94333792988904, 0.9581270977514158, 0.8174570182397319, 0.9632844167283972, 0.5093385173013467, 0.7939325180481434, 0.9969785186556351, 0.9659503017978731, 0.977580447103466, 0.5161597499422287, 0.9311865246975547, 0.08097274127804824, 0.9309708387001582, 0.6028882234914967, 0.9898606867444087, 0.637864132600217, 0.2551456530400868, 0.9315259925782062, 0.9717867788659511, 0.8650561474638555, 0.9962341313655847, 0.9980545613879993, 0.9176680836473193, 0.7872761111768598, 0.9375106959352285, 0.9687126377213364, 0.8809265337312154, 0.7177745554494752, 0.9774407382983186, 0.8739351415619354, 0.7026010001924847, 0.8424457605703969, 0.9028706587221621, 0.4643728792968044, 0.5132542350122574, 0.9726533884613079, 0.9851958677084872, 0.8232035169623069, 0.6079529535292021, 0.9358320627004347, 0.9717046925024037, 0.625789940956516, 0.915246811176566, 0.9286901699870495, 0.9792802279786029, 0.9020322271484659, 0.625789940956516, 0.9497359019020483, 0.03517540377414994, 0.34644073534498077, 0.6235933236209654, 0.739474220630131, 0.9501071776846524, 0.8246905778878838, 0.9399734482165745, 0.855308714207632, 0.83670647302446, 0.8407524613578822, 0.09891205427739791, 0.961794396798841, 0.9295541883705293, 0.48217715817228135, 0.48217715817228135, 0.625789940956516, 0.9718290198763884, 0.7292201542155617, 0.936124182473705, 0.9156530658600813, 0.642934084909574, 0.9955600683481829, 0.96131826133638, 0.6401225528821815, 0.9888907669621685, 0.9438462769019462, 0.9307811356081256, 0.974702519739843, 0.9297862957795242, 0.8460999176502011, 0.8617495406486226, 0.6592886301632148, 0.9560459424359634, 0.8428412465089935, 0.9128435260112261, 0.5158263663579262, 0.9862391096402306, 0.625789940956516, 0.9270274561877204, 0.6748862780283836, 0.3374431390141918, 0.9324124535430931, 0.8753688061652194, 0.946452918671409, 0.9516355582212613, 0.7561156854162606, 0.9804658543944871, 0.625789940956516, 0.9297924091697636, 0.6028882234914967, 0.9680514852470669, 0.9380717657141343, 0.9736336228505783, 0.48181045855659016, 0.9612042414738371, 0.9581883855951528, 0.9757150711993998, 0.8798731530781467, 0.5710307933427734, 0.2855153966713867, 0.9788285560073527, 0.9670979249395024, 0.9584738447445215, 0.9272586900556001, 0.9540264016208131, 0.7286227378988124, 0.9526556588842902, 0.9681901199443789, 0.8146556393224011, 0.9003936735007668, 0.08071632355894752, 0.8878795591484228, 0.9433978299331236, 0.9659434492391448, 0.668980421071301, 0.6416183353621087, 0.9479558322108104, 0.27758378775639553, 0.7170914517040218, 0.9944786347565964, 0.9701486149836853, 0.5221785006595454, 0.9156696257162636, 0.9894597063125375, 0.7499426594859843, 0.22057137043705421, 0.6719447097989633, 0.9489520157564807, 0.9578045908920148, 0.9098585804765684, 0.9720545941075771, 0.6180388269146306, 0.3862742668216441, 0.9307209479542778, 0.89159271158317, 0.8417413690925585, 0.1530438852895561, 0.5608870032903507, 0.9599449769136256, 0.9397072202063511, 0.9574518308977564, 0.8441367892529061, 0.6482265899296595, 0.9815327407653717, 0.8073530318122232, 0.7423463922145268, 0.8749241612235056, 0.5693328319366677, 0.9934514081509792, 0.9088934230277019, 0.9597598786037888, 0.9739870199388703, 0.6398807837069107, 0.9246197728936156, 0.9578917663446798, 0.4735485142056291, 0.8822786855191417, 0.9819581445639533, 0.9551517996055634, 0.9811650294154731, 0.6294167073523739, 0.2517666829409495, 0.8812608630039808, 0.969194889624901, 0.9050514801501265, 0.6953935037150129, 0.8653886953337001, 0.9327460622595066, 0.17955528142454474, 0.7900432382679968, 0.7826344319806848, 0.2134457541765504, 0.9493612546212452, 0.625789940956516, 0.857993981884589, 0.7006009078408872, 0.2392295782871322, 0.05126348106152833, 0.9568453705227795, 0.9847863307530642, 0.9222740670796721, 0.9425903567728965, 0.9357185930243863, 0.9788772402533243, 0.991066540558396, 0.90924620636033, 0.8257026453342413, 0.9774275167077741, 0.9346694597469929, 0.8934703373677382, 0.8201003710231343, 0.16402007420462686, 0.9955131583457736, 0.43353006976074654, 0.43353006976074654, 0.9309708387001582, 0.6889753929779378, 0.4752141841052209, 0.8011036128067743, 0.6749104452253936, 0.6880733973532576, 0.27522935894130307, 0.9526044999299412, 0.9969718845049187, 0.625789940956516, 0.625789940956516, 0.966108707678947, 0.9566311805290755, 0.9975027998320322, 0.9802899488170105, 0.9570769391127864, 0.9632819133210171], \"Term\": [\"club\", \"green_concert\", \"gspd\", \"opera\", \"riga\", \"\\u0430\\u0432\\u0442\\u043e\\u0440\\u0441\\u043a\\u0438\\u044f\", \"\\u0430\\u0434\\u0440\\u0435\\u0441\", \"\\u0430\\u043b\\u044c\\u0431\\u043e\\u043c\", \"\\u0430\\u043f\\u0440\\u0435\\u043b\\u044c\", \"\\u0430\\u0440\\u0442\\u0434\\u043e\\u043a\\u0444\\u0435\\u0441\\u0442\", \"\\u0430\\u0440\\u0445\\u0438\\u0442\\u0435\\u043a\\u0442\\u0443\\u0440\\u0430\", \"\\u0430\\u0440\\u0445\\u0438\\u0442\\u0435\\u043a\\u0442\\u0443\\u0440\\u0430\", \"\\u0431\\u0430\\u043b\\u0442\\u0438\\u0438\\u0441\\u043a\\u0438\\u044f\", \"\\u0431\\u0430\\u0440\", \"\\u0431\\u0435\\u043b\\u044b\\u0439\", \"\\u0431\\u043e\\u0431\\u0443\\u043d\\u0435\\u0446\", \"\\u0431\\u043e\\u0433\\u0430\\u0442\\u044b\\u0439\", \"\\u0431\\u043e\\u043b\\u044c\\u0448\\u0438\\u043d\\u0441\\u0442\\u0432\\u043e\", \"\\u0431\\u044b\\u0432\\u0448\\u0435\\u044f\", \"\\u0432\\u0430\\u0436\\u043d\\u044b\\u0439\", \"\\u0432\\u0435\\u043a\", \"\\u0432\\u0435\\u0441\\u044c\", \"\\u0432\\u0435\\u0441\\u044c\", \"\\u0432\\u0435\\u0447\\u0435\\u0440\", \"\\u0432\\u0438\\u0434\", \"\\u0432\\u043a\\u043b\\u0430\\u0434\", \"\\u0432\\u043b\\u0430\\u0434\\u0435\\u043b\\u0435\\u0446\", \"\\u0432\\u043d\\u0443\\u0442\\u0440\\u0438\", \"\\u0432\\u043e_\\u0432\\u0440\\u0435\\u043c\\u044f\", \"\\u0432\\u043e\\u0437\\u043c\\u043e\\u0436\\u043d\\u043e\\u0441\\u0442\\u044c\", \"\\u0432\\u043e\\u043b\\u043d\\u0430\", \"\\u0432\\u043e\\u0441\\u0445\\u0438\\u0442\\u0438\\u0442\\u0435\\u043b\\u044c\\u043d\\u044b\\u0439\", \"\\u0432\\u0440\\u0435\\u043c\\u044f\", \"\\u0432\\u0440\\u0435\\u043c\\u044f\", \"\\u0432\\u0441\\u0451\", \"\\u0432\\u0441\\u0451\", \"\\u0432\\u0441\\u0451\", \"\\u0432\\u0442\\u043e\\u0440\\u043e\\u0439\", \"\\u0432\\u044b\\u0434\\u0430\\u0442\\u044c\", \"\\u0432\\u044b\\u0438\\u0434\\u0442\\u0438\", \"\\u0432\\u044b\\u0441\\u043e\\u0442\\u0430\", \"\\u0432\\u044b\\u0441\\u0442\\u0430\\u0432\\u043a\\u0430\", \"\\u0432\\u044b\\u0441\\u0442\\u0430\\u0432\\u043a\\u0430\", \"\\u0432\\u044b\\u0441\\u0442\\u0443\\u043f\\u0430\\u0442\\u044c\", \"\\u0432\\u044b\\u0441\\u0442\\u0443\\u043f\\u0430\\u0442\\u044c\", \"\\u0432\\u044b\\u0441\\u0442\\u0443\\u043f\\u0438\\u0442\\u044c\", \"\\u0433\\u0430\\u043b\\u043b\\u044e\\u0446\\u0438\\u043d\\u0430\\u0446\\u0438\\u044f\", \"\\u0433\\u0435\\u0440\\u043c\\u0430\\u043d\\u0438\\u044f\", \"\\u0433\\u0435\\u0440\\u043e\\u0439\", \"\\u0433\\u0438\\u0434\", \"\\u0433\\u043e\\u0432\\u043e\\u0440\\u0438\\u0442\\u044c\", \"\\u0433\\u043e\\u0434\", \"\\u0433\\u043e\\u0434\", \"\\u0433\\u043e\\u0440\\u043e\\u0434\", \"\\u0433\\u043e\\u0440\\u043e\\u0434\", \"\\u0433\\u043e\\u0442\\u043e\\u0432\\u0438\\u0442\\u044c\\u0441\\u044f\", \"\\u0433\\u0440\\u0438\\u0433\\u043e\\u0440\\u0438\\u0439\", \"\\u0433\\u0440\\u0443\\u043f\\u043f\\u0430\", \"\\u0433\\u0443\\u0433\\u043a\\u0430\\u0435\\u0432\", \"\\u0434\\u0430\\u0432\\u0430\\u0442\\u044c\", \"\\u0434\\u0430\\u043d\\u043d\\u044b\\u0439\", \"\\u0434\\u0432\\u043e\\u0440\", \"\\u0434\\u0432\\u043e\\u0440\\u0435\\u0446\", \"\\u0434\\u0435\\u0431\\u044e\\u0442\\u0438\\u0440\\u043e\\u0432\\u0430\\u0442\\u044c\", \"\\u0434\\u0435\\u043d\\u044c\", \"\\u0434\\u043c\\u0438\\u0442\\u0440\\u0438\\u0439\", \"\\u0434\\u043e\\u0436\\u0434\\u0435\\u0432\\u0438\\u043a\", \"\\u0434\\u043e\\u043c\", \"\\u0434\\u043e\\u043c\", \"\\u0434\\u043e\\u0445\\u043e\\u0434\\u043d\\u044b\\u0439\", \"\\u0434\\u0440\\u0430\\u0438\\u0432\", \"\\u0434\\u0440\\u0430\\u0438\\u0442\\u044c\", \"\\u0434\\u0443\\u044d\\u0442\", \"\\u0435\\u0432\\u0440\\u043e\\u043f\\u0430\", \"\\u0435\\u0434\\u0438\\u043d\\u0441\\u0442\\u0432\\u0435\\u043d\\u043d\\u044b\\u0439\", \"\\u0436\\u0430\\u043d\\u0440\", \"\\u0436\\u0434\\u0430\\u0442\\u044c\", \"\\u0436\\u0438\\u0432\\u043e\\u0439\", \"\\u0436\\u0438\\u0442\\u0435\\u043b\\u044c\", \"\\u0436\\u0438\\u0442\\u044c\", \"\\u0437\\u0430\\u0432\\u0435\\u0434\\u0435\\u043d\\u0438\\u0435\", \"\\u0437\\u0430\\u0433\\u0430\\u0434\\u043e\\u0447\\u043d\\u044b\\u0439\", \"\\u0437\\u0430\\u0442\\u0435\\u043c\", \"\\u0437\\u0432\\u0443\\u0447\\u0430\\u0442\\u044c\", \"\\u0437\\u0434\\u0430\\u043d\\u0438\\u0435\", \"\\u0437\\u043d\\u0430\\u043a\\u043e\\u043c\\u0438\\u0442\\u044c\", \"\\u0437\\u043d\\u0430\\u043c\\u0435\\u043d\\u0438\\u0442\\u044b\\u0439\", \"\\u0437\\u043d\\u0430\\u043c\\u0435\\u043d\\u0438\\u0442\\u044b\\u0439\", \"\\u0437\\u043d\\u0430\\u0447\\u0435\\u043d\\u0438\\u0435\", \"\\u0437\\u043e\\u043e\\u043f\\u0430\\u0440\\u043a\", \"\\u0438\\u043c\\u0435\\u043d\\u043d\\u043e\", \"\\u0438\\u043d\\u0442\\u0435\\u0440\\u0435\\u0441\\u043d\\u044b\\u0439\", \"\\u0438\\u043d\\u0442\\u0435\\u0440\\u0435\\u0441\\u043d\\u044b\\u0439\", \"\\u0438\\u0441\\u0430\\u0430\\u043a\\u0438\\u0435\\u0432\\u0441\\u043a\\u0438\\u044f\", \"\\u0438\\u0441\\u043f\\u043e\\u043b\\u043d\\u0438\\u0442\\u044c\", \"\\u0438\\u0441\\u043f\\u043e\\u043b\\u043d\\u044f\\u0442\\u044c\", \"\\u0438\\u0441\\u0442\\u043e\\u0440\\u0438\\u0447\\u0435\\u0441\\u043a\\u0438\\u0439\", \"\\u0438\\u0441\\u0442\\u043e\\u0440\\u0438\\u044f\", \"\\u043a\\u0430\\u0437\\u0430\\u0442\\u044c\\u0441\\u044f\", \"\\u043a\\u0430\\u0441\\u0442\\u0430\", \"\\u043a\\u043b\\u0443\\u0431\", \"\\u043a\\u043b\\u0443\\u0431\\u0435_\\u043a\\u043e\\u0441\\u043c\\u043e\\u043d\\u0430\\u0432\\u0442\", \"\\u043a\\u043d\\u0438\\u0433\\u0430\", \"\\u043a\\u043e\\u043b\\u043b\\u0435\\u0433\\u0430\", \"\\u043a\\u043e\\u043c\\u0430\\u043d\\u0434\\u0430\", \"\\u043a\\u043e\\u043c\\u043f\\u043e\\u0437\\u0438\\u0442\\u043e\\u0440\", \"\\u043a\\u043e\\u043c\\u043f\\u043e\\u0437\\u0438\\u0446\\u0438\\u044f\", \"\\u043a\\u043e\\u043c\\u0444\\u043e\\u0440\\u0442\\u0430\\u0431\\u0435\\u043b\\u044c\\u043d\\u044b\\u0439\", \"\\u043a\\u043e\\u043d\\u043a\\u0443\\u0440\\u0441\", \"\\u043a\\u043e\\u043d\\u0446\\u0435\\u0440\\u0442\", \"\\u043a\\u043e\\u043d\\u0446\\u0435\\u0440\\u0442\", \"\\u043a\\u043e\\u043d\\u0446\\u0435\\u0440\\u0442\\u043d\\u044b\\u0439\", \"\\u043a\\u0440\\u044b\\u0448\\u0430\", \"\\u043a\\u0443\\u043b\\u044c\\u0442\\u043e\\u0432\\u044b\\u0439\", \"\\u043a\\u0443\\u043b\\u044c\\u0442\\u0443\\u0440\\u043d\\u044b\\u0439\", \"\\u043b\\u0430\\u043a\\u043c\", \"\\u043b\\u0435\\u0441\\u0442\\u043d\\u0438\\u0446\\u0430\", \"\\u043b\\u0438\\u0440\\u0438\\u043a\\u0430\", \"\\u043b\\u044e\\u0431\\u043e\\u0432\\u044c\", \"\\u043c\\u0430\\u0440\\u0438\\u0438\\u043d\\u0441\\u043a\\u0438\\u0439\", \"\\u043c\\u0430\\u0440\\u0448\\u0440\\u0443\\u0442\", \"\\u043c\\u0430\\u0441\\u0442\\u0435\\u0440\", \"\\u043c\\u0430\\u0441\\u0442\\u043e\\u0434\\u043e\\u043d\\u0442\", \"\\u043c\\u0435\\u0441\\u0442\\u043e\", \"\\u043c\\u0435\\u0441\\u0442\\u043e\", \"\\u043c\\u0438\\u0440\", \"\\u043c\\u0438\\u0440\", \"\\u043c\\u0438\\u0445\\u0430\\u0438\\u043b\\u043e\\u0432\\u0441\\u043a\\u0438\\u0439\", \"\\u043c\\u043d\\u043e\\u0433\\u0438\\u0435\", \"\\u043c\\u043e\\u0434\\u0435\\u0440\\u043d\", \"\\u043c\\u043e\\u043b\\u043e\\u0434\\u043e\\u0439\", \"\\u043c\\u043e\\u043c\\u0435\\u043d\\u0442\", \"\\u043c\\u043e\\u0440\\u0441\\u043a\\u043e\\u0439\", \"\\u043c\\u043e\\u0447\\u044c\", \"\\u043c\\u043e\\u0447\\u044c\", \"\\u043c\\u0443\\u0437\\u0435\\u0439\", \"\\u043c\\u0443\\u0437\\u044b\\u043a\\u0430\\u043b\\u044c\\u043d\\u044b\\u0439\", \"\\u043c\\u0443\\u0437\\u044b\\u043a\\u0430\\u043d\\u0442\", \"\\u043c\\u0443\\u0437\\u044b\\u043a\\u0430\\u043d\\u0442\", \"\\u043d\\u0430\\u0431\\u043e\\u043b\\u0435\\u0432\\u0448\\u0438\\u0439\", \"\\u043d\\u0430\\u0437\\u0432\\u0430\\u043d\\u0438\\u0435\", \"\\u043d\\u0430\\u0437\\u0432\\u0430\\u0442\\u044c\", \"\\u043d\\u0430\\u0437\\u044b\\u0432\\u0430\\u0442\\u044c\", \"\\u043d\\u0430\\u043f\\u0438\\u0441\\u0430\\u0442\\u044c\", \"\\u043d\\u0430\\u043f\\u043e\\u043c\\u0438\\u043d\\u0430\\u0442\\u044c\", \"\\u043d\\u0430\\u0448\", \"\\u043d\\u0435_\\u0442\\u043e\\u043b\\u044c\\u043a\\u043e\", \"\\u043d\\u0435\\u043a\\u043e\\u0442\\u043e\\u0440\\u044b\\u0439\", \"\\u043d\\u0435\\u043f\\u043e\\u0433\\u043e\\u0434\\u0430\", \"\\u043d\\u0435\\u0441\\u043a\\u043e\\u043b\\u044c\\u043a\\u043e\", \"\\u043d\\u043e\\u0432\\u0433\\u043e\\u0440\\u043e\\u0434\", \"\\u043d\\u043e\\u0432\\u044b\\u0439\", \"\\u043e\\u0431\\u0440\\u0430\\u0437\", \"\\u043e\\u0431\\u044a\\u0435\\u0434\\u0438\\u043d\\u044f\\u0442\\u044c\", \"\\u043e\\u0434\\u043d\\u043e\\u0439\", \"\\u043e\\u0436\\u0438\\u0434\\u0430\\u0442\\u044c\", \"\\u043e\\u0440\\u043a\\u0435\\u0441\\u0442\\u0440\", \"\\u043e\\u0441\\u043d\\u043e\\u0432\\u0430\\u043d\\u0438\\u0435\", \"\\u043e\\u0441\\u043e\\u0431\\u0435\\u043d\\u043d\\u043e\\u0441\\u0442\\u044c\", \"\\u043e\\u0441\\u043e\\u0431\\u043d\\u044f\\u043a\", \"\\u043e\\u0441\\u0442\\u0440\\u043e\\u0432\", \"\\u043e\\u0441\\u044c\\u043c\\u0438\\u043d\\u043e\\u0433\", \"\\u043e\\u0442\\u043a\\u0440\\u044b\\u0432\\u0430\\u0442\\u044c\", \"\\u043e\\u0442\\u043a\\u0440\\u044b\\u0442\\u044c\", \"\\u043e\\u0442\\u043a\\u0440\\u044b\\u0442\\u044c\", \"\\u043e\\u0442\\u043a\\u0440\\u044b\\u0442\\u044c\\u0441\\u044f\", \"\\u043e\\u0442\\u043c\\u0435\\u0442\\u0438\\u0442\\u044c\", \"\\u043e\\u0442\\u043f\\u0440\\u0430\\u0432\\u0438\\u0442\\u044c\\u0441\\u044f\", \"\\u043f\\u0430\\u0432\\u0435\\u043b\", \"\\u043f\\u0430\\u043b\\u0438\\u0442\\u0440\\u0430\", \"\\u043f\\u0430\\u043c\\u044f\\u0442\\u043d\\u0438\\u043a\", \"\\u043f\\u0435\\u0440\\u0432\\u043e\\u043f\\u0440\\u043e\\u0445\\u043e\\u0434\\u0435\\u0446\", \"\\u043f\\u0435\\u0440\\u0432\\u044b\\u044f\", \"\\u043f\\u0435\\u0440\\u043d\\u0430\\u0442\\u044b\\u0439\", \"\\u043f\\u0435\\u0441\\u043d\\u044f\", \"\\u043f\\u0435\\u0442\\u0440\\u043e\\u043f\\u0430\\u0432\\u043b\\u043e\\u0432\\u0441\\u043a\\u043e\\u0438_\\u043a\\u0440\\u0435\\u043f\\u043e\\u0441\\u0442\\u044c\", \"\\u043f\\u0438\\u0442\\u0435\\u0440\\u0441\\u043a\\u0438\\u0439\", \"\\u043f\\u043b\\u0430\\u043d\\u0435\\u0442\\u0430\", \"\\u043f\\u043b\\u043e\\u0449\\u0430\\u0434\\u044c\", \"\\u043f\\u043e\\u0431\\u044b\\u0432\\u0430\\u0442\\u044c\", \"\\u043f\\u043e\\u0434\\u043d\\u044f\\u0442\\u044c\\u0441\\u044f\", \"\\u043f\\u043e\\u0437\\u043d\\u0430\\u043a\\u043e\\u043c\\u0438\\u0442_\\u0441\\u043b\\u0443\\u0448\\u0430\\u0442\\u0435\\u043b\\u0435\\u0439\", \"\\u043f\\u043e\\u043a\\u0430\\u0437\\u044b\\u0432\\u0430\\u0442\\u044c\", \"\\u043f\\u043e\\u043a\\u0430\\u0437\\u044b\\u0432\\u0430\\u0442\\u044c\", \"\\u043f\\u043e\\u043a\\u043b\\u043e\\u043d\\u043d\\u0438\\u043a\", \"\\u043f\\u043e\\u043b\\u043d\\u044b\\u0439\", \"\\u043f\\u043e\\u043b\\u0443\\u0447\\u0438\\u0442\\u044c\", \"\\u043f\\u043e\\u043b\\u0451\\u0442\", \"\\u043f\\u043e\\u043f\", \"\\u043f\\u043e\\u0440\\u0442\\u0440\\u0435\\u0442\", \"\\u043f\\u043e\\u0441\\u0435\\u0442\\u0438\\u0442\\u044c\", \"\\u043f\\u043e\\u0441\\u0435\\u0449\\u0435\\u043d\\u0438\\u0435\", \"\\u043f\\u043e\\u0441\\u043b\\u0435\\u0434\\u043d\\u0438\\u0439\", \"\\u043f\\u043e\\u0441\\u0442\\u043f\\u0430\\u043d\\u043a\", \"\\u043f\\u0440\\u0435\\u0434\\u0441\\u0442\\u0430\\u0432\\u0438\\u0442\\u044c\", \"\\u043f\\u0440\\u0435\\u0434\\u0441\\u0442\\u0430\\u0432\\u0438\\u0442\\u044c\", \"\\u043f\\u0440\\u0435\\u0434\\u0441\\u0442\\u0430\\u0432\\u043b\\u044f\\u0442\\u044c\", \"\\u043f\\u0440\\u0435\\u0436\\u043d\\u0438\\u0439\", \"\\u043f\\u0440\\u0438\\u0437\\u043d\\u0430\\u043d\\u0438\\u0435\", \"\\u043f\\u0440\\u0438\\u0437\\u043d\\u0430\\u043d\\u043d\\u044b\\u0439\", \"\\u043f\\u0440\\u043e\\u0432\\u0435\\u0441\\u0442\\u0438\", \"\\u043f\\u0440\\u043e\\u0433\\u0440\\u0430\\u043c\\u043c\\u0430\", \"\\u043f\\u0440\\u043e\\u0433\\u0440\\u0430\\u043c\\u043c\\u0430\", \"\\u043f\\u0440\\u043e\\u0433\\u0443\\u043b\\u043a\\u0430\", \"\\u043f\\u0440\\u043e\\u0434\\u043e\\u043b\\u0436\\u0430\\u0442\\u044c\", \"\\u043f\\u0440\\u043e\\u0434\\u044e\\u0441\\u0435\\u0440\", \"\\u043f\\u0440\\u043e\\u0435\\u043a\\u0442\", \"\\u043f\\u0440\\u043e\\u0437\\u0432\\u0443\\u0447\\u0430\\u0442\\u044c\", \"\\u043f\\u0440\\u043e\\u0445\\u043e\\u0434\\u0438\\u0442\\u044c\", \"\\u043f\\u0440\\u043e\\u0445\\u043e\\u0434\\u0438\\u0442\\u044c\", \"\\u043f\\u0442\\u0438\\u0446\\u0430\", \"\\u043f\\u0443\\u0431\\u043b\\u0438\\u043a\\u0430\", \"\\u043f\\u0443\\u0442\\u0435\\u0448\\u0435\\u0441\\u0442\\u0432\\u0438\\u0435\", \"\\u043f\\u044f\\u0442\\u044b\\u0439\", \"\\u043f\\u0451\\u0442\\u0440\", \"\\u0440\\u0430\\u0431\\u043e\\u0442\\u0430\", \"\\u0440\\u0430\\u0431\\u043e\\u0442\\u0430\", \"\\u0440\\u0430\\u0437\\u043d\\u044b\\u0439\", \"\\u0440\\u0430\\u0441\\u043a\\u0438\\u043d\\u0443\\u0442\\u044c\\u0441\\u044f\", \"\\u0440\\u0430\\u0441\\u0441\\u043a\\u0430\\u0437\\u0430\\u0442\\u044c\", \"\\u0440\\u0430\\u0441\\u0441\\u043a\\u0430\\u0437\\u0430\\u0442\\u044c\", \"\\u0440\\u0435\\u0430\\u043b\\u044c\\u043d\\u043e\\u0441\\u0442\\u044c\", \"\\u0440\\u043e\\u043a\", \"\\u0440\\u043e\\u043a\\u0435\\u0440\", \"\\u0440\\u0443\\u0441\\u0441\\u043a\\u0438\\u0439\", \"\\u0440\\u044d\\u043f\", \"\\u0441\\u0430\\u043c\\u043e\\u0438\", \"\\u0441\\u0430\\u043c\\u044b\\u0439\", \"\\u0441\\u0432\\u044f\\u0442\\u043e\\u0439\", \"\\u0441\\u0435\\u0432\\u0435\\u0440\\u043d\\u043e\\u0438_\\u0441\\u0442\\u043e\\u043b\\u0438\\u0446\\u044b\\u0439\", \"\\u0441\\u0435\\u0433\\u043e\\u0434\\u043d\\u044f\", \"\\u0441\\u0435\\u0437\\u043e\\u043d\", \"\\u0441\\u0435\\u0440\\u0433\\u0435\\u0439\", \"\\u0441\\u0438\\u043c\\u0444\\u043e\\u043d\\u0438\\u044f\", \"\\u0441\\u0438\\u043d\\u0433\\u043b\", \"\\u0441\\u043b\\u0443\\u0447\\u0430\\u0439\", \"\\u0441\\u043c\\u0435\\u043b\\u043e\", \"\\u0441\\u043c\\u044b\\u0441\\u043b\", \"\\u0441\\u043c\\u044b\\u0441\\u043b\\u043e\\u0432\\u043e\\u0439\", \"\\u0441\\u043d\\u0438\\u043c\\u043e\\u043a\", \"\\u0441\\u043e\\u0431\\u043e\\u0438\", \"\\u0441\\u043e\\u0431\\u043e\\u0440\", \"\\u0441\\u043e\\u0431\\u0441\\u0442\\u0432\\u0435\\u043d\\u043d\\u044b\\u0439\", \"\\u0441\\u043e\\u0431\\u044b\\u0442\\u0438\\u0435\", \"\\u0441\\u043e\\u0432\\u0440\\u0435\\u043c\\u0435\\u043d\\u043d\\u044b\\u0439\", \"\\u0441\\u043e\\u0432\\u0440\\u0435\\u043c\\u0435\\u043d\\u043d\\u044b\\u0439\", \"\\u0441\\u043e\\u043b\\u044c\\u043d\\u044b\\u0439\", \"\\u0441\\u043e\\u0441\\u0442\\u0430\\u0432\", \"\\u0441\\u043f\\u0430\\u0441\\u0442\\u0438\", \"\\u0441\\u043f\\u043e\\u0441\\u043e\\u0431\", \"\\u0441\\u043f\\u0443\\u0441\\u0442\\u044f\", \"\\u0441\\u0442\\u0430\\u0440\\u0438\\u043d\\u043d\\u043e\\u0438\\u0442\\u044c\", \"\\u0441\\u0442\\u0430\\u0442\\u044c\", \"\\u0441\\u0442\\u0430\\u0442\\u044c\", \"\\u0441\\u0442\\u0438\\u043b\\u044c\", \"\\u0441\\u0442\\u0438\\u043b\\u044c\", \"\\u0441\\u0442\\u0440\\u0430\\u043d\\u0430\", \"\\u0441\\u0442\\u0443\\u0434\\u0438\\u0438\\u043d\\u043e\\u044f\", \"\\u0441\\u0447\\u0451\\u0442\", \"\\u0442\\u0430\\u043a\\u0436\\u0435\", \"\\u0442\\u0430\\u043a\\u0436\\u0435\", \"\\u0442\\u0430\\u043a\\u0436\\u0435\", \"\\u0442\\u0432\\u043e\\u0440\\u0447\\u0435\\u0441\\u043a\\u0438\\u0439\", \"\\u0442\\u0432\\u043e\\u0440\\u0447\\u0435\\u0441\\u0442\\u0432\\u043e\", \"\\u0442\\u0435\\u0430\\u0442\\u0440\", \"\\u0442\\u043e\\u043c_\\u0447\\u0438\\u0441\\u043b\\u043e\", \"\\u0442\\u0440\\u0435\\u043a\", \"\\u0442\\u0443\\u0440\\u0438\\u0441\\u0442\", \"\\u0443\\u0432\\u0438\\u0434\\u0435\\u0442\\u044c\", \"\\u0443\\u0434\\u0438\\u0432\\u0438\\u0442\\u0435\\u043b\\u044c\\u043d\\u044b\\u0439\", \"\\u0443\\u043b\\u0438\\u0446\\u0430\", \"\\u0443\\u043d\\u0438\\u043a\\u0430\\u043b\\u044c\\u043d\\u044b\\u0439\", \"\\u0443\\u0440\\u0430\\u043b\\u044c\\u0441\\u043a\\u0438\\u0439\", \"\\u0443\\u0440\\u043e\\u0432\\u0435\\u043d\\u044c\", \"\\u0443\\u0441\\u043b\\u044b\\u0448\\u0430\\u0442\\u044c\", \"\\u0443\\u0441\\u043b\\u044b\\u0448\\u0430\\u0442\\u044c\", \"\\u0443\\u0447\\u0430\\u0441\\u0442\\u043d\\u0438\\u043a\", \"\\u0443\\u044e\\u0442\\u043d\\u044b\\u0439\", \"\\u0443\\u044e\\u0442\\u043d\\u044b\\u0439\", \"\\u0444\\u043e\\u0440\\u043c\\u0430\\u0442\", \"\\u0444\\u043e\\u0442\\u043e\\u0433\\u0440\\u0430\\u0444\", \"\\u0444\\u043e\\u0442\\u043e\\u0433\\u0440\\u0430\\u0444\\u0438\\u044f\", \"\\u0445\\u0438\\u043f\", \"\\u0445\\u043e\\u043f\", \"\\u0445\\u043e\\u0440\\u043e\\u0448\\u0438\\u0439\", \"\\u0445\\u043e\\u0440\\u043e\\u0448\\u0438\\u0439\", \"\\u0446\\u0435\\u043d\\u0438\\u0442\\u0435\\u043b\\u0435\\u0439\", \"\\u0447\\u0430\\u0441\", \"\\u0447\\u0435\\u0440\\u043d\\u0438\\u043b\\u0430\", \"\\u0447\\u0435\\u0441\\u0442\\u043d\\u043e\\u0439\", \"\\u0448\\u0430\\u0440\", \"\\u0448\\u043e\\u0443\", \"\\u044d\\u043a\\u0441\\u043a\\u0443\\u0440\\u0441\\u0438\\u044f\", \"\\u044d\\u043a\\u0441\\u043a\\u0443\\u0440\\u0441\\u043e\\u0432\\u043e\\u0434\", \"\\u044d\\u043a\\u0441\\u043f\\u043e\\u0437\\u0438\\u0446\\u0438\\u044f\", \"\\u044f\\u0440\\u043a\\u0438\\u0439\"]}, \"R\": 30, \"lambda.step\": 0.01, \"plot.opts\": {\"xlab\": \"PC1\", \"ylab\": \"PC2\"}, \"topic.order\": [1, 2, 8, 10, 6, 9, 3, 5, 7, 4]};\n",
       "\n",
       "function LDAvis_load_lib(url, callback){\n",
       "  var s = document.createElement('script');\n",
       "  s.src = url;\n",
       "  s.async = true;\n",
       "  s.onreadystatechange = s.onload = callback;\n",
       "  s.onerror = function(){console.warn(\"failed to load library \" + url);};\n",
       "  document.getElementsByTagName(\"head\")[0].appendChild(s);\n",
       "}\n",
       "\n",
       "if(typeof(LDAvis) !== \"undefined\"){\n",
       "   // already loaded: just create the visualization\n",
       "   !function(LDAvis){\n",
       "       new LDAvis(\"#\" + \"ldavis_el3708818410653113608761643395\", ldavis_el3708818410653113608761643395_data);\n",
       "   }(LDAvis);\n",
       "}else if(typeof define === \"function\" && define.amd){\n",
       "   // require.js is available: use it to load d3/LDAvis\n",
       "   require.config({paths: {d3: \"https://d3js.org/d3.v5\"}});\n",
       "   require([\"d3\"], function(d3){\n",
       "      window.d3 = d3;\n",
       "      LDAvis_load_lib(\"https://cdn.jsdelivr.net/gh/bmabey/pyLDAvis@3.3.1/pyLDAvis/js/ldavis.v3.0.0.js\", function(){\n",
       "        new LDAvis(\"#\" + \"ldavis_el3708818410653113608761643395\", ldavis_el3708818410653113608761643395_data);\n",
       "      });\n",
       "    });\n",
       "}else{\n",
       "    // require.js not available: dynamically load d3 & LDAvis\n",
       "    LDAvis_load_lib(\"https://d3js.org/d3.v5.js\", function(){\n",
       "         LDAvis_load_lib(\"https://cdn.jsdelivr.net/gh/bmabey/pyLDAvis@3.3.1/pyLDAvis/js/ldavis.v3.0.0.js\", function(){\n",
       "                 new LDAvis(\"#\" + \"ldavis_el3708818410653113608761643395\", ldavis_el3708818410653113608761643395_data);\n",
       "            })\n",
       "         });\n",
       "}\n",
       "</script>"
      ],
      "text/plain": [
       "PreparedData(topic_coordinates=              x         y  topics  cluster       Freq\n",
       "topic                                                \n",
       "0      0.268769 -0.058675       1        1  33.545792\n",
       "1      0.091026  0.089092       2        1  20.155739\n",
       "7     -0.145534 -0.229391       3        1  17.192325\n",
       "9     -0.013425  0.006006       4        1  10.487369\n",
       "5     -0.131298  0.195132       5        1   9.992714\n",
       "8     -0.021414  0.003250       6        1   3.144666\n",
       "2     -0.017135  0.000012       7        1   3.043886\n",
       "4     -0.014182 -0.000235       8        1   2.409516\n",
       "6     -0.008403 -0.002595       9        1   0.014192\n",
       "3     -0.008403 -0.002595      10        1   0.013801, topic_info=              Term        Freq       Total Category  logprob  loglift\n",
       "40             год  125.000000  125.000000  Default   30.000  30.0000\n",
       "468      экскурсия   82.000000   82.000000  Default   29.000  29.0000\n",
       "467       участник   38.000000   38.000000  Default   28.000  28.0000\n",
       "455       прогулка   34.000000   34.000000  Default   27.000  27.0000\n",
       "517         группа   27.000000   27.000000  Default   26.000  26.0000\n",
       "..             ...         ...         ...      ...      ...      ...\n",
       "25            весь    0.000352   28.281653  Topic10   -8.307  -2.4071\n",
       "26           ветвь    0.000352    0.991497  Topic10   -8.307   0.9436\n",
       "27   внеконкурсный    0.000352    0.991497  Topic10   -8.307   0.9436\n",
       "28    возглавившие    0.000352    0.830023  Topic10   -8.307   1.1214\n",
       "29        возрасти    0.000352    0.830028  Topic10   -8.307   1.1214\n",
       "\n",
       "[430 rows x 6 columns], token_table=      Topic      Freq           Term\n",
       "term                                \n",
       "3812      3  0.934244           club\n",
       "3402      3  0.929725  green_concert\n",
       "3403      6  0.540824           gspd\n",
       "3813      3  0.934244          opera\n",
       "8         2  0.765553           riga\n",
       "...     ...       ...            ...\n",
       "1827      3  0.956631            шоу\n",
       "468       1  0.997503      экскурсия\n",
       "769       1  0.980290    экскурсовод\n",
       "381       7  0.957077     экспозиция\n",
       "261       2  0.963282          яркий\n",
       "\n",
       "[296 rows x 3 columns], R=30, lambda_step=0.01, plot_opts={'xlab': 'PC1', 'ylab': 'PC2'}, topic_order=[1, 2, 8, 10, 6, 9, 3, 5, 7, 4])"
      ]
     },
     "execution_count": 64,
     "metadata": {},
     "output_type": "execute_result"
    }
   ],
   "source": [
    "pyLDAvis.enable_notebook()\n",
    "vis = gensimvis.prepare(lda_model, corpus, id2word)\n",
    "vis"
   ]
  },
  {
   "cell_type": "markdown",
   "id": "ad97d607",
   "metadata": {},
   "source": [
    "## Make recommendations"
   ]
  },
  {
   "cell_type": "code",
   "execution_count": 65,
   "id": "beacdd19",
   "metadata": {},
   "outputs": [
    {
     "name": "stderr",
     "output_type": "stream",
     "text": [
      "C:\\Users\\Danila\\anaconda3\\envs\\vkr\\lib\\site-packages\\ipykernel\\ipkernel.py:287: DeprecationWarning: `should_run_async` will not call `transform_cell` automatically in the future. Please pass the result to `transformed_cell` argument and any exception that happen during thetransform in `preprocessing_exc_tuple` in IPython 7.17 and above.\n",
      "  and should_run_async(code)\n"
     ]
    }
   ],
   "source": [
    "def generate_topic_vectors_for_texts(lda_model, corpus, n_topics, event_ids):\n",
    "    topic_vectors = {}\n",
    "    \n",
    "    for row, event_id in zip(lda_model[corpus], event_ids):\n",
    "        dict_row = {k: v for k, v in row[0]}\n",
    "        topic_vector = []\n",
    "        for i in range(n_topics):\n",
    "            if i in dict_row:\n",
    "                topic_vector.append(round(dict_row[i], 4))\n",
    "            else:\n",
    "                topic_vector.append(0)\n",
    "                \n",
    "        topic_vectors[event_id] = topic_vector\n",
    "        \n",
    "    return topic_vectors\n",
    "\n",
    "def calculat_user_features(event_topic_modeling_features_dict, users_events_df):\n",
    "    user_set = set(users_events_df['user_id'])\n",
    "    \n",
    "    user_vectors = {}\n",
    "    for user_id in user_set:\n",
    "        user_events = users_events_df[users_events_df['user_id'] == user_id]\n",
    "        user_favorite_events = user_events[user_events['is_favorite'] == True]['event_id'].values\n",
    "        user_not_favorite_events = user_events[user_events['is_favorite'] == False]['event_id'].values\n",
    "        \n",
    "        user_favorite_events_vector =  np.zeros(10) \n",
    "        for event_id in user_favorite_events:\n",
    "            user_favorite_events_vector += np.array(event_topic_modeling_features_dict[event_id])\n",
    "\n",
    "        user_favorite_events_vector /= len(user_favorite_events)\n",
    "        \n",
    "        user_not_favorite_events_vector = np.zeros(10) \n",
    "        for event_id in user_not_favorite_events:\n",
    "            user_not_favorite_events_vector += np.array(event_topic_modeling_features_dict[event_id])\n",
    "\n",
    "        user_not_favorite_events_vector /= len(user_not_favorite_events)\n",
    "        \n",
    "        user_vectors[user_id] = (user_favorite_events_vector, user_not_favorite_events_vector)\n",
    "    return user_vectors\n",
    "\n",
    "def calculate_recommendations(event_topic_modeling_features_dict, users_topic_vectors, n_similar):\n",
    "    user_favorite_ids_dict = {}\n",
    "    for user_id in users_topic_vectors:\n",
    "        user_favorite_events_dict = {}\n",
    "        user_not_favorite_events_dict = {}\n",
    "        for event_id in event_topic_modeling_features_dict:\n",
    "            a = users_topic_vectors[user_id][0]\n",
    "            c = users_topic_vectors[user_id][1]\n",
    "            b = event_topic_modeling_features_dict[event_id]\n",
    "            \n",
    "            user_favorite_events_dict[event_id] = dot(a, b)/(norm(a)*norm(b))\n",
    "            user_not_favorite_events_dict[event_id] = dot(c, b)/(norm(c)*norm(b))\n",
    "    \n",
    "        user_favorite_ids = list({k: v for k, v in sorted(user_favorite_events_dict.items(), key=lambda item: item[1], reverse=True)}.keys())\n",
    "        user_not_favorite_ids = list({k: v for k, v in sorted(user_not_favorite_events_dict.items(), key=lambda item: item[1], reverse=True)}.keys())\n",
    "        \n",
    "        top_worest_events = user_not_favorite_ids[:len(user_not_favorite_ids)//2]\n",
    "        \n",
    "        user_favorite_ids_dict[user_id] = [event_id for event_id in user_favorite_ids if event_id not in top_worest_events][:n_similar]\n",
    "        \n",
    "    return user_favorite_ids_dict\n"
   ]
  },
  {
   "cell_type": "code",
   "execution_count": 66,
   "id": "360319ed",
   "metadata": {},
   "outputs": [
    {
     "name": "stderr",
     "output_type": "stream",
     "text": [
      "C:\\Users\\Danila\\anaconda3\\envs\\vkr\\lib\\site-packages\\ipykernel\\ipkernel.py:287: DeprecationWarning: `should_run_async` will not call `transform_cell` automatically in the future. Please pass the result to `transformed_cell` argument and any exception that happen during thetransform in `preprocessing_exc_tuple` in IPython 7.17 and above.\n",
      "  and should_run_async(code)\n"
     ]
    }
   ],
   "source": [
    "event_topic_modeling_features_dict = generate_topic_vectors_for_texts(lda_model, corpus, 10, actual_events_df['id'].values)"
   ]
  },
  {
   "cell_type": "code",
   "execution_count": 67,
   "id": "e3614839",
   "metadata": {},
   "outputs": [
    {
     "name": "stderr",
     "output_type": "stream",
     "text": [
      "C:\\Users\\Danila\\anaconda3\\envs\\vkr\\lib\\site-packages\\ipykernel\\ipkernel.py:287: DeprecationWarning: `should_run_async` will not call `transform_cell` automatically in the future. Please pass the result to `transformed_cell` argument and any exception that happen during thetransform in `preprocessing_exc_tuple` in IPython 7.17 and above.\n",
      "  and should_run_async(code)\n",
      "<ipython-input-65-55c8ac97a40b>:30: RuntimeWarning: invalid value encountered in true_divide\n",
      "  user_favorite_events_vector /= len(user_favorite_events)\n"
     ]
    }
   ],
   "source": [
    "users_topic_vectors = calculat_user_features(event_topic_modeling_features_dict, cold_start_df[['user_id', 'event_id', 'is_favorite']])"
   ]
  },
  {
   "cell_type": "code",
   "execution_count": 68,
   "id": "e4d53ae7",
   "metadata": {},
   "outputs": [
    {
     "name": "stderr",
     "output_type": "stream",
     "text": [
      "C:\\Users\\Danila\\anaconda3\\envs\\vkr\\lib\\site-packages\\ipykernel\\ipkernel.py:287: DeprecationWarning: `should_run_async` will not call `transform_cell` automatically in the future. Please pass the result to `transformed_cell` argument and any exception that happen during thetransform in `preprocessing_exc_tuple` in IPython 7.17 and above.\n",
      "  and should_run_async(code)\n"
     ]
    }
   ],
   "source": [
    "user_recommendations = calculate_recommendations(event_topic_modeling_features_dict, users_topic_vectors, 15)"
   ]
  },
  {
   "cell_type": "code",
   "execution_count": 69,
   "id": "4c64cadd",
   "metadata": {},
   "outputs": [
    {
     "name": "stderr",
     "output_type": "stream",
     "text": [
      "C:\\Users\\Danila\\anaconda3\\envs\\vkr\\lib\\site-packages\\ipykernel\\ipkernel.py:287: DeprecationWarning: `should_run_async` will not call `transform_cell` automatically in the future. Please pass the result to `transformed_cell` argument and any exception that happen during thetransform in `preprocessing_exc_tuple` in IPython 7.17 and above.\n",
      "  and should_run_async(code)\n"
     ]
    }
   ],
   "source": [
    "id2title = {k: v for k, v in actual_events_df[['id', 'short_title']].values}"
   ]
  },
  {
   "cell_type": "code",
   "execution_count": 70,
   "id": "7e97ff96",
   "metadata": {},
   "outputs": [
    {
     "name": "stderr",
     "output_type": "stream",
     "text": [
      "C:\\Users\\Danila\\anaconda3\\envs\\vkr\\lib\\site-packages\\ipykernel\\ipkernel.py:287: DeprecationWarning: `should_run_async` will not call `transform_cell` automatically in the future. Please pass the result to `transformed_cell` argument and any exception that happen during thetransform in `preprocessing_exc_tuple` in IPython 7.17 and above.\n",
      "  and should_run_async(code)\n"
     ]
    },
    {
     "data": {
      "text/plain": [
       "['Космический джаз',\n",
       " 'Русские сказки',\n",
       " 'В гостях у Смешариков',\n",
       " 'Каста',\n",
       " 'Петербургский ресторанный фестиваль',\n",
       " 'Сергей Бобунец',\n",
       " 'Сектор Газа: Памяти Юрия Хоя',\n",
       " 'Смешной фестиваль',\n",
       " 'Музыка во дворце. Моцарт и Шопен',\n",
       " 'Ольга Максимова',\n",
       " 'Чиж & Co',\n",
       " 'Абстрактные миры Бориса Ошкукова',\n",
       " 'Mgzavrebi',\n",
       " 'Русское письмо. Книжица о книге',\n",
       " 'Вечеринки в Comedy Place']"
      ]
     },
     "execution_count": 70,
     "metadata": {},
     "output_type": "execute_result"
    }
   ],
   "source": [
    "[id2title[event_id] for event_id in user_recommendations[38089885]]"
   ]
  },
  {
   "cell_type": "code",
   "execution_count": 71,
   "id": "4cedbbb7",
   "metadata": {},
   "outputs": [
    {
     "name": "stderr",
     "output_type": "stream",
     "text": [
      "C:\\Users\\Danila\\anaconda3\\envs\\vkr\\lib\\site-packages\\ipykernel\\ipkernel.py:287: DeprecationWarning: `should_run_async` will not call `transform_cell` automatically in the future. Please pass the result to `transformed_cell` argument and any exception that happen during thetransform in `preprocessing_exc_tuple` in IPython 7.17 and above.\n",
      "  and should_run_async(code)\n"
     ]
    },
    {
     "data": {
      "text/html": [
       "<div>\n",
       "<style scoped>\n",
       "    .dataframe tbody tr th:only-of-type {\n",
       "        vertical-align: middle;\n",
       "    }\n",
       "\n",
       "    .dataframe tbody tr th {\n",
       "        vertical-align: top;\n",
       "    }\n",
       "\n",
       "    .dataframe thead th {\n",
       "        text-align: right;\n",
       "    }\n",
       "</style>\n",
       "<table border=\"1\" class=\"dataframe\">\n",
       "  <thead>\n",
       "    <tr style=\"text-align: right;\">\n",
       "      <th></th>\n",
       "      <th>user_id</th>\n",
       "      <th>event_id</th>\n",
       "      <th>is_favorite</th>\n",
       "      <th>survey_time</th>\n",
       "      <th>event_name</th>\n",
       "    </tr>\n",
       "  </thead>\n",
       "  <tbody>\n",
       "    <tr>\n",
       "      <th>966</th>\n",
       "      <td>38089885</td>\n",
       "      <td>115</td>\n",
       "      <td>True</td>\n",
       "      <td>09:19:36</td>\n",
       "      <td>Ползком по клубам и барам</td>\n",
       "    </tr>\n",
       "    <tr>\n",
       "      <th>972</th>\n",
       "      <td>38089885</td>\n",
       "      <td>43</td>\n",
       "      <td>True</td>\n",
       "      <td>09:19:36</td>\n",
       "      <td>Вечеринки в Comedy Place</td>\n",
       "    </tr>\n",
       "  </tbody>\n",
       "</table>\n",
       "</div>"
      ],
      "text/plain": [
       "      user_id  event_id  is_favorite survey_time                 event_name\n",
       "966  38089885       115         True    09:19:36  Ползком по клубам и барам\n",
       "972  38089885        43         True    09:19:36   Вечеринки в Comedy Place"
      ]
     },
     "execution_count": 71,
     "metadata": {},
     "output_type": "execute_result"
    }
   ],
   "source": [
    "cold_start_df[(cold_start_df['user_id'] == 38089885) & (cold_start_df['is_favorite'] == True)]"
   ]
  },
  {
   "cell_type": "code",
   "execution_count": null,
   "id": "bce84cd0",
   "metadata": {},
   "outputs": [],
   "source": []
  },
  {
   "cell_type": "code",
   "execution_count": 72,
   "id": "9a7519b3",
   "metadata": {},
   "outputs": [
    {
     "name": "stderr",
     "output_type": "stream",
     "text": [
      "C:\\Users\\Danila\\anaconda3\\envs\\vkr\\lib\\site-packages\\ipykernel\\ipkernel.py:287: DeprecationWarning: `should_run_async` will not call `transform_cell` automatically in the future. Please pass the result to `transformed_cell` argument and any exception that happen during thetransform in `preprocessing_exc_tuple` in IPython 7.17 and above.\n",
      "  and should_run_async(code)\n"
     ]
    }
   ],
   "source": [
    "def calculate_pk(k):\n",
    "    pk = 0\n",
    "    for idx, user_id in enumerate(cold_start_df['user_id'].unique()):\n",
    "        real_event_ids = cold_start_df[(cold_start_df['is_favorite'] == True) & (cold_start_df['user_id'] == user_id)]['event_id'].values\n",
    "    \n",
    "        for idx2, prediction_element_id in enumerate(user_recommendations[user_id]):\n",
    "            if idx2 == k:\n",
    "                break\n",
    "                \n",
    "            if prediction_element_id in real_event_ids:\n",
    "                pk += 1\n",
    "                \n",
    "    return pk / (k * 44)\n",
    "\n",
    "def calculate_apk(k, df, predictions):\n",
    "    apk_dict = collections.defaultdict(int)\n",
    "    \n",
    "    for idx, user_id in enumerate(df['user_id'].unique()):\n",
    "        real_event_ids = df[(df['is_favorite'] == True) & (df['user_id'] == user_id)]['event_id'].values\n",
    "        \n",
    "        for idx2, prediction_element_id in enumerate(predictions[user_id]):\n",
    "            if idx2 == k:\n",
    "                break\n",
    "                \n",
    "            if idx2 >= len(real_event_ids):\n",
    "                break\n",
    "            \n",
    "            if prediction_element_id == real_event_ids[idx2]:\n",
    "                apk_dict[idx2] += 1\n",
    "    \n",
    "    return sum([value * calculate_pk(idx + 1) for idx, value in enumerate(apk_dict.values())]) / k / 44\n",
    "\n",
    "def calculate_user_pk(k, real_user_event_ids, prediction_user_element_ids):\n",
    "    pk = 0\n",
    "    \n",
    "    for idx, prediction_element_id in enumerate(prediction_user_element_ids):\n",
    "        if idx == k:\n",
    "            break\n",
    "            \n",
    "        if prediction_element_id in real_user_event_ids:\n",
    "            pk += 1\n",
    "            \n",
    "    return pk / k\n",
    "\n",
    "def calculate_user_apk(k, real_user_event_ids, prediction_user_element_ids):\n",
    "    apk = 0\n",
    "    \n",
    "    for idx, prediction_element_id in enumerate(prediction_user_element_ids):\n",
    "        if idx == k:\n",
    "            break\n",
    "        \n",
    "        if idx >= len(real_user_event_ids):\n",
    "            break\n",
    "        \n",
    "        if prediction_element_id== real_user_event_ids[idx]:\n",
    "            apk += 1 * calculate_user_pk(idx + 1, real_user_event_ids, prediction_user_element_ids)\n",
    "            \n",
    "    return apk / k\n",
    "\n",
    "def calculate_mapk(k, df, predictions):\n",
    "    mapk = 0\n",
    "    \n",
    "    for idx, user_id in enumerate(df['user_id'].unique()):\n",
    "        real_user_event_ids = df[(df['is_favorite'] == True) & (df['user_id'] == user_id)]['event_id'].values\n",
    "        prediction_user_element_ids = predictions[user_id]\n",
    "        \n",
    "        mapk += calculate_user_apk(k, real_user_event_ids, prediction_user_element_ids)\n",
    "    \n",
    "    return mapk / 44"
   ]
  },
  {
   "cell_type": "code",
   "execution_count": 73,
   "id": "75c8ef3d",
   "metadata": {},
   "outputs": [
    {
     "name": "stderr",
     "output_type": "stream",
     "text": [
      "C:\\Users\\Danila\\anaconda3\\envs\\vkr\\lib\\site-packages\\ipykernel\\ipkernel.py:287: DeprecationWarning: `should_run_async` will not call `transform_cell` automatically in the future. Please pass the result to `transformed_cell` argument and any exception that happen during thetransform in `preprocessing_exc_tuple` in IPython 7.17 and above.\n",
      "  and should_run_async(code)\n"
     ]
    }
   ],
   "source": [
    "real_user_event_ids = []\n",
    "prediction_user_element_ids = []\n",
    "for user_id in cold_start_df['user_id'].unique():\n",
    "    real_user_event_ids.append(list(cold_start_df[(cold_start_df['is_favorite'] == True) & (cold_start_df['user_id'] == user_id)]['event_id'].values))\n",
    "    prediction_user_element_ids.append(user_recommendations[user_id])"
   ]
  },
  {
   "cell_type": "code",
   "execution_count": 59,
   "id": "f66e3513",
   "metadata": {},
   "outputs": [
    {
     "name": "stdout",
     "output_type": "stream",
     "text": [
      "5 topics map@10 0.06164\n",
      "5 topics map@5 0.06985\n"
     ]
    },
    {
     "name": "stderr",
     "output_type": "stream",
     "text": [
      "C:\\Users\\Danila\\anaconda3\\envs\\vkr\\lib\\site-packages\\ipykernel\\ipkernel.py:287: DeprecationWarning: `should_run_async` will not call `transform_cell` automatically in the future. Please pass the result to `transformed_cell` argument and any exception that happen during thetransform in `preprocessing_exc_tuple` in IPython 7.17 and above.\n",
      "  and should_run_async(code)\n"
     ]
    }
   ],
   "source": [
    "print(f'5 topics map@10 {round(metrics.mapk(real_user_event_ids, prediction_user_element_ids, 10), 5)}')\n",
    "print(f'5 topics map@5 {round(metrics.mapk(real_user_event_ids, prediction_user_element_ids, 5), 5)}')"
   ]
  },
  {
   "cell_type": "code",
   "execution_count": 74,
   "id": "596edb4c",
   "metadata": {},
   "outputs": [
    {
     "name": "stdout",
     "output_type": "stream",
     "text": [
      "10 topics map@10 0.07532\n",
      "10 topics map@5 0.08991\n"
     ]
    },
    {
     "name": "stderr",
     "output_type": "stream",
     "text": [
      "C:\\Users\\Danila\\anaconda3\\envs\\vkr\\lib\\site-packages\\ipykernel\\ipkernel.py:287: DeprecationWarning: `should_run_async` will not call `transform_cell` automatically in the future. Please pass the result to `transformed_cell` argument and any exception that happen during thetransform in `preprocessing_exc_tuple` in IPython 7.17 and above.\n",
      "  and should_run_async(code)\n"
     ]
    }
   ],
   "source": [
    "print(f'10 topics map@10 {round(metrics.mapk(real_user_event_ids, prediction_user_element_ids, 10), 5)}')\n",
    "print(f'10 topics map@5 {round(metrics.mapk(real_user_event_ids, prediction_user_element_ids, 5), 5)}')"
   ]
  },
  {
   "cell_type": "code",
   "execution_count": 424,
   "id": "56ddbc52",
   "metadata": {},
   "outputs": [
    {
     "name": "stderr",
     "output_type": "stream",
     "text": [
      "C:\\Users\\Danila\\anaconda3\\envs\\vkr\\lib\\site-packages\\ipykernel\\ipkernel.py:287: DeprecationWarning: `should_run_async` will not call `transform_cell` automatically in the future. Please pass the result to `transformed_cell` argument and any exception that happen during thetransform in `preprocessing_exc_tuple` in IPython 7.17 and above.\n",
      "  and should_run_async(code)\n"
     ]
    },
    {
     "data": {
      "text/plain": [
       "0.007681277056277056"
      ]
     },
     "execution_count": 424,
     "metadata": {},
     "output_type": "execute_result"
    }
   ],
   "source": [
    "calculate_mapk(10, cold_start_df, user_recommendations)"
   ]
  },
  {
   "cell_type": "code",
   "execution_count": 425,
   "id": "6ac02104",
   "metadata": {},
   "outputs": [
    {
     "name": "stderr",
     "output_type": "stream",
     "text": [
      "C:\\Users\\Danila\\anaconda3\\envs\\vkr\\lib\\site-packages\\ipykernel\\ipkernel.py:287: DeprecationWarning: `should_run_async` will not call `transform_cell` automatically in the future. Please pass the result to `transformed_cell` argument and any exception that happen during thetransform in `preprocessing_exc_tuple` in IPython 7.17 and above.\n",
      "  and should_run_async(code)\n"
     ]
    },
    {
     "data": {
      "text/plain": [
       "0.0018663911845730027"
      ]
     },
     "execution_count": 425,
     "metadata": {},
     "output_type": "execute_result"
    }
   ],
   "source": [
    "calculate_apk(10, cold_start_df, user_recommendations)"
   ]
  },
  {
   "cell_type": "code",
   "execution_count": null,
   "id": "9612cb26",
   "metadata": {},
   "outputs": [],
   "source": []
  }
 ],
 "metadata": {
  "kernelspec": {
   "display_name": "Python 3",
   "language": "python",
   "name": "python3"
  },
  "language_info": {
   "codemirror_mode": {
    "name": "ipython",
    "version": 3
   },
   "file_extension": ".py",
   "mimetype": "text/x-python",
   "name": "python",
   "nbconvert_exporter": "python",
   "pygments_lexer": "ipython3",
   "version": "3.9.4"
  }
 },
 "nbformat": 4,
 "nbformat_minor": 5
}
