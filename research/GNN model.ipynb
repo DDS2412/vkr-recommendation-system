{
 "cells": [
  {
   "cell_type": "code",
   "execution_count": 1,
   "id": "43d54185",
   "metadata": {},
   "outputs": [
    {
     "name": "stderr",
     "output_type": "stream",
     "text": [
      "Using backend: pytorch\n"
     ]
    }
   ],
   "source": [
    "from torch import nn\n",
    "import torch\n",
    "\n",
    "import dgl\n",
    "import networkx as nx\n",
    "\n",
    "import collections\n",
    "import math\n",
    "import ml_metrics as metrics\n",
    "import datetime\n",
    "from tqdm.notebook import trange, tqdm\n",
    "from sklearn.neighbors import NearestNeighbors\n",
    "import collections\n",
    "import pandas as pd\n",
    "import numpy as np"
   ]
  },
  {
   "cell_type": "markdown",
   "id": "5b648723",
   "metadata": {},
   "source": [
    "## Data preprocession"
   ]
  },
  {
   "cell_type": "code",
   "execution_count": 2,
   "id": "49465e1e",
   "metadata": {},
   "outputs": [],
   "source": [
    "def create_category_vector(category_map, category_ids_str):\n",
    "    result = []\n",
    "    \n",
    "    category_ids = category_ids_str.split(':')\n",
    "    \n",
    "    for category in category_map:\n",
    "        if str(category) in category_ids:\n",
    "            result.append(1)\n",
    "        else:\n",
    "            result.append(0)\n",
    "            \n",
    "    return result"
   ]
  },
  {
   "cell_type": "code",
   "execution_count": 3,
   "id": "e18352e4",
   "metadata": {},
   "outputs": [],
   "source": [
    "cold_start_df = pd.read_csv('2021-04-17_09 15 39_cold_start_data.csv',encoding='cp1251')\n",
    "cold_start_df.columns = ['user_id', 'event_id', 'is_favorite', 'survey_time']\n",
    "\n",
    "events_df = pd.read_csv('2021-04-17_11 59 03_cold_start_events.csv', sep=';', encoding='cp1251')\n",
    "events_df.columns = ['id', 'short_title', 'start_date', 'description', 'is_free', 'place_id', 'place_short_title', 'category_ids', \n",
    "                    'category_names', 'category_slags']\n",
    "\n",
    "actual_events_df = events_df[events_df['id'].isin(cold_start_df['event_id'].unique())]\n",
    "\n",
    "event_id_name_dict = {k: v for k, v in actual_events_df[['id', 'short_title']].values}\n",
    "\n",
    "cold_start_df['event_name'] = [event_id_name_dict[event_id] for event_id in cold_start_df['event_id']]"
   ]
  },
  {
   "cell_type": "code",
   "execution_count": 4,
   "id": "d3bb1118",
   "metadata": {},
   "outputs": [
    {
     "data": {
      "text/html": [
       "<div>\n",
       "<style scoped>\n",
       "    .dataframe tbody tr th:only-of-type {\n",
       "        vertical-align: middle;\n",
       "    }\n",
       "\n",
       "    .dataframe tbody tr th {\n",
       "        vertical-align: top;\n",
       "    }\n",
       "\n",
       "    .dataframe thead th {\n",
       "        text-align: right;\n",
       "    }\n",
       "</style>\n",
       "<table border=\"1\" class=\"dataframe\">\n",
       "  <thead>\n",
       "    <tr style=\"text-align: right;\">\n",
       "      <th></th>\n",
       "      <th>id</th>\n",
       "      <th>short_title</th>\n",
       "      <th>start_date</th>\n",
       "      <th>description</th>\n",
       "      <th>is_free</th>\n",
       "      <th>place_id</th>\n",
       "      <th>place_short_title</th>\n",
       "      <th>category_ids</th>\n",
       "      <th>category_names</th>\n",
       "      <th>category_slags</th>\n",
       "    </tr>\n",
       "  </thead>\n",
       "  <tbody>\n",
       "    <tr>\n",
       "      <th>0</th>\n",
       "      <td>1</td>\n",
       "      <td>«Ночь музеев — 2021»</td>\n",
       "      <td>2019-05-18</td>\n",
       "      <td>Только один раз в году бывает так, что музеи, ...</td>\n",
       "      <td>False</td>\n",
       "      <td>NaN</td>\n",
       "      <td>NaN</td>\n",
       "      <td>12:6:10:8:20</td>\n",
       "      <td>Вечеринки:Выставки:Детям:Фестивали:Экскурсии</td>\n",
       "      <td>party:exhibition:kids:festival:tour</td>\n",
       "    </tr>\n",
       "    <tr>\n",
       "      <th>1</th>\n",
       "      <td>2</td>\n",
       "      <td>«Ночь музеев — 2021»</td>\n",
       "      <td>2021-05-22</td>\n",
       "      <td>Только один раз в году бывает так, что музеи, ...</td>\n",
       "      <td>False</td>\n",
       "      <td>NaN</td>\n",
       "      <td>NaN</td>\n",
       "      <td>12:6:10:8:20</td>\n",
       "      <td>Вечеринки:Выставки:Детям:Фестивали:Экскурсии</td>\n",
       "      <td>party:exhibition:kids:festival:tour</td>\n",
       "    </tr>\n",
       "    <tr>\n",
       "      <th>2</th>\n",
       "      <td>3</td>\n",
       "      <td>День Победы в Петербурге</td>\n",
       "      <td>2019-05-09</td>\n",
       "      <td>76-ю годовщину Великой Победы Петербург отгуля...</td>\n",
       "      <td>False</td>\n",
       "      <td>636.0</td>\n",
       "      <td>Дворцовая площадь</td>\n",
       "      <td>17:3:9:8</td>\n",
       "      <td>Благотворительность:Концерты:Праздники:Фестивали</td>\n",
       "      <td>social-activity:concert:holiday:festival</td>\n",
       "    </tr>\n",
       "    <tr>\n",
       "      <th>3</th>\n",
       "      <td>4</td>\n",
       "      <td>День Победы в Петербурге</td>\n",
       "      <td>2021-05-09</td>\n",
       "      <td>76-ю годовщину Великой Победы Петербург отгуля...</td>\n",
       "      <td>False</td>\n",
       "      <td>636.0</td>\n",
       "      <td>Дворцовая площадь</td>\n",
       "      <td>17:3:9:8</td>\n",
       "      <td>Благотворительность:Концерты:Праздники:Фестивали</td>\n",
       "      <td>social-activity:concert:holiday:festival</td>\n",
       "    </tr>\n",
       "    <tr>\n",
       "      <th>4</th>\n",
       "      <td>5</td>\n",
       "      <td>«Библионочь – 2021»</td>\n",
       "      <td>2019-04-20</td>\n",
       "      <td>Бессонные ночи можно коротать не только в м...</td>\n",
       "      <td>False</td>\n",
       "      <td>NaN</td>\n",
       "      <td>NaN</td>\n",
       "      <td>12:10:4:8</td>\n",
       "      <td>Вечеринки:Детям:Обучение:Фестивали</td>\n",
       "      <td>party:kids:education:festival</td>\n",
       "    </tr>\n",
       "    <tr>\n",
       "      <th>...</th>\n",
       "      <td>...</td>\n",
       "      <td>...</td>\n",
       "      <td>...</td>\n",
       "      <td>...</td>\n",
       "      <td>...</td>\n",
       "      <td>...</td>\n",
       "      <td>...</td>\n",
       "      <td>...</td>\n",
       "      <td>...</td>\n",
       "      <td>...</td>\n",
       "    </tr>\n",
       "    <tr>\n",
       "      <th>3398</th>\n",
       "      <td>3399</td>\n",
       "      <td>Организация движения поездов</td>\n",
       "      <td>NaN</td>\n",
       "      <td>Экспозиция рассказывает о работе дежурных по с...</td>\n",
       "      <td>False</td>\n",
       "      <td>346.0</td>\n",
       "      <td>музей железнодорожного транспорта</td>\n",
       "      <td>6</td>\n",
       "      <td>Выставки</td>\n",
       "      <td>exhibition</td>\n",
       "    </tr>\n",
       "    <tr>\n",
       "      <th>3399</th>\n",
       "      <td>3400</td>\n",
       "      <td>История инженерных войск после 1917 года</td>\n",
       "      <td>NaN</td>\n",
       "      <td>Любая армия нуждается в  сапёрах, строителях ф...</td>\n",
       "      <td>False</td>\n",
       "      <td>310.0</td>\n",
       "      <td>Музей артиллерии</td>\n",
       "      <td>6</td>\n",
       "      <td>Выставки</td>\n",
       "      <td>exhibition</td>\n",
       "    </tr>\n",
       "    <tr>\n",
       "      <th>3400</th>\n",
       "      <td>3401</td>\n",
       "      <td>Железные дороги в Великой Отечественной войне ...</td>\n",
       "      <td>2012-11-27</td>\n",
       "      <td>Экспозиция посвящена подвигу железнодорожников...</td>\n",
       "      <td>False</td>\n",
       "      <td>346.0</td>\n",
       "      <td>музей железнодорожного транспорта</td>\n",
       "      <td>6</td>\n",
       "      <td>Выставки</td>\n",
       "      <td>exhibition</td>\n",
       "    </tr>\n",
       "    <tr>\n",
       "      <th>3401</th>\n",
       "      <td>3402</td>\n",
       "      <td>Железные дороги в Великой Отечественной войне ...</td>\n",
       "      <td>NaN</td>\n",
       "      <td>Экспозиция посвящена подвигу железнодорожников...</td>\n",
       "      <td>False</td>\n",
       "      <td>346.0</td>\n",
       "      <td>музей железнодорожного транспорта</td>\n",
       "      <td>6</td>\n",
       "      <td>Выставки</td>\n",
       "      <td>exhibition</td>\n",
       "    </tr>\n",
       "    <tr>\n",
       "      <th>3402</th>\n",
       "      <td>3403</td>\n",
       "      <td>Фонд изобразительного искусства Военно-морског...</td>\n",
       "      <td>NaN</td>\n",
       "      <td>Обширная и интереснейшая коллекция работ на мо...</td>\n",
       "      <td>False</td>\n",
       "      <td>536.0</td>\n",
       "      <td>Центральный военно-морской музей</td>\n",
       "      <td>6</td>\n",
       "      <td>Выставки</td>\n",
       "      <td>exhibition</td>\n",
       "    </tr>\n",
       "  </tbody>\n",
       "</table>\n",
       "<p>3403 rows × 10 columns</p>\n",
       "</div>"
      ],
      "text/plain": [
       "        id                                        short_title  start_date  \\\n",
       "0        1                               «Ночь музеев — 2021»  2019-05-18   \n",
       "1        2                               «Ночь музеев — 2021»  2021-05-22   \n",
       "2        3                           День Победы в Петербурге  2019-05-09   \n",
       "3        4                           День Победы в Петербурге  2021-05-09   \n",
       "4        5                                «Библионочь – 2021»  2019-04-20   \n",
       "...    ...                                                ...         ...   \n",
       "3398  3399                       Организация движения поездов         NaN   \n",
       "3399  3400           История инженерных войск после 1917 года         NaN   \n",
       "3400  3401  Железные дороги в Великой Отечественной войне ...  2012-11-27   \n",
       "3401  3402  Железные дороги в Великой Отечественной войне ...         NaN   \n",
       "3402  3403  Фонд изобразительного искусства Военно-морског...         NaN   \n",
       "\n",
       "                                            description  is_free  place_id  \\\n",
       "0     Только один раз в году бывает так, что музеи, ...    False       NaN   \n",
       "1     Только один раз в году бывает так, что музеи, ...    False       NaN   \n",
       "2     76-ю годовщину Великой Победы Петербург отгуля...    False     636.0   \n",
       "3     76-ю годовщину Великой Победы Петербург отгуля...    False     636.0   \n",
       "4        Бессонные ночи можно коротать не только в м...    False       NaN   \n",
       "...                                                 ...      ...       ...   \n",
       "3398  Экспозиция рассказывает о работе дежурных по с...    False     346.0   \n",
       "3399  Любая армия нуждается в  сапёрах, строителях ф...    False     310.0   \n",
       "3400  Экспозиция посвящена подвигу железнодорожников...    False     346.0   \n",
       "3401  Экспозиция посвящена подвигу железнодорожников...    False     346.0   \n",
       "3402  Обширная и интереснейшая коллекция работ на мо...    False     536.0   \n",
       "\n",
       "                      place_short_title  category_ids  \\\n",
       "0                                   NaN  12:6:10:8:20   \n",
       "1                                   NaN  12:6:10:8:20   \n",
       "2                     Дворцовая площадь      17:3:9:8   \n",
       "3                     Дворцовая площадь      17:3:9:8   \n",
       "4                                   NaN     12:10:4:8   \n",
       "...                                 ...           ...   \n",
       "3398  музей железнодорожного транспорта             6   \n",
       "3399                   Музей артиллерии             6   \n",
       "3400  музей железнодорожного транспорта             6   \n",
       "3401  музей железнодорожного транспорта             6   \n",
       "3402   Центральный военно-морской музей             6   \n",
       "\n",
       "                                        category_names  \\\n",
       "0         Вечеринки:Выставки:Детям:Фестивали:Экскурсии   \n",
       "1         Вечеринки:Выставки:Детям:Фестивали:Экскурсии   \n",
       "2     Благотворительность:Концерты:Праздники:Фестивали   \n",
       "3     Благотворительность:Концерты:Праздники:Фестивали   \n",
       "4                   Вечеринки:Детям:Обучение:Фестивали   \n",
       "...                                                ...   \n",
       "3398                                          Выставки   \n",
       "3399                                          Выставки   \n",
       "3400                                          Выставки   \n",
       "3401                                          Выставки   \n",
       "3402                                          Выставки   \n",
       "\n",
       "                                category_slags  \n",
       "0          party:exhibition:kids:festival:tour  \n",
       "1          party:exhibition:kids:festival:tour  \n",
       "2     social-activity:concert:holiday:festival  \n",
       "3     social-activity:concert:holiday:festival  \n",
       "4                party:kids:education:festival  \n",
       "...                                        ...  \n",
       "3398                                exhibition  \n",
       "3399                                exhibition  \n",
       "3400                                exhibition  \n",
       "3401                                exhibition  \n",
       "3402                                exhibition  \n",
       "\n",
       "[3403 rows x 10 columns]"
      ]
     },
     "execution_count": 4,
     "metadata": {},
     "output_type": "execute_result"
    }
   ],
   "source": [
    "events_df"
   ]
  },
  {
   "cell_type": "code",
   "execution_count": 5,
   "id": "e9ef371f",
   "metadata": {},
   "outputs": [
    {
     "name": "stderr",
     "output_type": "stream",
     "text": [
      "<ipython-input-5-a3d7e253e67c>:12: SettingWithCopyWarning: \n",
      "A value is trying to be set on a copy of a slice from a DataFrame.\n",
      "Try using .loc[row_indexer,col_indexer] = value instead\n",
      "\n",
      "See the caveats in the documentation: https://pandas.pydata.org/pandas-docs/stable/user_guide/indexing.html#returning-a-view-versus-a-copy\n",
      "  actual_events_df['id'] = new_ids\n",
      "<ipython-input-5-a3d7e253e67c>:13: SettingWithCopyWarning: \n",
      "A value is trying to be set on a copy of a slice from a DataFrame.\n",
      "Try using .loc[row_indexer,col_indexer] = value instead\n",
      "\n",
      "See the caveats in the documentation: https://pandas.pydata.org/pandas-docs/stable/user_guide/indexing.html#returning-a-view-versus-a-copy\n",
      "  actual_events_df['start_date'] = new_dates\n"
     ]
    }
   ],
   "source": [
    "uniqual_events_and_dates_df = actual_events_df.groupby(['short_title'])['start_date'].max().reset_index(name='date')\n",
    "uniqual_events_and_dates_map = {name: (idx, date) for idx, (name, date) in enumerate(uniqual_events_and_dates_df[['short_title', 'date']].values)}\n",
    "\n",
    "new_ids = []\n",
    "new_dates = []\n",
    "\n",
    "for short_title in actual_events_df['short_title'].values:\n",
    "    new_id, new_date = uniqual_events_and_dates_map[short_title]\n",
    "    new_ids.append(new_id)\n",
    "    new_dates.append(new_date)\n",
    "    \n",
    "actual_events_df['id'] = new_ids\n",
    "actual_events_df['start_date'] = new_dates\n",
    "\n",
    "actual_events_df = actual_events_df.drop_duplicates(subset=['id', 'short_title', 'start_date'], keep='last')\n",
    "\n",
    "new_ids = []\n",
    "for event_name in cold_start_df['event_name'].values:\n",
    "    new_id, new_date = uniqual_events_and_dates_map[event_name]\n",
    "    new_ids.append(new_id)\n",
    "    \n",
    "cold_start_df['event_id'] = new_ids"
   ]
  },
  {
   "cell_type": "code",
   "execution_count": 6,
   "id": "5336f8fe",
   "metadata": {},
   "outputs": [],
   "source": [
    "category_map = {}\n",
    "\n",
    "for category_ids_str, category_slags_str in actual_events_df.loc[:, ['category_ids', 'category_slags']].values:\n",
    "    \n",
    "    category_ids = category_ids_str.split(':')\n",
    "    category_slags = category_slags_str.split(':')\n",
    "    \n",
    "    for category_id, category_slag in zip(category_ids, category_slags):\n",
    "        category_map[int(category_id)] = category_slag \n",
    "        \n",
    "category_map = {k: v for k, v in sorted(category_map.items())}"
   ]
  },
  {
   "cell_type": "code",
   "execution_count": 7,
   "id": "9b8b58e6",
   "metadata": {},
   "outputs": [],
   "source": [
    "category_vectors = []\n",
    "\n",
    "for category_ids_str in actual_events_df.loc[:, ['category_ids']].values:\n",
    "    category_vectors.append(create_category_vector(category_map, category_ids_str[0]))\n",
    "\n",
    "category_vectors_columns = [f'category_{v}' for v in category_map.values()]\n",
    "\n",
    "category_feactures_dict = collections.defaultdict(list)\n",
    "for idx, v in enumerate(category_map.values()):\n",
    "    category_feactures_dict[f'category_{v}'] = [cat_vector[idx] for cat_vector in category_vectors]"
   ]
  },
  {
   "cell_type": "code",
   "execution_count": 8,
   "id": "d17fb9a4",
   "metadata": {},
   "outputs": [],
   "source": [
    "event_features_df = pd.DataFrame()\n",
    "\n",
    "event_features_df['id'] = actual_events_df['id']\n",
    "\n",
    "for category, values in category_feactures_dict.items():\n",
    "    event_features_df[category] = values\n",
    "    \n",
    "event_features_df['is_free'] = [1 if is_free else 0 for is_free in actual_events_df['is_free']]\n",
    "\n",
    "event_features_df['weekday'] = [datetime.datetime.strptime(weekday, \"%Y-%m-%d\").date().weekday() + 1 for weekday in actual_events_df['start_date']]"
   ]
  },
  {
   "cell_type": "markdown",
   "id": "ca03cd35",
   "metadata": {},
   "source": [
    "## Graph building"
   ]
  },
  {
   "cell_type": "code",
   "execution_count": 12,
   "id": "6adbaabe",
   "metadata": {},
   "outputs": [],
   "source": [
    "def create_graph(aggregated_group, key_column, G=None):\n",
    "    for group in aggregated_group.groups:\n",
    "        value = aggregated_group.get_group(group)[key_column].values\n",
    "        \n",
    "        for i in range(len(value)):       \n",
    "            for j in range(i+1, len(value)):\n",
    "                if G.has_edge(value[i], value[j]):\n",
    "                    G[value[i]][value[j]]['weight'] += 1\n",
    "                else:\n",
    "                    G.add_edge(value[i], value[j], weight=1)\n",
    "    return G"
   ]
  },
  {
   "cell_type": "code",
   "execution_count": 10,
   "id": "ae7ae251",
   "metadata": {},
   "outputs": [],
   "source": [
    "short_titles = []\n",
    "for event_id in event_features_df['id']:\n",
    "    short_titles.append(list(actual_events_df[actual_events_df['id'] == event_id]['short_title'].values)[0])"
   ]
  },
  {
   "cell_type": "code",
   "execution_count": 13,
   "id": "4480c820",
   "metadata": {},
   "outputs": [],
   "source": [
    "G = nx.Graph(name='G')\n",
    "\n",
    "for event_id, short_title in zip(event_features_df['id'].unique(), short_titles):\n",
    "    G.add_node(event_id, name=short_title)\n",
    "    \n",
    "negative_group = cold_start_df[cold_start_df['is_favorite'] == False].groupby('user_id')\n",
    "G = create_graph(negative_group, 'event_id', G)\n",
    "\n",
    "positive_group = cold_start_df[cold_start_df['is_favorite'] == True].groupby('user_id')\n",
    "G = create_graph(positive_group, 'event_id', G)"
   ]
  },
  {
   "cell_type": "markdown",
   "id": "edf285c4",
   "metadata": {},
   "source": [
    "#### Создана матрица с лейблами, если -1, то значение для пользователя неопределено"
   ]
  },
  {
   "cell_type": "code",
   "execution_count": 17,
   "id": "cadd7f5c",
   "metadata": {},
   "outputs": [],
   "source": [
    "label_matrix = []\n",
    "for idx, node in enumerate(list(G.nodes())):\n",
    "    pos_users_list = cold_start_df[(cold_start_df['is_favorite'] == True) & (cold_start_df['event_id'] == node)]['user_id'].values\n",
    "    neg_users_list = cold_start_df[(cold_start_df['is_favorite'] == False) & (cold_start_df['event_id'] == node)]['user_id'].values\n",
    "    \n",
    "    sublist = []\n",
    "    for user_id in cold_start_df['user_id'].unique():\n",
    "        if user_id in pos_users_list:\n",
    "            sublist.append(1)\n",
    "        elif user_id in neg_users_list:\n",
    "            sublist.append(0)\n",
    "        else:\n",
    "            sublist.append(-1)\n",
    "    \n",
    "    label_matrix.append(sublist)"
   ]
  },
  {
   "cell_type": "code",
   "execution_count": 18,
   "id": "cc8a407b",
   "metadata": {},
   "outputs": [],
   "source": [
    "adjacency_matrix = np.array(nx.attr_matrix(G, node_attr='name')[0]) # матрица смежностей\n",
    "\n",
    "nodes = np.array(nx.attr_matrix(G, node_attr='name')[1]) # Список нод"
   ]
  },
  {
   "cell_type": "code",
   "execution_count": 19,
   "id": "cb6111c1",
   "metadata": {},
   "outputs": [
    {
     "data": {
      "text/plain": [
       "44"
      ]
     },
     "execution_count": 19,
     "metadata": {},
     "output_type": "execute_result"
    }
   ],
   "source": [
    "cold_start_df['user_id'].nunique()"
   ]
  },
  {
   "cell_type": "markdown",
   "id": "197b1c6d",
   "metadata": {},
   "source": [
    "## Model training"
   ]
  },
  {
   "cell_type": "code",
   "execution_count": 206,
   "id": "0b147b8f",
   "metadata": {},
   "outputs": [],
   "source": [
    "class GraphLayer(nn.Module):\n",
    "    def __init__(self, in_features, out_features):\n",
    "        super(GraphLayer, self).__init__()\n",
    "        \n",
    "        self.in_features = in_features\n",
    "        self.out_features = out_features\n",
    "        self.weight = nn.Parameter(torch.FloatTensor(self.in_features, self.out_features))\n",
    "        self.bias = nn.Parameter(torch.FloatTensor(self.out_features))\n",
    "        self.reset_parameters()\n",
    "        \n",
    "    def reset_parameters(self):\n",
    "        stdv = 0.01\n",
    "        self.weight.data.uniform_(-stdv, stdv)\n",
    "        self.bias.data.uniform_(-stdv, stdv)\n",
    "        \n",
    "    def forward(self, input_data, adj):\n",
    "        support = torch.mm(input_data, self.weight)\n",
    "        output = torch.spmm(adj, support)\n",
    "        \n",
    "        return output + self.bias"
   ]
  },
  {
   "cell_type": "code",
   "execution_count": 207,
   "id": "09d42042",
   "metadata": {},
   "outputs": [],
   "source": [
    "class GCN(nn.Module):\n",
    "    def __init__(self, n_feats, n_hidden, n_class, dropout):\n",
    "        super(GCN, self).__init__()\n",
    "        \n",
    "        self.gc1 = GraphLayer(n_feats, n_hidden)\n",
    "        self.gc2 = GraphLayer(n_hidden, n_hidden // 2)\n",
    "        self.gc3 = GraphLayer(n_hidden // 2, n_class)\n",
    "        self.dropout = dropout\n",
    "    \n",
    "    def calculate_score(self, result_labels, real_labels):\n",
    "        getting_indexes = [index for index, val in enumerate(real_labels) if val != -1.]\n",
    "        real_labels = real_labels[getting_indexes]\n",
    "        result_labels = result_labels[getting_indexes]\n",
    "        \n",
    "        predicts = nn.functional.sigmoid(result_labels).round().type_as(real_labels)\n",
    "        correct_result = predicts.eq(real_labels).double()\n",
    "        correct_result = correct_result.sum()        \n",
    "        \n",
    "        return correct_result / len(real_labels)\n",
    "    \n",
    "    def forward(self, x, adj):\n",
    "        x = nn.functional.relu(self.gc1(x, adj))\n",
    "        x = nn.functional.dropout(x, self.dropout // 2, training=self.training)\n",
    "        x_embed = nn.functional.relu(self.gc2(x, adj))\n",
    "        x = nn.functional.dropout(x_embed, self.dropout, training=self.training)\n",
    "        x = self.gc3(x, adj)\n",
    "        \n",
    "        return x, x_embed\n",
    "    \n",
    "    def __fit(self, adjacency_matrix, features_matrix, label_matrix, epoch, verbose=False):\n",
    "        self.train()\n",
    "        self.optimizer.zero_grad()\n",
    "        \n",
    "        output, _ = self(features_matrix, adjacency_matrix)\n",
    "\n",
    "        loss_train = self.loss(output, label_matrix)\n",
    "        score_train = self.calculate_score(output.view(-1), label_matrix.view(-1))\n",
    "        \n",
    "        loss_train.backward()\n",
    "        self.optimizer.step()\n",
    "        \n",
    "        self.eval()\n",
    "        \n",
    "        output, _ = self(features_matrix, adjacency_matrix)\n",
    "        \n",
    "        loss_val = self.loss(output, label_matrix)\n",
    "        score_val = self.calculate_score(output.view(-1), label_matrix.view(-1))\n",
    "    \n",
    "        if verbose:\n",
    "            print(f'{epoch+1}) train loss: {round(loss_train.item(), 3)}\\ttrain accuracy: {round(score_train.item(), 3)}\\t val loss: {round(loss_val.item(), 3)}\\tval accuracy: {round(score_val.item(),3)}\\n')\n",
    "    \n",
    "    def predict_at_num(self, features_matrix, adjacency_matrix, num):\n",
    "        predicts_values, _ = self(features_matrix, adjacency_matrix)\n",
    "        predicts_values = predicts_values.detach().numpy()\n",
    "        _, predict = self.knn.kneighbors([predicts_values.T[num]])\n",
    "\n",
    "        return [self.node_map[pred][0] for pred in predict[0]]\n",
    "    \n",
    "    def predict(self, features_matrix, adjacency_matrix):\n",
    "        predicts_values, _ = self(features_matrix, adjacency_matrix)\n",
    "        predicts_values = predicts_values.detach().numpy().T\n",
    "        \n",
    "        results = []\n",
    "        for predict_vector in predicts_values:\n",
    "            _, predict = self.knn.kneighbors([predict_vector])\n",
    "            results.append([self.node_map[pred] for pred in predict[0]])\n",
    "\n",
    "        return results\n",
    "        \n",
    "    def fit(self, adjacency_matrix, features_matrix, label_matrix, nodes, nodes_name, n_epoch=1, learing_rait=0.01, weight_decay=0.01, verbose=False, k_elements=10):\n",
    "        self.optimizer = torch.optim.Adam(self.parameters(), lr=learing_rait, weight_decay=weight_decay)\n",
    "        self.loss = nn.modules.BCEWithLogitsLoss()\n",
    "        \n",
    "        for epoch in range(n_epoch):\n",
    "            self.__fit(adjacency_matrix, features_matrix, label_matrix, epoch, verbose)\n",
    "            learing_rait /= 2\n",
    "            \n",
    "            self.optimizer = torch.optim.Adam(self.parameters(), lr=learing_rait, weight_decay=weight_decay)\n",
    "            \n",
    "        self.node_map = {idx: (node_id, name) for idx, (node_id, name) in enumerate(zip(nodes, nodes_name))}\n",
    "        \n",
    "        vectors, _ = self(features_matrix, adjacency_matrix)\n",
    "        self.knn = NearestNeighbors(n_neighbors=k_elements, algorithm='ball_tree').fit(vectors.detach().numpy().T)"
   ]
  },
  {
   "cell_type": "markdown",
   "id": "020a511f",
   "metadata": {},
   "source": [
    "## Нужно отсортировать фичи в том порядке, в котором они были заданы в нодах"
   ]
  },
  {
   "cell_type": "code",
   "execution_count": 198,
   "id": "b72c8775",
   "metadata": {},
   "outputs": [],
   "source": [
    "event_features_without_id_tensor = torch.FloatTensor(event_features_df.drop(['id', 'weekday'], axis=1).values)\n",
    "\n",
    "adjacency_matrix_tensor = torch.FloatTensor(adjacency_matrix)\n",
    "\n",
    "label_matrix_tensor = torch.FloatTensor(label_matrix)"
   ]
  },
  {
   "cell_type": "code",
   "execution_count": 208,
   "id": "650e66f0",
   "metadata": {},
   "outputs": [
    {
     "name": "stderr",
     "output_type": "stream",
     "text": [
      "C:\\Users\\Danila\\anaconda3\\envs\\vkr\\lib\\site-packages\\torch\\nn\\functional.py:1709: UserWarning: nn.functional.sigmoid is deprecated. Use torch.sigmoid instead.\n",
      "  warnings.warn(\"nn.functional.sigmoid is deprecated. Use torch.sigmoid instead.\")\n"
     ]
    }
   ],
   "source": [
    "model = GCN(13, 400, 44, 0.33)\n",
    "\n",
    "model.fit(adjacency_matrix_tensor, event_features_without_id_tensor, label_matrix_tensor, nodes, np.array(G.nodes), n_epoch=100, learing_rait=0.001, verbose=False)"
   ]
  },
  {
   "cell_type": "code",
   "execution_count": 209,
   "id": "aa4cf182",
   "metadata": {},
   "outputs": [
    {
     "data": {
      "text/plain": [
       "['GSPD',\n",
       " 'Ползком по клубам и барам',\n",
       " 'экскурсия в Петергоф',\n",
       " 'Опера-гала',\n",
       " 'Экскурсия в особняк Матильды Кшесинской',\n",
       " 'Мари Краймбрери',\n",
       " 'Дворец Шувалова',\n",
       " 'Григорий Лепс',\n",
       " 'Орф. Кармина Бурана',\n",
       " 'По рок-местам']"
      ]
     },
     "execution_count": 209,
     "metadata": {},
     "output_type": "execute_result"
    }
   ],
   "source": [
    "model.predict_at_num(event_features_without_id_tensor, adjacency_matrix_tensor, 32)"
   ]
  },
  {
   "cell_type": "code",
   "execution_count": 201,
   "id": "08fa6c84",
   "metadata": {},
   "outputs": [
    {
     "data": {
      "text/plain": [
       "array([90217929, 48809944, 23573591, 19986396, 70081526, 90432167,\n",
       "       12198841, 91041459, 79290094, 70208099, 93117857, 97480214,\n",
       "       59771642, 11957260, 44434193,  9235193, 44227856, 90800104,\n",
       "       29771783, 95320616, 89294496, 12455543, 94173382,  8901930,\n",
       "       84514373, 58912127, 72147781, 88008390, 57692221, 30762396,\n",
       "       77912307, 95130035, 38089885, 90441422, 93458070, 95927257,\n",
       "       99414675, 57670421, 30532386, 72898140, 26578059, 31206380,\n",
       "       99356768, 89810864], dtype=int64)"
      ]
     },
     "execution_count": 201,
     "metadata": {},
     "output_type": "execute_result"
    }
   ],
   "source": [
    "cold_start_df['user_id'].unique()"
   ]
  },
  {
   "cell_type": "code",
   "execution_count": 202,
   "id": "c7ecd64e",
   "metadata": {},
   "outputs": [
    {
     "data": {
      "text/html": [
       "<div>\n",
       "<style scoped>\n",
       "    .dataframe tbody tr th:only-of-type {\n",
       "        vertical-align: middle;\n",
       "    }\n",
       "\n",
       "    .dataframe tbody tr th {\n",
       "        vertical-align: top;\n",
       "    }\n",
       "\n",
       "    .dataframe thead th {\n",
       "        text-align: right;\n",
       "    }\n",
       "</style>\n",
       "<table border=\"1\" class=\"dataframe\">\n",
       "  <thead>\n",
       "    <tr style=\"text-align: right;\">\n",
       "      <th></th>\n",
       "      <th>user_id</th>\n",
       "      <th>event_id</th>\n",
       "      <th>is_favorite</th>\n",
       "      <th>survey_time</th>\n",
       "      <th>event_name</th>\n",
       "    </tr>\n",
       "  </thead>\n",
       "  <tbody>\n",
       "    <tr>\n",
       "      <th>966</th>\n",
       "      <td>38089885</td>\n",
       "      <td>115</td>\n",
       "      <td>True</td>\n",
       "      <td>09:19:36</td>\n",
       "      <td>Ползком по клубам и барам</td>\n",
       "    </tr>\n",
       "    <tr>\n",
       "      <th>972</th>\n",
       "      <td>38089885</td>\n",
       "      <td>43</td>\n",
       "      <td>True</td>\n",
       "      <td>09:19:36</td>\n",
       "      <td>Вечеринки в Comedy Place</td>\n",
       "    </tr>\n",
       "  </tbody>\n",
       "</table>\n",
       "</div>"
      ],
      "text/plain": [
       "      user_id  event_id  is_favorite survey_time                 event_name\n",
       "966  38089885       115         True    09:19:36  Ползком по клубам и барам\n",
       "972  38089885        43         True    09:19:36   Вечеринки в Comedy Place"
      ]
     },
     "execution_count": 202,
     "metadata": {},
     "output_type": "execute_result"
    }
   ],
   "source": [
    "cold_start_df[(cold_start_df['user_id'] == 38089885)  & (cold_start_df['is_favorite'] == True)]"
   ]
  },
  {
   "cell_type": "code",
   "execution_count": 210,
   "id": "98b7ccba",
   "metadata": {},
   "outputs": [],
   "source": [
    "result = model.predict(event_features_without_id_tensor, adjacency_matrix_tensor)"
   ]
  },
  {
   "cell_type": "code",
   "execution_count": 211,
   "id": "026d2113",
   "metadata": {},
   "outputs": [
    {
     "name": "stdout",
     "output_type": "stream",
     "text": [
      "5 topics map@10 0.0528\n",
      "5 topics map@5 0.058\n"
     ]
    }
   ],
   "source": [
    "real_user_event_ids = []\n",
    "prediction_user_element_ids = []\n",
    "\n",
    "for idx, user_id in enumerate(cold_start_df['user_id'].unique()):\n",
    "    real_user_event_ids.append(list(cold_start_df[(cold_start_df['is_favorite'] == True) & (cold_start_df['user_id'] == user_id)]['event_id'].values))\n",
    "    prediction_user_element_ids.append([v for k, v in result[idx]])\n",
    "    \n",
    "print(f'5 topics map@10 {round(metrics.mapk(real_user_event_ids, prediction_user_element_ids, 10), 4)}')\n",
    "print(f'5 topics map@5 {round(metrics.mapk(real_user_event_ids, prediction_user_element_ids, 5), 4)}')"
   ]
  },
  {
   "cell_type": "markdown",
   "id": "74b56290",
   "metadata": {},
   "source": [
    "## Функции вычислений метрик качества"
   ]
  },
  {
   "cell_type": "code",
   "execution_count": 182,
   "id": "6434dfb2",
   "metadata": {},
   "outputs": [],
   "source": [
    "def calculate_pk(k):\n",
    "    pk = 0\n",
    "    for idx, user_id in enumerate(cold_start_df['user_id'].unique()):\n",
    "        real_event_ids = cold_start_df[(cold_start_df['is_favorite'] == True) & (cold_start_df['user_id'] == user_id)]['event_id'].values\n",
    "    \n",
    "        for idx2, (name, prediction_element_id) in enumerate(result[idx]):\n",
    "            if idx2 == k:\n",
    "                break\n",
    "                \n",
    "            if prediction_element_id in real_event_ids:\n",
    "                pk += 1\n",
    "                \n",
    "    return pk / (k * 44)"
   ]
  },
  {
   "cell_type": "code",
   "execution_count": 212,
   "id": "53fd88e9",
   "metadata": {},
   "outputs": [
    {
     "data": {
      "text/plain": [
       "0.0636"
      ]
     },
     "execution_count": 212,
     "metadata": {},
     "output_type": "execute_result"
    }
   ],
   "source": [
    "round(calculate_pk(10), 4)"
   ]
  },
  {
   "cell_type": "code",
   "execution_count": 68,
   "id": "c47a602d",
   "metadata": {},
   "outputs": [],
   "source": [
    "def calculate_apk(k, df, predictions):\n",
    "    apk_dict = collections.defaultdict(int)\n",
    "    \n",
    "    for idx, user_id in enumerate(df['user_id'].unique()):\n",
    "        real_event_ids = df[(df['is_favorite'] == True) & (df['user_id'] == user_id)]['event_id'].values\n",
    "        \n",
    "        for idx2, (name, prediction_element_id) in enumerate(predictions[idx]):\n",
    "            if idx2 == k:\n",
    "                break\n",
    "                \n",
    "            if idx2 >= len(real_event_ids):\n",
    "                break\n",
    "            \n",
    "            if prediction_element_id == real_event_ids[idx2]:\n",
    "                apk_dict[idx2] += 1\n",
    "    \n",
    "    return sum([value * calculate_pk(idx + 1) for idx, value in enumerate(apk_dict.values())]) / k / 44"
   ]
  },
  {
   "cell_type": "code",
   "execution_count": 69,
   "id": "5a2ad808",
   "metadata": {},
   "outputs": [],
   "source": [
    "def calculate_user_pk(k, real_user_event_ids, prediction_user_element_ids):\n",
    "    pk = 0\n",
    "    \n",
    "    for idx, prediction_element_id in enumerate(prediction_user_element_ids):\n",
    "        if idx == k:\n",
    "            break\n",
    "            \n",
    "        if prediction_element_id[1] in real_user_event_ids:\n",
    "            pk += 1\n",
    "            \n",
    "    return pk / k"
   ]
  },
  {
   "cell_type": "code",
   "execution_count": 70,
   "id": "91248e80",
   "metadata": {},
   "outputs": [],
   "source": [
    "def calculate_user_apk(k, real_user_event_ids, prediction_user_element_ids):\n",
    "    apk = 0\n",
    "    \n",
    "    for idx, prediction_element_id in enumerate(prediction_user_element_ids):\n",
    "        if idx == k:\n",
    "            break\n",
    "        \n",
    "        if idx >= len(real_user_event_ids):\n",
    "            break\n",
    "        \n",
    "        if prediction_element_id[1] == real_user_event_ids[idx]:\n",
    "            apk += 1 * calculate_user_pk(idx + 1, real_user_event_ids, prediction_user_element_ids)\n",
    "            \n",
    "    return apk / k"
   ]
  },
  {
   "cell_type": "code",
   "execution_count": 71,
   "id": "5fa6ea06",
   "metadata": {},
   "outputs": [],
   "source": [
    "def calculate_mapk(k, df, predictions):\n",
    "    mapk = 0\n",
    "    \n",
    "    for idx, user_id in enumerate(df['user_id'].unique()):\n",
    "        real_user_event_ids = df[(df['is_favorite'] == True) & (df['user_id'] == user_id)]['event_id'].values\n",
    "        prediction_user_element_ids = predictions[idx]\n",
    "        \n",
    "        mapk += calculate_user_apk(k, real_user_event_ids, prediction_user_element_ids)\n",
    "    \n",
    "    return mapk / 44"
   ]
  },
  {
   "cell_type": "code",
   "execution_count": 73,
   "id": "b552cefb",
   "metadata": {},
   "outputs": [],
   "source": [
    "real_user_event_ids = []\n",
    "prediction_user_element_ids = []\n",
    "\n",
    "for idx, user_id in enumerate(cold_start_df['user_id'].unique()):\n",
    "    real_user_event_ids.append(list(cold_start_df[(cold_start_df['is_favorite'] == True) & (cold_start_df['user_id'] == user_id)]['event_id'].values))\n",
    "    prediction_user_element_ids.append([v for k, v in result[idx]])\n",
    "    \n",
    "print(f'5 topics map@10 {round(metrics.mapk(real_user_event_ids, prediction_user_element_ids, 10), 5)}')\n",
    "print(f'5 topics map@5 {round(metrics.mapk(real_user_event_ids, prediction_user_element_ids, 5), 5)}')"
   ]
  },
  {
   "cell_type": "code",
   "execution_count": 74,
   "id": "60715632",
   "metadata": {},
   "outputs": [
    {
     "name": "stdout",
     "output_type": "stream",
     "text": [
      "5 topics map@10 0.04541\n",
      "5 topics map@5 0.04881\n"
     ]
    }
   ],
   "source": [
    "print(f'5 topics map@10 {round(metrics.mapk(real_user_event_ids, prediction_user_element_ids, 10), 5)}')\n",
    "print(f'5 topics map@5 {round(metrics.mapk(real_user_event_ids, prediction_user_element_ids, 5), 5)}')"
   ]
  },
  {
   "cell_type": "code",
   "execution_count": null,
   "id": "f2af014b",
   "metadata": {},
   "outputs": [],
   "source": []
  }
 ],
 "metadata": {
  "kernelspec": {
   "display_name": "Python 3",
   "language": "python",
   "name": "python3"
  },
  "language_info": {
   "codemirror_mode": {
    "name": "ipython",
    "version": 3
   },
   "file_extension": ".py",
   "mimetype": "text/x-python",
   "name": "python",
   "nbconvert_exporter": "python",
   "pygments_lexer": "ipython3",
   "version": "3.9.4"
  }
 },
 "nbformat": 4,
 "nbformat_minor": 5
}
